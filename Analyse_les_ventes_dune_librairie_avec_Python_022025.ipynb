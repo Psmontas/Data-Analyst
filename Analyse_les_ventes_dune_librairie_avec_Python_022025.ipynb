{
 "cells": [
  {
   "cell_type": "markdown",
   "id": "737cbba2",
   "metadata": {},
   "source": [
    "# Projet 6 - Analyse les ventes d'une librairie Lapage"
   ]
  },
  {
   "cell_type": "code",
   "execution_count": 1,
   "id": "1445d30c-064e-4b23-b848-75555763a916",
   "metadata": {},
   "outputs": [],
   "source": [
    "import pandas as pd\n",
    "from pandas.core.resample import Grouper\n",
    "import numpy as np\n",
    "from scipy import stats\n",
    "import matplotlib.pyplot as plt\n",
    "import seaborn as sns\n",
    "from scipy.stats import kruskal, spearmanr, ttest_ind, chi2_contingency, pearsonr, shapiro\n",
    "import datetime as dt\n",
    "import math as mth\n",
    "from statsmodels.tsa.seasonal import seasonal_decompose\n",
    "\n"
   ]
  },
  {
   "cell_type": "code",
   "execution_count": 2,
   "id": "c6da1a01-ca04-4bf2-8d73-112b00f2e460",
   "metadata": {},
   "outputs": [],
   "source": [
    "#Importation de fichiers\n",
    "customers = pd.read_csv('customers.csv', sep=\";\")\n",
    "products = pd.read_csv('products.csv', sep=\";\")\n",
    "Transactions = pd.read_csv('Transactions.csv', sep=\";\")"
   ]
  },
  {
   "cell_type": "code",
   "execution_count": 3,
   "id": "d81914b2-c900-4779-af40-5b4c431b152b",
   "metadata": {},
   "outputs": [
    {
     "data": {
      "text/html": [
       "<div>\n",
       "<style scoped>\n",
       "    .dataframe tbody tr th:only-of-type {\n",
       "        vertical-align: middle;\n",
       "    }\n",
       "\n",
       "    .dataframe tbody tr th {\n",
       "        vertical-align: top;\n",
       "    }\n",
       "\n",
       "    .dataframe thead th {\n",
       "        text-align: right;\n",
       "    }\n",
       "</style>\n",
       "<table border=\"1\" class=\"dataframe\">\n",
       "  <thead>\n",
       "    <tr style=\"text-align: right;\">\n",
       "      <th></th>\n",
       "      <th>client_id</th>\n",
       "      <th>sex</th>\n",
       "      <th>birth</th>\n",
       "    </tr>\n",
       "  </thead>\n",
       "  <tbody>\n",
       "    <tr>\n",
       "      <th>0</th>\n",
       "      <td>c_4410</td>\n",
       "      <td>f</td>\n",
       "      <td>1967</td>\n",
       "    </tr>\n",
       "    <tr>\n",
       "      <th>1</th>\n",
       "      <td>c_7839</td>\n",
       "      <td>f</td>\n",
       "      <td>1975</td>\n",
       "    </tr>\n",
       "    <tr>\n",
       "      <th>2</th>\n",
       "      <td>c_1699</td>\n",
       "      <td>f</td>\n",
       "      <td>1984</td>\n",
       "    </tr>\n",
       "    <tr>\n",
       "      <th>3</th>\n",
       "      <td>c_5961</td>\n",
       "      <td>f</td>\n",
       "      <td>1962</td>\n",
       "    </tr>\n",
       "    <tr>\n",
       "      <th>4</th>\n",
       "      <td>c_5320</td>\n",
       "      <td>m</td>\n",
       "      <td>1943</td>\n",
       "    </tr>\n",
       "    <tr>\n",
       "      <th>...</th>\n",
       "      <td>...</td>\n",
       "      <td>...</td>\n",
       "      <td>...</td>\n",
       "    </tr>\n",
       "    <tr>\n",
       "      <th>8616</th>\n",
       "      <td>c_7920</td>\n",
       "      <td>m</td>\n",
       "      <td>1956</td>\n",
       "    </tr>\n",
       "    <tr>\n",
       "      <th>8617</th>\n",
       "      <td>c_7403</td>\n",
       "      <td>f</td>\n",
       "      <td>1970</td>\n",
       "    </tr>\n",
       "    <tr>\n",
       "      <th>8618</th>\n",
       "      <td>c_5119</td>\n",
       "      <td>m</td>\n",
       "      <td>1974</td>\n",
       "    </tr>\n",
       "    <tr>\n",
       "      <th>8619</th>\n",
       "      <td>c_5643</td>\n",
       "      <td>f</td>\n",
       "      <td>1968</td>\n",
       "    </tr>\n",
       "    <tr>\n",
       "      <th>8620</th>\n",
       "      <td>c_84</td>\n",
       "      <td>f</td>\n",
       "      <td>1982</td>\n",
       "    </tr>\n",
       "  </tbody>\n",
       "</table>\n",
       "<p>8621 rows × 3 columns</p>\n",
       "</div>"
      ],
      "text/plain": [
       "     client_id sex  birth\n",
       "0       c_4410   f   1967\n",
       "1       c_7839   f   1975\n",
       "2       c_1699   f   1984\n",
       "3       c_5961   f   1962\n",
       "4       c_5320   m   1943\n",
       "...        ...  ..    ...\n",
       "8616    c_7920   m   1956\n",
       "8617    c_7403   f   1970\n",
       "8618    c_5119   m   1974\n",
       "8619    c_5643   f   1968\n",
       "8620      c_84   f   1982\n",
       "\n",
       "[8621 rows x 3 columns]"
      ]
     },
     "execution_count": 3,
     "metadata": {},
     "output_type": "execute_result"
    }
   ],
   "source": [
    "customers"
   ]
  },
  {
   "cell_type": "code",
   "execution_count": 4,
   "id": "e7f2d16d-5030-42e9-baa1-3e643f95c79b",
   "metadata": {},
   "outputs": [
    {
     "data": {
      "text/html": [
       "<div>\n",
       "<style scoped>\n",
       "    .dataframe tbody tr th:only-of-type {\n",
       "        vertical-align: middle;\n",
       "    }\n",
       "\n",
       "    .dataframe tbody tr th {\n",
       "        vertical-align: top;\n",
       "    }\n",
       "\n",
       "    .dataframe thead th {\n",
       "        text-align: right;\n",
       "    }\n",
       "</style>\n",
       "<table border=\"1\" class=\"dataframe\">\n",
       "  <thead>\n",
       "    <tr style=\"text-align: right;\">\n",
       "      <th></th>\n",
       "      <th>id_prod</th>\n",
       "      <th>price</th>\n",
       "      <th>categ</th>\n",
       "    </tr>\n",
       "  </thead>\n",
       "  <tbody>\n",
       "    <tr>\n",
       "      <th>0</th>\n",
       "      <td>0_1421</td>\n",
       "      <td>19.99</td>\n",
       "      <td>0</td>\n",
       "    </tr>\n",
       "    <tr>\n",
       "      <th>1</th>\n",
       "      <td>0_1368</td>\n",
       "      <td>5.13</td>\n",
       "      <td>0</td>\n",
       "    </tr>\n",
       "    <tr>\n",
       "      <th>2</th>\n",
       "      <td>0_731</td>\n",
       "      <td>17.99</td>\n",
       "      <td>0</td>\n",
       "    </tr>\n",
       "    <tr>\n",
       "      <th>3</th>\n",
       "      <td>1_587</td>\n",
       "      <td>4.99</td>\n",
       "      <td>1</td>\n",
       "    </tr>\n",
       "    <tr>\n",
       "      <th>4</th>\n",
       "      <td>0_1507</td>\n",
       "      <td>3.99</td>\n",
       "      <td>0</td>\n",
       "    </tr>\n",
       "    <tr>\n",
       "      <th>...</th>\n",
       "      <td>...</td>\n",
       "      <td>...</td>\n",
       "      <td>...</td>\n",
       "    </tr>\n",
       "    <tr>\n",
       "      <th>3281</th>\n",
       "      <td>2_23</td>\n",
       "      <td>115.99</td>\n",
       "      <td>2</td>\n",
       "    </tr>\n",
       "    <tr>\n",
       "      <th>3282</th>\n",
       "      <td>0_146</td>\n",
       "      <td>17.14</td>\n",
       "      <td>0</td>\n",
       "    </tr>\n",
       "    <tr>\n",
       "      <th>3283</th>\n",
       "      <td>0_802</td>\n",
       "      <td>11.22</td>\n",
       "      <td>0</td>\n",
       "    </tr>\n",
       "    <tr>\n",
       "      <th>3284</th>\n",
       "      <td>1_140</td>\n",
       "      <td>38.56</td>\n",
       "      <td>1</td>\n",
       "    </tr>\n",
       "    <tr>\n",
       "      <th>3285</th>\n",
       "      <td>0_1920</td>\n",
       "      <td>25.16</td>\n",
       "      <td>0</td>\n",
       "    </tr>\n",
       "  </tbody>\n",
       "</table>\n",
       "<p>3286 rows × 3 columns</p>\n",
       "</div>"
      ],
      "text/plain": [
       "     id_prod   price  categ\n",
       "0     0_1421   19.99      0\n",
       "1     0_1368    5.13      0\n",
       "2      0_731   17.99      0\n",
       "3      1_587    4.99      1\n",
       "4     0_1507    3.99      0\n",
       "...      ...     ...    ...\n",
       "3281    2_23  115.99      2\n",
       "3282   0_146   17.14      0\n",
       "3283   0_802   11.22      0\n",
       "3284   1_140   38.56      1\n",
       "3285  0_1920   25.16      0\n",
       "\n",
       "[3286 rows x 3 columns]"
      ]
     },
     "execution_count": 4,
     "metadata": {},
     "output_type": "execute_result"
    }
   ],
   "source": [
    "products"
   ]
  },
  {
   "cell_type": "code",
   "execution_count": 5,
   "id": "d226eafe-71ea-4bf3-9f85-b839f016f18e",
   "metadata": {},
   "outputs": [
    {
     "data": {
      "text/html": [
       "<div>\n",
       "<style scoped>\n",
       "    .dataframe tbody tr th:only-of-type {\n",
       "        vertical-align: middle;\n",
       "    }\n",
       "\n",
       "    .dataframe tbody tr th {\n",
       "        vertical-align: top;\n",
       "    }\n",
       "\n",
       "    .dataframe thead th {\n",
       "        text-align: right;\n",
       "    }\n",
       "</style>\n",
       "<table border=\"1\" class=\"dataframe\">\n",
       "  <thead>\n",
       "    <tr style=\"text-align: right;\">\n",
       "      <th></th>\n",
       "      <th>id_prod</th>\n",
       "      <th>date</th>\n",
       "      <th>session_id</th>\n",
       "      <th>client_id</th>\n",
       "    </tr>\n",
       "  </thead>\n",
       "  <tbody>\n",
       "    <tr>\n",
       "      <th>0</th>\n",
       "      <td>0_1259</td>\n",
       "      <td>2021-03-01 00:01:07.843138</td>\n",
       "      <td>s_1</td>\n",
       "      <td>c_329</td>\n",
       "    </tr>\n",
       "    <tr>\n",
       "      <th>1</th>\n",
       "      <td>0_1390</td>\n",
       "      <td>2021-03-01 00:02:26.047414</td>\n",
       "      <td>s_2</td>\n",
       "      <td>c_664</td>\n",
       "    </tr>\n",
       "    <tr>\n",
       "      <th>2</th>\n",
       "      <td>0_1352</td>\n",
       "      <td>2021-03-01 00:02:38.311413</td>\n",
       "      <td>s_3</td>\n",
       "      <td>c_580</td>\n",
       "    </tr>\n",
       "    <tr>\n",
       "      <th>3</th>\n",
       "      <td>0_1458</td>\n",
       "      <td>2021-03-01 00:04:54.559692</td>\n",
       "      <td>s_4</td>\n",
       "      <td>c_7912</td>\n",
       "    </tr>\n",
       "    <tr>\n",
       "      <th>4</th>\n",
       "      <td>0_1358</td>\n",
       "      <td>2021-03-01 00:05:18.801198</td>\n",
       "      <td>s_5</td>\n",
       "      <td>c_2033</td>\n",
       "    </tr>\n",
       "    <tr>\n",
       "      <th>...</th>\n",
       "      <td>...</td>\n",
       "      <td>...</td>\n",
       "      <td>...</td>\n",
       "      <td>...</td>\n",
       "    </tr>\n",
       "    <tr>\n",
       "      <th>687529</th>\n",
       "      <td>1_508</td>\n",
       "      <td>2023-02-28 23:49:03.148402</td>\n",
       "      <td>s_348444</td>\n",
       "      <td>c_3573</td>\n",
       "    </tr>\n",
       "    <tr>\n",
       "      <th>687530</th>\n",
       "      <td>2_37</td>\n",
       "      <td>2023-02-28 23:51:29.318531</td>\n",
       "      <td>s_348445</td>\n",
       "      <td>c_50</td>\n",
       "    </tr>\n",
       "    <tr>\n",
       "      <th>687531</th>\n",
       "      <td>1_695</td>\n",
       "      <td>2023-02-28 23:53:18.929676</td>\n",
       "      <td>s_348446</td>\n",
       "      <td>c_488</td>\n",
       "    </tr>\n",
       "    <tr>\n",
       "      <th>687532</th>\n",
       "      <td>0_1547</td>\n",
       "      <td>2023-02-28 23:58:00.107815</td>\n",
       "      <td>s_348447</td>\n",
       "      <td>c_4848</td>\n",
       "    </tr>\n",
       "    <tr>\n",
       "      <th>687533</th>\n",
       "      <td>0_1398</td>\n",
       "      <td>2023-02-28 23:58:30.792755</td>\n",
       "      <td>s_348435</td>\n",
       "      <td>c_3575</td>\n",
       "    </tr>\n",
       "  </tbody>\n",
       "</table>\n",
       "<p>687534 rows × 4 columns</p>\n",
       "</div>"
      ],
      "text/plain": [
       "       id_prod                        date session_id client_id\n",
       "0       0_1259  2021-03-01 00:01:07.843138        s_1     c_329\n",
       "1       0_1390  2021-03-01 00:02:26.047414        s_2     c_664\n",
       "2       0_1352  2021-03-01 00:02:38.311413        s_3     c_580\n",
       "3       0_1458  2021-03-01 00:04:54.559692        s_4    c_7912\n",
       "4       0_1358  2021-03-01 00:05:18.801198        s_5    c_2033\n",
       "...        ...                         ...        ...       ...\n",
       "687529   1_508  2023-02-28 23:49:03.148402   s_348444    c_3573\n",
       "687530    2_37  2023-02-28 23:51:29.318531   s_348445      c_50\n",
       "687531   1_695  2023-02-28 23:53:18.929676   s_348446     c_488\n",
       "687532  0_1547  2023-02-28 23:58:00.107815   s_348447    c_4848\n",
       "687533  0_1398  2023-02-28 23:58:30.792755   s_348435    c_3575\n",
       "\n",
       "[687534 rows x 4 columns]"
      ]
     },
     "execution_count": 5,
     "metadata": {},
     "output_type": "execute_result"
    }
   ],
   "source": [
    "Transactions"
   ]
  },
  {
   "cell_type": "code",
   "execution_count": 6,
   "id": "be68cde0-7842-4c30-af33-4d8b3d298b4e",
   "metadata": {},
   "outputs": [],
   "source": [
    "# Separation date et heure \n",
    "Transactions[['date', 'time']] = Transactions['date'].str.split(' ', expand=True)\n",
    "\n",
    "# Conversion format date\n",
    "Transactions['date'] = pd.to_datetime(Transactions['date'])"
   ]
  },
  {
   "cell_type": "code",
   "execution_count": 7,
   "id": "96314338-1fdc-4370-b04c-7cd4309b0200",
   "metadata": {},
   "outputs": [
    {
     "data": {
      "text/html": [
       "<div>\n",
       "<style scoped>\n",
       "    .dataframe tbody tr th:only-of-type {\n",
       "        vertical-align: middle;\n",
       "    }\n",
       "\n",
       "    .dataframe tbody tr th {\n",
       "        vertical-align: top;\n",
       "    }\n",
       "\n",
       "    .dataframe thead th {\n",
       "        text-align: right;\n",
       "    }\n",
       "</style>\n",
       "<table border=\"1\" class=\"dataframe\">\n",
       "  <thead>\n",
       "    <tr style=\"text-align: right;\">\n",
       "      <th></th>\n",
       "      <th>id_prod</th>\n",
       "      <th>date</th>\n",
       "      <th>session_id</th>\n",
       "      <th>client_id</th>\n",
       "      <th>time</th>\n",
       "    </tr>\n",
       "  </thead>\n",
       "  <tbody>\n",
       "    <tr>\n",
       "      <th>0</th>\n",
       "      <td>0_1259</td>\n",
       "      <td>2021-03-01</td>\n",
       "      <td>s_1</td>\n",
       "      <td>c_329</td>\n",
       "      <td>00:01:07.843138</td>\n",
       "    </tr>\n",
       "    <tr>\n",
       "      <th>1</th>\n",
       "      <td>0_1390</td>\n",
       "      <td>2021-03-01</td>\n",
       "      <td>s_2</td>\n",
       "      <td>c_664</td>\n",
       "      <td>00:02:26.047414</td>\n",
       "    </tr>\n",
       "    <tr>\n",
       "      <th>2</th>\n",
       "      <td>0_1352</td>\n",
       "      <td>2021-03-01</td>\n",
       "      <td>s_3</td>\n",
       "      <td>c_580</td>\n",
       "      <td>00:02:38.311413</td>\n",
       "    </tr>\n",
       "    <tr>\n",
       "      <th>3</th>\n",
       "      <td>0_1458</td>\n",
       "      <td>2021-03-01</td>\n",
       "      <td>s_4</td>\n",
       "      <td>c_7912</td>\n",
       "      <td>00:04:54.559692</td>\n",
       "    </tr>\n",
       "    <tr>\n",
       "      <th>4</th>\n",
       "      <td>0_1358</td>\n",
       "      <td>2021-03-01</td>\n",
       "      <td>s_5</td>\n",
       "      <td>c_2033</td>\n",
       "      <td>00:05:18.801198</td>\n",
       "    </tr>\n",
       "    <tr>\n",
       "      <th>...</th>\n",
       "      <td>...</td>\n",
       "      <td>...</td>\n",
       "      <td>...</td>\n",
       "      <td>...</td>\n",
       "      <td>...</td>\n",
       "    </tr>\n",
       "    <tr>\n",
       "      <th>687529</th>\n",
       "      <td>1_508</td>\n",
       "      <td>2023-02-28</td>\n",
       "      <td>s_348444</td>\n",
       "      <td>c_3573</td>\n",
       "      <td>23:49:03.148402</td>\n",
       "    </tr>\n",
       "    <tr>\n",
       "      <th>687530</th>\n",
       "      <td>2_37</td>\n",
       "      <td>2023-02-28</td>\n",
       "      <td>s_348445</td>\n",
       "      <td>c_50</td>\n",
       "      <td>23:51:29.318531</td>\n",
       "    </tr>\n",
       "    <tr>\n",
       "      <th>687531</th>\n",
       "      <td>1_695</td>\n",
       "      <td>2023-02-28</td>\n",
       "      <td>s_348446</td>\n",
       "      <td>c_488</td>\n",
       "      <td>23:53:18.929676</td>\n",
       "    </tr>\n",
       "    <tr>\n",
       "      <th>687532</th>\n",
       "      <td>0_1547</td>\n",
       "      <td>2023-02-28</td>\n",
       "      <td>s_348447</td>\n",
       "      <td>c_4848</td>\n",
       "      <td>23:58:00.107815</td>\n",
       "    </tr>\n",
       "    <tr>\n",
       "      <th>687533</th>\n",
       "      <td>0_1398</td>\n",
       "      <td>2023-02-28</td>\n",
       "      <td>s_348435</td>\n",
       "      <td>c_3575</td>\n",
       "      <td>23:58:30.792755</td>\n",
       "    </tr>\n",
       "  </tbody>\n",
       "</table>\n",
       "<p>687534 rows × 5 columns</p>\n",
       "</div>"
      ],
      "text/plain": [
       "       id_prod       date session_id client_id             time\n",
       "0       0_1259 2021-03-01        s_1     c_329  00:01:07.843138\n",
       "1       0_1390 2021-03-01        s_2     c_664  00:02:26.047414\n",
       "2       0_1352 2021-03-01        s_3     c_580  00:02:38.311413\n",
       "3       0_1458 2021-03-01        s_4    c_7912  00:04:54.559692\n",
       "4       0_1358 2021-03-01        s_5    c_2033  00:05:18.801198\n",
       "...        ...        ...        ...       ...              ...\n",
       "687529   1_508 2023-02-28   s_348444    c_3573  23:49:03.148402\n",
       "687530    2_37 2023-02-28   s_348445      c_50  23:51:29.318531\n",
       "687531   1_695 2023-02-28   s_348446     c_488  23:53:18.929676\n",
       "687532  0_1547 2023-02-28   s_348447    c_4848  23:58:00.107815\n",
       "687533  0_1398 2023-02-28   s_348435    c_3575  23:58:30.792755\n",
       "\n",
       "[687534 rows x 5 columns]"
      ]
     },
     "execution_count": 7,
     "metadata": {},
     "output_type": "execute_result"
    }
   ],
   "source": [
    "Transactions"
   ]
  },
  {
   "cell_type": "code",
   "execution_count": 8,
   "id": "c57229ed-20c8-4026-b091-ea6a6ae42190",
   "metadata": {},
   "outputs": [
    {
     "name": "stdout",
     "output_type": "stream",
     "text": [
      "<class 'pandas.core.frame.DataFrame'>\n",
      "RangeIndex: 8621 entries, 0 to 8620\n",
      "Data columns (total 3 columns):\n",
      " #   Column     Non-Null Count  Dtype \n",
      "---  ------     --------------  ----- \n",
      " 0   client_id  8621 non-null   object\n",
      " 1   sex        8621 non-null   object\n",
      " 2   birth      8621 non-null   int64 \n",
      "dtypes: int64(1), object(2)\n",
      "memory usage: 202.2+ KB\n"
     ]
    }
   ],
   "source": [
    "customers.info()"
   ]
  },
  {
   "cell_type": "code",
   "execution_count": 9,
   "id": "af2370f8-778c-436b-9c23-47efe17dcf3e",
   "metadata": {},
   "outputs": [
    {
     "data": {
      "text/plain": [
       "client_id    False\n",
       "sex          False\n",
       "birth        False\n",
       "dtype: bool"
      ]
     },
     "execution_count": 9,
     "metadata": {},
     "output_type": "execute_result"
    }
   ],
   "source": [
    "#valeurs manqueantes\n",
    "customers.isnull().any()"
   ]
  },
  {
   "cell_type": "code",
   "execution_count": 10,
   "id": "115a67fa-9d80-44b5-962d-eefdf2a71c60",
   "metadata": {},
   "outputs": [
    {
     "data": {
      "text/plain": [
       "client_id    0\n",
       "sex          0\n",
       "birth        0\n",
       "dtype: int64"
      ]
     },
     "execution_count": 10,
     "metadata": {},
     "output_type": "execute_result"
    }
   ],
   "source": [
    "customers.isna().sum()"
   ]
  },
  {
   "cell_type": "code",
   "execution_count": 11,
   "id": "51cb1e24-9d8b-455e-ac3f-4fbf78621a11",
   "metadata": {},
   "outputs": [
    {
     "data": {
      "text/html": [
       "<div>\n",
       "<style scoped>\n",
       "    .dataframe tbody tr th:only-of-type {\n",
       "        vertical-align: middle;\n",
       "    }\n",
       "\n",
       "    .dataframe tbody tr th {\n",
       "        vertical-align: top;\n",
       "    }\n",
       "\n",
       "    .dataframe thead th {\n",
       "        text-align: right;\n",
       "    }\n",
       "</style>\n",
       "<table border=\"1\" class=\"dataframe\">\n",
       "  <thead>\n",
       "    <tr style=\"text-align: right;\">\n",
       "      <th></th>\n",
       "      <th>client_id</th>\n",
       "      <th>sex</th>\n",
       "      <th>birth</th>\n",
       "    </tr>\n",
       "  </thead>\n",
       "  <tbody>\n",
       "    <tr>\n",
       "      <th>7357</th>\n",
       "      <td>c_999</td>\n",
       "      <td>m</td>\n",
       "      <td>1964</td>\n",
       "    </tr>\n",
       "    <tr>\n",
       "      <th>2145</th>\n",
       "      <td>c_998</td>\n",
       "      <td>m</td>\n",
       "      <td>2001</td>\n",
       "    </tr>\n",
       "    <tr>\n",
       "      <th>94</th>\n",
       "      <td>c_997</td>\n",
       "      <td>f</td>\n",
       "      <td>1994</td>\n",
       "    </tr>\n",
       "    <tr>\n",
       "      <th>2787</th>\n",
       "      <td>c_996</td>\n",
       "      <td>f</td>\n",
       "      <td>1970</td>\n",
       "    </tr>\n",
       "    <tr>\n",
       "      <th>7003</th>\n",
       "      <td>c_995</td>\n",
       "      <td>m</td>\n",
       "      <td>1955</td>\n",
       "    </tr>\n",
       "    <tr>\n",
       "      <th>7792</th>\n",
       "      <td>c_994</td>\n",
       "      <td>f</td>\n",
       "      <td>2002</td>\n",
       "    </tr>\n",
       "    <tr>\n",
       "      <th>5330</th>\n",
       "      <td>c_993</td>\n",
       "      <td>m</td>\n",
       "      <td>1968</td>\n",
       "    </tr>\n",
       "    <tr>\n",
       "      <th>666</th>\n",
       "      <td>c_992</td>\n",
       "      <td>f</td>\n",
       "      <td>1977</td>\n",
       "    </tr>\n",
       "    <tr>\n",
       "      <th>6587</th>\n",
       "      <td>c_991</td>\n",
       "      <td>m</td>\n",
       "      <td>1978</td>\n",
       "    </tr>\n",
       "    <tr>\n",
       "      <th>5610</th>\n",
       "      <td>c_990</td>\n",
       "      <td>m</td>\n",
       "      <td>1984</td>\n",
       "    </tr>\n",
       "  </tbody>\n",
       "</table>\n",
       "</div>"
      ],
      "text/plain": [
       "     client_id sex  birth\n",
       "7357     c_999   m   1964\n",
       "2145     c_998   m   2001\n",
       "94       c_997   f   1994\n",
       "2787     c_996   f   1970\n",
       "7003     c_995   m   1955\n",
       "7792     c_994   f   2002\n",
       "5330     c_993   m   1968\n",
       "666      c_992   f   1977\n",
       "6587     c_991   m   1978\n",
       "5610     c_990   m   1984"
      ]
     },
     "execution_count": 11,
     "metadata": {},
     "output_type": "execute_result"
    }
   ],
   "source": [
    "#premierès lignes\n",
    "customers.sort_values('client_id', ascending = False).head(10)"
   ]
  },
  {
   "cell_type": "code",
   "execution_count": 12,
   "id": "0f25c41a-f401-4480-b5fb-6cbdfbd24a6d",
   "metadata": {},
   "outputs": [
    {
     "data": {
      "text/html": [
       "<div>\n",
       "<style scoped>\n",
       "    .dataframe tbody tr th:only-of-type {\n",
       "        vertical-align: middle;\n",
       "    }\n",
       "\n",
       "    .dataframe tbody tr th {\n",
       "        vertical-align: top;\n",
       "    }\n",
       "\n",
       "    .dataframe thead th {\n",
       "        text-align: right;\n",
       "    }\n",
       "</style>\n",
       "<table border=\"1\" class=\"dataframe\">\n",
       "  <thead>\n",
       "    <tr style=\"text-align: right;\">\n",
       "      <th></th>\n",
       "      <th>client_id</th>\n",
       "      <th>sex</th>\n",
       "      <th>birth</th>\n",
       "    </tr>\n",
       "  </thead>\n",
       "  <tbody>\n",
       "    <tr>\n",
       "      <th>8456</th>\n",
       "      <td>c_1006</td>\n",
       "      <td>m</td>\n",
       "      <td>1979</td>\n",
       "    </tr>\n",
       "    <tr>\n",
       "      <th>708</th>\n",
       "      <td>c_1005</td>\n",
       "      <td>f</td>\n",
       "      <td>1941</td>\n",
       "    </tr>\n",
       "    <tr>\n",
       "      <th>6305</th>\n",
       "      <td>c_1004</td>\n",
       "      <td>m</td>\n",
       "      <td>1973</td>\n",
       "    </tr>\n",
       "    <tr>\n",
       "      <th>6484</th>\n",
       "      <td>c_1003</td>\n",
       "      <td>m</td>\n",
       "      <td>1982</td>\n",
       "    </tr>\n",
       "    <tr>\n",
       "      <th>1591</th>\n",
       "      <td>c_1002</td>\n",
       "      <td>f</td>\n",
       "      <td>1982</td>\n",
       "    </tr>\n",
       "    <tr>\n",
       "      <th>3425</th>\n",
       "      <td>c_1001</td>\n",
       "      <td>m</td>\n",
       "      <td>1982</td>\n",
       "    </tr>\n",
       "    <tr>\n",
       "      <th>8471</th>\n",
       "      <td>c_1000</td>\n",
       "      <td>f</td>\n",
       "      <td>1966</td>\n",
       "    </tr>\n",
       "    <tr>\n",
       "      <th>2137</th>\n",
       "      <td>c_100</td>\n",
       "      <td>m</td>\n",
       "      <td>1992</td>\n",
       "    </tr>\n",
       "    <tr>\n",
       "      <th>6893</th>\n",
       "      <td>c_10</td>\n",
       "      <td>m</td>\n",
       "      <td>1956</td>\n",
       "    </tr>\n",
       "    <tr>\n",
       "      <th>4298</th>\n",
       "      <td>c_1</td>\n",
       "      <td>m</td>\n",
       "      <td>1955</td>\n",
       "    </tr>\n",
       "  </tbody>\n",
       "</table>\n",
       "</div>"
      ],
      "text/plain": [
       "     client_id sex  birth\n",
       "8456    c_1006   m   1979\n",
       "708     c_1005   f   1941\n",
       "6305    c_1004   m   1973\n",
       "6484    c_1003   m   1982\n",
       "1591    c_1002   f   1982\n",
       "3425    c_1001   m   1982\n",
       "8471    c_1000   f   1966\n",
       "2137     c_100   m   1992\n",
       "6893      c_10   m   1956\n",
       "4298       c_1   m   1955"
      ]
     },
     "execution_count": 12,
     "metadata": {},
     "output_type": "execute_result"
    }
   ],
   "source": [
    "#dernierès lignes\n",
    "customers.sort_values('client_id', ascending = False).tail(10)"
   ]
  },
  {
   "cell_type": "code",
   "execution_count": 13,
   "id": "3bc7b6aa-77a9-4c8b-8bd6-64c76c5d188a",
   "metadata": {},
   "outputs": [
    {
     "data": {
      "text/plain": [
       "0"
      ]
     },
     "execution_count": 13,
     "metadata": {},
     "output_type": "execute_result"
    }
   ],
   "source": [
    "customers.duplicated().sum()"
   ]
  },
  {
   "cell_type": "code",
   "execution_count": 14,
   "id": "50777587-2061-41f9-8f4b-2e6e9242a44c",
   "metadata": {},
   "outputs": [
    {
     "data": {
      "text/html": [
       "<div>\n",
       "<style scoped>\n",
       "    .dataframe tbody tr th:only-of-type {\n",
       "        vertical-align: middle;\n",
       "    }\n",
       "\n",
       "    .dataframe tbody tr th {\n",
       "        vertical-align: top;\n",
       "    }\n",
       "\n",
       "    .dataframe thead th {\n",
       "        text-align: right;\n",
       "    }\n",
       "</style>\n",
       "<table border=\"1\" class=\"dataframe\">\n",
       "  <thead>\n",
       "    <tr style=\"text-align: right;\">\n",
       "      <th></th>\n",
       "      <th>birth</th>\n",
       "    </tr>\n",
       "  </thead>\n",
       "  <tbody>\n",
       "    <tr>\n",
       "      <th>count</th>\n",
       "      <td>8621.000000</td>\n",
       "    </tr>\n",
       "    <tr>\n",
       "      <th>mean</th>\n",
       "      <td>1978.275606</td>\n",
       "    </tr>\n",
       "    <tr>\n",
       "      <th>std</th>\n",
       "      <td>16.917958</td>\n",
       "    </tr>\n",
       "    <tr>\n",
       "      <th>min</th>\n",
       "      <td>1929.000000</td>\n",
       "    </tr>\n",
       "    <tr>\n",
       "      <th>25%</th>\n",
       "      <td>1966.000000</td>\n",
       "    </tr>\n",
       "    <tr>\n",
       "      <th>50%</th>\n",
       "      <td>1979.000000</td>\n",
       "    </tr>\n",
       "    <tr>\n",
       "      <th>75%</th>\n",
       "      <td>1992.000000</td>\n",
       "    </tr>\n",
       "    <tr>\n",
       "      <th>max</th>\n",
       "      <td>2004.000000</td>\n",
       "    </tr>\n",
       "  </tbody>\n",
       "</table>\n",
       "</div>"
      ],
      "text/plain": [
       "             birth\n",
       "count  8621.000000\n",
       "mean   1978.275606\n",
       "std      16.917958\n",
       "min    1929.000000\n",
       "25%    1966.000000\n",
       "50%    1979.000000\n",
       "75%    1992.000000\n",
       "max    2004.000000"
      ]
     },
     "execution_count": 14,
     "metadata": {},
     "output_type": "execute_result"
    }
   ],
   "source": [
    "customers.describe()"
   ]
  },
  {
   "cell_type": "markdown",
   "id": "4557f083-0626-458a-bc55-9dba1ab2e700",
   "metadata": {},
   "source": [
    "count : 8621 total d'éléments.\n",
    "mean : 1978 (46ans) moyenne des valeurs.\n",
    "std : 16.91 écart-type des valeurs.\n",
    "min : 1929 (95ans) valeur minimale.\n",
    "25% : Premier quartile 1966 (57ans) des valeurs, ce qui signifie que 25% des valeurs sont inférieures ou égales.\n",
    "50% : Deuxième quartile 1979 (44ans) ou médiane des valeurs, ce qui signifie que 50% des valeurs sont inférieures ou égales à cette valeur.\n",
    "75% : Troisième quartile 1992 (31ans), ce qui signifie que 75% des valeurs sont inférieures ou égales à cette valeur.\n",
    "max : Valeur maximale 2004 (19ans).\n",
    "Pas de valeurs aberrentes dans les années de naissance (min 2004 = 19 ans et max 1929 = 94 ans)"
   ]
  },
  {
   "cell_type": "code",
   "execution_count": 15,
   "id": "156edb8e-df7a-43d7-aff8-bedb5db6e870",
   "metadata": {},
   "outputs": [
    {
     "data": {
      "text/html": [
       "<div>\n",
       "<style scoped>\n",
       "    .dataframe tbody tr th:only-of-type {\n",
       "        vertical-align: middle;\n",
       "    }\n",
       "\n",
       "    .dataframe tbody tr th {\n",
       "        vertical-align: top;\n",
       "    }\n",
       "\n",
       "    .dataframe thead th {\n",
       "        text-align: right;\n",
       "    }\n",
       "</style>\n",
       "<table border=\"1\" class=\"dataframe\">\n",
       "  <thead>\n",
       "    <tr style=\"text-align: right;\">\n",
       "      <th></th>\n",
       "      <th>Femme/Homme</th>\n",
       "      <th>sex</th>\n",
       "      <th>Repartition</th>\n",
       "    </tr>\n",
       "  </thead>\n",
       "  <tbody>\n",
       "    <tr>\n",
       "      <th>0</th>\n",
       "      <td>f</td>\n",
       "      <td>4490</td>\n",
       "      <td>52.08</td>\n",
       "    </tr>\n",
       "    <tr>\n",
       "      <th>1</th>\n",
       "      <td>m</td>\n",
       "      <td>4131</td>\n",
       "      <td>47.92</td>\n",
       "    </tr>\n",
       "  </tbody>\n",
       "</table>\n",
       "</div>"
      ],
      "text/plain": [
       "  Femme/Homme   sex  Repartition\n",
       "0           f  4490        52.08\n",
       "1           m  4131        47.92"
      ]
     },
     "execution_count": 15,
     "metadata": {},
     "output_type": "execute_result"
    }
   ],
   "source": [
    "#répartition genre\n",
    "f_vs_m = customers[\"sex\"].value_counts().rename_axis('Femme/Homme').to_frame('sex').reset_index()\n",
    "f_vs_m[\"Repartition\"] = round((f_vs_m [\"sex\"] / f_vs_m [\"sex\"].sum())*100,2)\n",
    "f_vs_m"
   ]
  },
  {
   "cell_type": "code",
   "execution_count": 16,
   "id": "37838014-cd42-4e0f-b07e-792b60ef5947",
   "metadata": {},
   "outputs": [
    {
     "name": "stdout",
     "output_type": "stream",
     "text": [
      "<class 'pandas.core.frame.DataFrame'>\n",
      "RangeIndex: 3286 entries, 0 to 3285\n",
      "Data columns (total 3 columns):\n",
      " #   Column   Non-Null Count  Dtype  \n",
      "---  ------   --------------  -----  \n",
      " 0   id_prod  3286 non-null   object \n",
      " 1   price    3286 non-null   float64\n",
      " 2   categ    3286 non-null   int64  \n",
      "dtypes: float64(1), int64(1), object(1)\n",
      "memory usage: 77.1+ KB\n"
     ]
    }
   ],
   "source": [
    "products.info()"
   ]
  },
  {
   "cell_type": "code",
   "execution_count": 17,
   "id": "df55927e-dcb1-4871-895e-509cb37a4c96",
   "metadata": {},
   "outputs": [
    {
     "data": {
      "text/plain": [
       "id_prod    False\n",
       "price      False\n",
       "categ      False\n",
       "dtype: bool"
      ]
     },
     "execution_count": 17,
     "metadata": {},
     "output_type": "execute_result"
    }
   ],
   "source": [
    "#valeurs manqueantes\n",
    "products.isnull().any()"
   ]
  },
  {
   "cell_type": "code",
   "execution_count": 18,
   "id": "7557d142-7fc8-4b01-ba2b-0d0d310acf6e",
   "metadata": {},
   "outputs": [
    {
     "data": {
      "text/plain": [
       "id_prod    0\n",
       "price      0\n",
       "categ      0\n",
       "dtype: int64"
      ]
     },
     "execution_count": 18,
     "metadata": {},
     "output_type": "execute_result"
    }
   ],
   "source": [
    "products.isna().sum()"
   ]
  },
  {
   "cell_type": "code",
   "execution_count": 19,
   "id": "463fdbd0-54c1-41ff-8a90-2d548f77e799",
   "metadata": {},
   "outputs": [
    {
     "data": {
      "text/html": [
       "<div>\n",
       "<style scoped>\n",
       "    .dataframe tbody tr th:only-of-type {\n",
       "        vertical-align: middle;\n",
       "    }\n",
       "\n",
       "    .dataframe tbody tr th {\n",
       "        vertical-align: top;\n",
       "    }\n",
       "\n",
       "    .dataframe thead th {\n",
       "        text-align: right;\n",
       "    }\n",
       "</style>\n",
       "<table border=\"1\" class=\"dataframe\">\n",
       "  <thead>\n",
       "    <tr style=\"text-align: right;\">\n",
       "      <th></th>\n",
       "      <th>id_prod</th>\n",
       "      <th>price</th>\n",
       "      <th>categ</th>\n",
       "    </tr>\n",
       "  </thead>\n",
       "  <tbody>\n",
       "    <tr>\n",
       "      <th>3187</th>\n",
       "      <td>2_99</td>\n",
       "      <td>84.99</td>\n",
       "      <td>2</td>\n",
       "    </tr>\n",
       "    <tr>\n",
       "      <th>3087</th>\n",
       "      <td>2_98</td>\n",
       "      <td>149.74</td>\n",
       "      <td>2</td>\n",
       "    </tr>\n",
       "    <tr>\n",
       "      <th>2697</th>\n",
       "      <td>2_97</td>\n",
       "      <td>160.99</td>\n",
       "      <td>2</td>\n",
       "    </tr>\n",
       "    <tr>\n",
       "      <th>2575</th>\n",
       "      <td>2_96</td>\n",
       "      <td>47.91</td>\n",
       "      <td>2</td>\n",
       "    </tr>\n",
       "    <tr>\n",
       "      <th>965</th>\n",
       "      <td>2_95</td>\n",
       "      <td>98.99</td>\n",
       "      <td>2</td>\n",
       "    </tr>\n",
       "    <tr>\n",
       "      <th>706</th>\n",
       "      <td>2_94</td>\n",
       "      <td>145.45</td>\n",
       "      <td>2</td>\n",
       "    </tr>\n",
       "    <tr>\n",
       "      <th>2145</th>\n",
       "      <td>2_93</td>\n",
       "      <td>78.99</td>\n",
       "      <td>2</td>\n",
       "    </tr>\n",
       "    <tr>\n",
       "      <th>933</th>\n",
       "      <td>2_92</td>\n",
       "      <td>78.05</td>\n",
       "      <td>2</td>\n",
       "    </tr>\n",
       "    <tr>\n",
       "      <th>1924</th>\n",
       "      <td>2_91</td>\n",
       "      <td>96.99</td>\n",
       "      <td>2</td>\n",
       "    </tr>\n",
       "    <tr>\n",
       "      <th>2163</th>\n",
       "      <td>2_90</td>\n",
       "      <td>182.30</td>\n",
       "      <td>2</td>\n",
       "    </tr>\n",
       "  </tbody>\n",
       "</table>\n",
       "</div>"
      ],
      "text/plain": [
       "     id_prod   price  categ\n",
       "3187    2_99   84.99      2\n",
       "3087    2_98  149.74      2\n",
       "2697    2_97  160.99      2\n",
       "2575    2_96   47.91      2\n",
       "965     2_95   98.99      2\n",
       "706     2_94  145.45      2\n",
       "2145    2_93   78.99      2\n",
       "933     2_92   78.05      2\n",
       "1924    2_91   96.99      2\n",
       "2163    2_90  182.30      2"
      ]
     },
     "execution_count": 19,
     "metadata": {},
     "output_type": "execute_result"
    }
   ],
   "source": [
    "#premierès lignes\n",
    "products.sort_values('id_prod', ascending = False).head(10)"
   ]
  },
  {
   "cell_type": "code",
   "execution_count": 20,
   "id": "2cabfb05-d727-4f31-8cfe-49221d68904d",
   "metadata": {},
   "outputs": [
    {
     "data": {
      "text/html": [
       "<div>\n",
       "<style scoped>\n",
       "    .dataframe tbody tr th:only-of-type {\n",
       "        vertical-align: middle;\n",
       "    }\n",
       "\n",
       "    .dataframe tbody tr th {\n",
       "        vertical-align: top;\n",
       "    }\n",
       "\n",
       "    .dataframe thead th {\n",
       "        text-align: right;\n",
       "    }\n",
       "</style>\n",
       "<table border=\"1\" class=\"dataframe\">\n",
       "  <thead>\n",
       "    <tr style=\"text-align: right;\">\n",
       "      <th></th>\n",
       "      <th>id_prod</th>\n",
       "      <th>price</th>\n",
       "      <th>categ</th>\n",
       "    </tr>\n",
       "  </thead>\n",
       "  <tbody>\n",
       "    <tr>\n",
       "      <th>831</th>\n",
       "      <td>0_1005</td>\n",
       "      <td>20.99</td>\n",
       "      <td>0</td>\n",
       "    </tr>\n",
       "    <tr>\n",
       "      <th>673</th>\n",
       "      <td>0_1004</td>\n",
       "      <td>8.07</td>\n",
       "      <td>0</td>\n",
       "    </tr>\n",
       "    <tr>\n",
       "      <th>267</th>\n",
       "      <td>0_1003</td>\n",
       "      <td>14.99</td>\n",
       "      <td>0</td>\n",
       "    </tr>\n",
       "    <tr>\n",
       "      <th>1800</th>\n",
       "      <td>0_1002</td>\n",
       "      <td>8.31</td>\n",
       "      <td>0</td>\n",
       "    </tr>\n",
       "    <tr>\n",
       "      <th>1859</th>\n",
       "      <td>0_1001</td>\n",
       "      <td>4.99</td>\n",
       "      <td>0</td>\n",
       "    </tr>\n",
       "    <tr>\n",
       "      <th>921</th>\n",
       "      <td>0_1000</td>\n",
       "      <td>6.84</td>\n",
       "      <td>0</td>\n",
       "    </tr>\n",
       "    <tr>\n",
       "      <th>663</th>\n",
       "      <td>0_100</td>\n",
       "      <td>20.60</td>\n",
       "      <td>0</td>\n",
       "    </tr>\n",
       "    <tr>\n",
       "      <th>2690</th>\n",
       "      <td>0_10</td>\n",
       "      <td>17.95</td>\n",
       "      <td>0</td>\n",
       "    </tr>\n",
       "    <tr>\n",
       "      <th>802</th>\n",
       "      <td>0_1</td>\n",
       "      <td>10.99</td>\n",
       "      <td>0</td>\n",
       "    </tr>\n",
       "    <tr>\n",
       "      <th>1000</th>\n",
       "      <td>0_0</td>\n",
       "      <td>3.75</td>\n",
       "      <td>0</td>\n",
       "    </tr>\n",
       "  </tbody>\n",
       "</table>\n",
       "</div>"
      ],
      "text/plain": [
       "     id_prod  price  categ\n",
       "831   0_1005  20.99      0\n",
       "673   0_1004   8.07      0\n",
       "267   0_1003  14.99      0\n",
       "1800  0_1002   8.31      0\n",
       "1859  0_1001   4.99      0\n",
       "921   0_1000   6.84      0\n",
       "663    0_100  20.60      0\n",
       "2690    0_10  17.95      0\n",
       "802      0_1  10.99      0\n",
       "1000     0_0   3.75      0"
      ]
     },
     "execution_count": 20,
     "metadata": {},
     "output_type": "execute_result"
    }
   ],
   "source": [
    "#dernierès lignes\n",
    "products.sort_values('id_prod', ascending = False).tail(10)"
   ]
  },
  {
   "cell_type": "code",
   "execution_count": 21,
   "id": "b4f39bc5-ef9f-42ce-aee4-3413c31b1b7b",
   "metadata": {},
   "outputs": [
    {
     "data": {
      "text/plain": [
       "0"
      ]
     },
     "execution_count": 21,
     "metadata": {},
     "output_type": "execute_result"
    }
   ],
   "source": [
    "products.duplicated().sum()"
   ]
  },
  {
   "cell_type": "code",
   "execution_count": 22,
   "id": "b17e8cde-8e1b-49b9-8327-c0565bff6e6e",
   "metadata": {},
   "outputs": [
    {
     "data": {
      "text/html": [
       "<div>\n",
       "<style scoped>\n",
       "    .dataframe tbody tr th:only-of-type {\n",
       "        vertical-align: middle;\n",
       "    }\n",
       "\n",
       "    .dataframe tbody tr th {\n",
       "        vertical-align: top;\n",
       "    }\n",
       "\n",
       "    .dataframe thead th {\n",
       "        text-align: right;\n",
       "    }\n",
       "</style>\n",
       "<table border=\"1\" class=\"dataframe\">\n",
       "  <thead>\n",
       "    <tr style=\"text-align: right;\">\n",
       "      <th></th>\n",
       "      <th>price</th>\n",
       "      <th>categ</th>\n",
       "    </tr>\n",
       "  </thead>\n",
       "  <tbody>\n",
       "    <tr>\n",
       "      <th>count</th>\n",
       "      <td>3286.000000</td>\n",
       "      <td>3286.000000</td>\n",
       "    </tr>\n",
       "    <tr>\n",
       "      <th>mean</th>\n",
       "      <td>21.863597</td>\n",
       "      <td>0.370359</td>\n",
       "    </tr>\n",
       "    <tr>\n",
       "      <th>std</th>\n",
       "      <td>29.849786</td>\n",
       "      <td>0.615446</td>\n",
       "    </tr>\n",
       "    <tr>\n",
       "      <th>min</th>\n",
       "      <td>0.620000</td>\n",
       "      <td>0.000000</td>\n",
       "    </tr>\n",
       "    <tr>\n",
       "      <th>25%</th>\n",
       "      <td>6.990000</td>\n",
       "      <td>0.000000</td>\n",
       "    </tr>\n",
       "    <tr>\n",
       "      <th>50%</th>\n",
       "      <td>13.075000</td>\n",
       "      <td>0.000000</td>\n",
       "    </tr>\n",
       "    <tr>\n",
       "      <th>75%</th>\n",
       "      <td>22.990000</td>\n",
       "      <td>1.000000</td>\n",
       "    </tr>\n",
       "    <tr>\n",
       "      <th>max</th>\n",
       "      <td>300.000000</td>\n",
       "      <td>2.000000</td>\n",
       "    </tr>\n",
       "  </tbody>\n",
       "</table>\n",
       "</div>"
      ],
      "text/plain": [
       "             price        categ\n",
       "count  3286.000000  3286.000000\n",
       "mean     21.863597     0.370359\n",
       "std      29.849786     0.615446\n",
       "min       0.620000     0.000000\n",
       "25%       6.990000     0.000000\n",
       "50%      13.075000     0.000000\n",
       "75%      22.990000     1.000000\n",
       "max     300.000000     2.000000"
      ]
     },
     "execution_count": 22,
     "metadata": {},
     "output_type": "execute_result"
    }
   ],
   "source": [
    "products.describe()"
   ]
  },
  {
   "cell_type": "markdown",
   "id": "5fa9c998-53bd-48e7-82d0-d3f16e667661",
   "metadata": {},
   "source": [
    "count : Nombre total d'éléments 3286 pour price et 3286 pour categ.\n",
    "mean : Moyenne des valeurs 21.863597 pour price et 0.370359 pour categ.\n",
    "std : Écart-type des valeurs de 29.849786 pour price et 0.615446 pour categ.\n",
    "min : Valeur minimale 0.620000 pour price.\n",
    "25% : Premier quartile des valeurs 6.990000 pour price, ce qui signifie que 25% des valeurs sont inférieures ou égales à cette valeur.\n",
    "50% : Deuxième quartile ou médiane des valeurs de 13.075000 pour price, ce qui signifie que 50% des valeurs sont inférieures ou égales à cette valeur.\n",
    "75% : Troisième quartile des valeurs de 22.990000 pour price et 1 pour categ), ce qui signifie que 75% des valeurs sont inférieures ou égales à cette valeur.\n",
    "max : Valeur maximale 300.000000 pour price et 2 pour categ).\n"
   ]
  },
  {
   "cell_type": "code",
   "execution_count": 23,
   "id": "16dd1141-68c9-4a45-8cef-00cd0c9c8811",
   "metadata": {},
   "outputs": [
    {
     "name": "stdout",
     "output_type": "stream",
     "text": [
      "<class 'pandas.core.frame.DataFrame'>\n",
      "RangeIndex: 687534 entries, 0 to 687533\n",
      "Data columns (total 5 columns):\n",
      " #   Column      Non-Null Count   Dtype         \n",
      "---  ------      --------------   -----         \n",
      " 0   id_prod     687534 non-null  object        \n",
      " 1   date        687534 non-null  datetime64[ns]\n",
      " 2   session_id  687534 non-null  object        \n",
      " 3   client_id   687534 non-null  object        \n",
      " 4   time        687534 non-null  object        \n",
      "dtypes: datetime64[ns](1), object(4)\n",
      "memory usage: 26.2+ MB\n"
     ]
    }
   ],
   "source": [
    "Transactions.info()"
   ]
  },
  {
   "cell_type": "code",
   "execution_count": 24,
   "id": "f5056d5f-d6f2-4c35-be8b-65e116f9e01d",
   "metadata": {},
   "outputs": [
    {
     "data": {
      "text/plain": [
       "id_prod       0\n",
       "date          0\n",
       "session_id    0\n",
       "client_id     0\n",
       "time          0\n",
       "dtype: int64"
      ]
     },
     "execution_count": 24,
     "metadata": {},
     "output_type": "execute_result"
    }
   ],
   "source": [
    "#valeurs manqueantes\n",
    "Transactions.isnull().sum()"
   ]
  },
  {
   "cell_type": "code",
   "execution_count": 25,
   "id": "08111be7-f991-44ad-a34e-0cafffdb6419",
   "metadata": {},
   "outputs": [
    {
     "data": {
      "text/plain": [
       "id_prod       0\n",
       "date          0\n",
       "session_id    0\n",
       "client_id     0\n",
       "time          0\n",
       "dtype: int64"
      ]
     },
     "execution_count": 25,
     "metadata": {},
     "output_type": "execute_result"
    }
   ],
   "source": [
    "Transactions.isna().sum()"
   ]
  },
  {
   "cell_type": "code",
   "execution_count": 26,
   "id": "aaca0b6e-dd89-40f0-ae2a-8711c0e3fea4",
   "metadata": {},
   "outputs": [
    {
     "data": {
      "text/html": [
       "<div>\n",
       "<style scoped>\n",
       "    .dataframe tbody tr th:only-of-type {\n",
       "        vertical-align: middle;\n",
       "    }\n",
       "\n",
       "    .dataframe tbody tr th {\n",
       "        vertical-align: top;\n",
       "    }\n",
       "\n",
       "    .dataframe thead th {\n",
       "        text-align: right;\n",
       "    }\n",
       "</style>\n",
       "<table border=\"1\" class=\"dataframe\">\n",
       "  <thead>\n",
       "    <tr style=\"text-align: right;\">\n",
       "      <th></th>\n",
       "      <th>id_prod</th>\n",
       "      <th>date</th>\n",
       "      <th>session_id</th>\n",
       "      <th>client_id</th>\n",
       "      <th>time</th>\n",
       "    </tr>\n",
       "  </thead>\n",
       "  <tbody>\n",
       "    <tr>\n",
       "      <th>159678</th>\n",
       "      <td>0_1442</td>\n",
       "      <td>2021-08-28</td>\n",
       "      <td>s_81831</td>\n",
       "      <td>c_999</td>\n",
       "      <td>13:12:42.429052</td>\n",
       "    </tr>\n",
       "    <tr>\n",
       "      <th>652268</th>\n",
       "      <td>1_727</td>\n",
       "      <td>2023-01-21</td>\n",
       "      <td>s_330231</td>\n",
       "      <td>c_999</td>\n",
       "      <td>17:40:50.856434</td>\n",
       "    </tr>\n",
       "    <tr>\n",
       "      <th>309023</th>\n",
       "      <td>1_247</td>\n",
       "      <td>2022-01-24</td>\n",
       "      <td>s_154462</td>\n",
       "      <td>c_999</td>\n",
       "      <td>09:39:50.831782</td>\n",
       "    </tr>\n",
       "    <tr>\n",
       "      <th>616391</th>\n",
       "      <td>1_407</td>\n",
       "      <td>2022-12-13</td>\n",
       "      <td>s_311465</td>\n",
       "      <td>c_999</td>\n",
       "      <td>15:31:15.583770</td>\n",
       "    </tr>\n",
       "    <tr>\n",
       "      <th>585240</th>\n",
       "      <td>1_676</td>\n",
       "      <td>2022-11-10</td>\n",
       "      <td>s_295726</td>\n",
       "      <td>c_999</td>\n",
       "      <td>23:59:59.414026</td>\n",
       "    </tr>\n",
       "    <tr>\n",
       "      <th>498207</th>\n",
       "      <td>1_251</td>\n",
       "      <td>2022-08-09</td>\n",
       "      <td>s_250655</td>\n",
       "      <td>c_999</td>\n",
       "      <td>09:06:38.818975</td>\n",
       "    </tr>\n",
       "    <tr>\n",
       "      <th>670667</th>\n",
       "      <td>1_676</td>\n",
       "      <td>2023-02-10</td>\n",
       "      <td>s_339757</td>\n",
       "      <td>c_999</td>\n",
       "      <td>23:59:59.414026</td>\n",
       "    </tr>\n",
       "    <tr>\n",
       "      <th>652258</th>\n",
       "      <td>1_351</td>\n",
       "      <td>2023-01-21</td>\n",
       "      <td>s_330231</td>\n",
       "      <td>c_999</td>\n",
       "      <td>17:16:06.807620</td>\n",
       "    </tr>\n",
       "    <tr>\n",
       "      <th>480582</th>\n",
       "      <td>1_727</td>\n",
       "      <td>2022-07-21</td>\n",
       "      <td>s_241673</td>\n",
       "      <td>c_999</td>\n",
       "      <td>17:40:50.856434</td>\n",
       "    </tr>\n",
       "    <tr>\n",
       "      <th>422954</th>\n",
       "      <td>1_351</td>\n",
       "      <td>2022-05-21</td>\n",
       "      <td>s_211960</td>\n",
       "      <td>c_999</td>\n",
       "      <td>17:16:06.807620</td>\n",
       "    </tr>\n",
       "  </tbody>\n",
       "</table>\n",
       "</div>"
      ],
      "text/plain": [
       "       id_prod       date session_id client_id             time\n",
       "159678  0_1442 2021-08-28    s_81831     c_999  13:12:42.429052\n",
       "652268   1_727 2023-01-21   s_330231     c_999  17:40:50.856434\n",
       "309023   1_247 2022-01-24   s_154462     c_999  09:39:50.831782\n",
       "616391   1_407 2022-12-13   s_311465     c_999  15:31:15.583770\n",
       "585240   1_676 2022-11-10   s_295726     c_999  23:59:59.414026\n",
       "498207   1_251 2022-08-09   s_250655     c_999  09:06:38.818975\n",
       "670667   1_676 2023-02-10   s_339757     c_999  23:59:59.414026\n",
       "652258   1_351 2023-01-21   s_330231     c_999  17:16:06.807620\n",
       "480582   1_727 2022-07-21   s_241673     c_999  17:40:50.856434\n",
       "422954   1_351 2022-05-21   s_211960     c_999  17:16:06.807620"
      ]
     },
     "execution_count": 26,
     "metadata": {},
     "output_type": "execute_result"
    }
   ],
   "source": [
    "#premierès lignes\n",
    "Transactions.sort_values('client_id', ascending = False).head(10)"
   ]
  },
  {
   "cell_type": "code",
   "execution_count": 27,
   "id": "c9e3fa0f-7e7b-4dd7-8d0c-5cfa224bc565",
   "metadata": {},
   "outputs": [
    {
     "data": {
      "text/html": [
       "<div>\n",
       "<style scoped>\n",
       "    .dataframe tbody tr th:only-of-type {\n",
       "        vertical-align: middle;\n",
       "    }\n",
       "\n",
       "    .dataframe tbody tr th {\n",
       "        vertical-align: top;\n",
       "    }\n",
       "\n",
       "    .dataframe thead th {\n",
       "        text-align: right;\n",
       "    }\n",
       "</style>\n",
       "<table border=\"1\" class=\"dataframe\">\n",
       "  <thead>\n",
       "    <tr style=\"text-align: right;\">\n",
       "      <th></th>\n",
       "      <th>id_prod</th>\n",
       "      <th>date</th>\n",
       "      <th>session_id</th>\n",
       "      <th>client_id</th>\n",
       "      <th>time</th>\n",
       "    </tr>\n",
       "  </thead>\n",
       "  <tbody>\n",
       "    <tr>\n",
       "      <th>628279</th>\n",
       "      <td>0_1448</td>\n",
       "      <td>2022-12-26</td>\n",
       "      <td>s_317678</td>\n",
       "      <td>c_1</td>\n",
       "      <td>17:37:29.438136</td>\n",
       "    </tr>\n",
       "    <tr>\n",
       "      <th>229397</th>\n",
       "      <td>2_208</td>\n",
       "      <td>2021-11-04</td>\n",
       "      <td>s_114737</td>\n",
       "      <td>c_1</td>\n",
       "      <td>17:28:13.934070</td>\n",
       "    </tr>\n",
       "    <tr>\n",
       "      <th>129143</th>\n",
       "      <td>0_513</td>\n",
       "      <td>2021-07-21</td>\n",
       "      <td>s_65433</td>\n",
       "      <td>c_1</td>\n",
       "      <td>22:41:38.769525</td>\n",
       "    </tr>\n",
       "    <tr>\n",
       "      <th>272614</th>\n",
       "      <td>0_1090</td>\n",
       "      <td>2021-12-19</td>\n",
       "      <td>s_136532</td>\n",
       "      <td>c_1</td>\n",
       "      <td>02:44:12.827475</td>\n",
       "    </tr>\n",
       "    <tr>\n",
       "      <th>566518</th>\n",
       "      <td>0_513</td>\n",
       "      <td>2022-10-21</td>\n",
       "      <td>s_286029</td>\n",
       "      <td>c_1</td>\n",
       "      <td>22:41:38.769525</td>\n",
       "    </tr>\n",
       "    <tr>\n",
       "      <th>624283</th>\n",
       "      <td>0_513</td>\n",
       "      <td>2022-12-21</td>\n",
       "      <td>s_315508</td>\n",
       "      <td>c_1</td>\n",
       "      <td>22:41:38.769525</td>\n",
       "    </tr>\n",
       "    <tr>\n",
       "      <th>211663</th>\n",
       "      <td>1_285</td>\n",
       "      <td>2021-10-15</td>\n",
       "      <td>s_105105</td>\n",
       "      <td>c_1</td>\n",
       "      <td>11:28:56.606533</td>\n",
       "    </tr>\n",
       "    <tr>\n",
       "      <th>211662</th>\n",
       "      <td>1_433</td>\n",
       "      <td>2021-10-15</td>\n",
       "      <td>s_105105</td>\n",
       "      <td>c_1</td>\n",
       "      <td>11:28:27.540834</td>\n",
       "    </tr>\n",
       "    <tr>\n",
       "      <th>211661</th>\n",
       "      <td>1_593</td>\n",
       "      <td>2021-10-15</td>\n",
       "      <td>s_105105</td>\n",
       "      <td>c_1</td>\n",
       "      <td>11:28:26.793443</td>\n",
       "    </tr>\n",
       "    <tr>\n",
       "      <th>269282</th>\n",
       "      <td>1_364</td>\n",
       "      <td>2021-12-15</td>\n",
       "      <td>s_134971</td>\n",
       "      <td>c_1</td>\n",
       "      <td>23:32:41.632729</td>\n",
       "    </tr>\n",
       "  </tbody>\n",
       "</table>\n",
       "</div>"
      ],
      "text/plain": [
       "       id_prod       date session_id client_id             time\n",
       "628279  0_1448 2022-12-26   s_317678       c_1  17:37:29.438136\n",
       "229397   2_208 2021-11-04   s_114737       c_1  17:28:13.934070\n",
       "129143   0_513 2021-07-21    s_65433       c_1  22:41:38.769525\n",
       "272614  0_1090 2021-12-19   s_136532       c_1  02:44:12.827475\n",
       "566518   0_513 2022-10-21   s_286029       c_1  22:41:38.769525\n",
       "624283   0_513 2022-12-21   s_315508       c_1  22:41:38.769525\n",
       "211663   1_285 2021-10-15   s_105105       c_1  11:28:56.606533\n",
       "211662   1_433 2021-10-15   s_105105       c_1  11:28:27.540834\n",
       "211661   1_593 2021-10-15   s_105105       c_1  11:28:26.793443\n",
       "269282   1_364 2021-12-15   s_134971       c_1  23:32:41.632729"
      ]
     },
     "execution_count": 27,
     "metadata": {},
     "output_type": "execute_result"
    }
   ],
   "source": [
    "#dernierès lignes\n",
    "Transactions.sort_values('client_id', ascending = False).tail(10)"
   ]
  },
  {
   "cell_type": "code",
   "execution_count": 28,
   "id": "67052ce0-578a-44b2-8fc1-86d60a8bc4ef",
   "metadata": {},
   "outputs": [
    {
     "data": {
      "text/plain": [
       "0"
      ]
     },
     "execution_count": 28,
     "metadata": {},
     "output_type": "execute_result"
    }
   ],
   "source": [
    "#doublons\n",
    "Transactions.duplicated().sum()"
   ]
  },
  {
   "cell_type": "markdown",
   "id": "8934c48a-af17-49a7-a56e-ea7b944367ee",
   "metadata": {},
   "source": [
    "Conclusion:\n",
    "dataframes sont nettoyés et vérifié, pas doublons, pas de valeurs manquantes, nulles. "
   ]
  },
  {
   "cell_type": "markdown",
   "id": "51587d64-7cfd-40d9-82dc-50e7188eacd3",
   "metadata": {},
   "source": [
    "Merge des dataframes:"
   ]
  },
  {
   "cell_type": "code",
   "execution_count": 29,
   "id": "00a70f12-5e6d-42fa-81f6-7783f837deff",
   "metadata": {},
   "outputs": [],
   "source": [
    "# Clé de df Transactions, customers ='client_id'\n",
    "# Clé new df et nouveau = 'id_prod'\n",
    "bd = pd.merge(Transactions, customers, on='client_id', how='left')\n",
    "newbd = pd.merge(bd, products, on='id_prod', how='left')\n"
   ]
  },
  {
   "cell_type": "markdown",
   "id": "63ee0f1b-0625-4d76-829a-b486488c3140",
   "metadata": {},
   "source": [
    "Avec le paramètre how='left' dans les fonctions merge(), pour garantir que tous les clients du newbd sont conservés, même s'ils n'ont pas de transactions correspondantes dans le dataframe Transactions. "
   ]
  },
  {
   "cell_type": "code",
   "execution_count": 30,
   "id": "5f48b9e4-4f37-4a54-805c-5784ed2aedd9",
   "metadata": {},
   "outputs": [
    {
     "data": {
      "text/html": [
       "<div>\n",
       "<style scoped>\n",
       "    .dataframe tbody tr th:only-of-type {\n",
       "        vertical-align: middle;\n",
       "    }\n",
       "\n",
       "    .dataframe tbody tr th {\n",
       "        vertical-align: top;\n",
       "    }\n",
       "\n",
       "    .dataframe thead th {\n",
       "        text-align: right;\n",
       "    }\n",
       "</style>\n",
       "<table border=\"1\" class=\"dataframe\">\n",
       "  <thead>\n",
       "    <tr style=\"text-align: right;\">\n",
       "      <th></th>\n",
       "      <th>id_prod</th>\n",
       "      <th>date</th>\n",
       "      <th>session_id</th>\n",
       "      <th>client_id</th>\n",
       "      <th>time</th>\n",
       "      <th>sex</th>\n",
       "      <th>birth</th>\n",
       "      <th>price</th>\n",
       "      <th>categ</th>\n",
       "    </tr>\n",
       "  </thead>\n",
       "  <tbody>\n",
       "    <tr>\n",
       "      <th>0</th>\n",
       "      <td>0_1259</td>\n",
       "      <td>2021-03-01</td>\n",
       "      <td>s_1</td>\n",
       "      <td>c_329</td>\n",
       "      <td>00:01:07.843138</td>\n",
       "      <td>f</td>\n",
       "      <td>1967</td>\n",
       "      <td>11.99</td>\n",
       "      <td>0</td>\n",
       "    </tr>\n",
       "    <tr>\n",
       "      <th>1</th>\n",
       "      <td>0_1390</td>\n",
       "      <td>2021-03-01</td>\n",
       "      <td>s_2</td>\n",
       "      <td>c_664</td>\n",
       "      <td>00:02:26.047414</td>\n",
       "      <td>m</td>\n",
       "      <td>1960</td>\n",
       "      <td>19.37</td>\n",
       "      <td>0</td>\n",
       "    </tr>\n",
       "    <tr>\n",
       "      <th>2</th>\n",
       "      <td>0_1352</td>\n",
       "      <td>2021-03-01</td>\n",
       "      <td>s_3</td>\n",
       "      <td>c_580</td>\n",
       "      <td>00:02:38.311413</td>\n",
       "      <td>m</td>\n",
       "      <td>1988</td>\n",
       "      <td>4.50</td>\n",
       "      <td>0</td>\n",
       "    </tr>\n",
       "    <tr>\n",
       "      <th>3</th>\n",
       "      <td>0_1458</td>\n",
       "      <td>2021-03-01</td>\n",
       "      <td>s_4</td>\n",
       "      <td>c_7912</td>\n",
       "      <td>00:04:54.559692</td>\n",
       "      <td>f</td>\n",
       "      <td>1989</td>\n",
       "      <td>6.55</td>\n",
       "      <td>0</td>\n",
       "    </tr>\n",
       "    <tr>\n",
       "      <th>4</th>\n",
       "      <td>0_1358</td>\n",
       "      <td>2021-03-01</td>\n",
       "      <td>s_5</td>\n",
       "      <td>c_2033</td>\n",
       "      <td>00:05:18.801198</td>\n",
       "      <td>f</td>\n",
       "      <td>1956</td>\n",
       "      <td>16.49</td>\n",
       "      <td>0</td>\n",
       "    </tr>\n",
       "    <tr>\n",
       "      <th>...</th>\n",
       "      <td>...</td>\n",
       "      <td>...</td>\n",
       "      <td>...</td>\n",
       "      <td>...</td>\n",
       "      <td>...</td>\n",
       "      <td>...</td>\n",
       "      <td>...</td>\n",
       "      <td>...</td>\n",
       "      <td>...</td>\n",
       "    </tr>\n",
       "    <tr>\n",
       "      <th>687529</th>\n",
       "      <td>1_508</td>\n",
       "      <td>2023-02-28</td>\n",
       "      <td>s_348444</td>\n",
       "      <td>c_3573</td>\n",
       "      <td>23:49:03.148402</td>\n",
       "      <td>f</td>\n",
       "      <td>1996</td>\n",
       "      <td>21.92</td>\n",
       "      <td>1</td>\n",
       "    </tr>\n",
       "    <tr>\n",
       "      <th>687530</th>\n",
       "      <td>2_37</td>\n",
       "      <td>2023-02-28</td>\n",
       "      <td>s_348445</td>\n",
       "      <td>c_50</td>\n",
       "      <td>23:51:29.318531</td>\n",
       "      <td>f</td>\n",
       "      <td>1994</td>\n",
       "      <td>48.99</td>\n",
       "      <td>2</td>\n",
       "    </tr>\n",
       "    <tr>\n",
       "      <th>687531</th>\n",
       "      <td>1_695</td>\n",
       "      <td>2023-02-28</td>\n",
       "      <td>s_348446</td>\n",
       "      <td>c_488</td>\n",
       "      <td>23:53:18.929676</td>\n",
       "      <td>f</td>\n",
       "      <td>1985</td>\n",
       "      <td>26.99</td>\n",
       "      <td>1</td>\n",
       "    </tr>\n",
       "    <tr>\n",
       "      <th>687532</th>\n",
       "      <td>0_1547</td>\n",
       "      <td>2023-02-28</td>\n",
       "      <td>s_348447</td>\n",
       "      <td>c_4848</td>\n",
       "      <td>23:58:00.107815</td>\n",
       "      <td>m</td>\n",
       "      <td>1953</td>\n",
       "      <td>8.99</td>\n",
       "      <td>0</td>\n",
       "    </tr>\n",
       "    <tr>\n",
       "      <th>687533</th>\n",
       "      <td>0_1398</td>\n",
       "      <td>2023-02-28</td>\n",
       "      <td>s_348435</td>\n",
       "      <td>c_3575</td>\n",
       "      <td>23:58:30.792755</td>\n",
       "      <td>f</td>\n",
       "      <td>1981</td>\n",
       "      <td>4.52</td>\n",
       "      <td>0</td>\n",
       "    </tr>\n",
       "  </tbody>\n",
       "</table>\n",
       "<p>687534 rows × 9 columns</p>\n",
       "</div>"
      ],
      "text/plain": [
       "       id_prod       date session_id client_id             time sex  birth  \\\n",
       "0       0_1259 2021-03-01        s_1     c_329  00:01:07.843138   f   1967   \n",
       "1       0_1390 2021-03-01        s_2     c_664  00:02:26.047414   m   1960   \n",
       "2       0_1352 2021-03-01        s_3     c_580  00:02:38.311413   m   1988   \n",
       "3       0_1458 2021-03-01        s_4    c_7912  00:04:54.559692   f   1989   \n",
       "4       0_1358 2021-03-01        s_5    c_2033  00:05:18.801198   f   1956   \n",
       "...        ...        ...        ...       ...              ...  ..    ...   \n",
       "687529   1_508 2023-02-28   s_348444    c_3573  23:49:03.148402   f   1996   \n",
       "687530    2_37 2023-02-28   s_348445      c_50  23:51:29.318531   f   1994   \n",
       "687531   1_695 2023-02-28   s_348446     c_488  23:53:18.929676   f   1985   \n",
       "687532  0_1547 2023-02-28   s_348447    c_4848  23:58:00.107815   m   1953   \n",
       "687533  0_1398 2023-02-28   s_348435    c_3575  23:58:30.792755   f   1981   \n",
       "\n",
       "        price  categ  \n",
       "0       11.99      0  \n",
       "1       19.37      0  \n",
       "2        4.50      0  \n",
       "3        6.55      0  \n",
       "4       16.49      0  \n",
       "...       ...    ...  \n",
       "687529  21.92      1  \n",
       "687530  48.99      2  \n",
       "687531  26.99      1  \n",
       "687532   8.99      0  \n",
       "687533   4.52      0  \n",
       "\n",
       "[687534 rows x 9 columns]"
      ]
     },
     "execution_count": 30,
     "metadata": {},
     "output_type": "execute_result"
    }
   ],
   "source": [
    "newbd"
   ]
  },
  {
   "cell_type": "code",
   "execution_count": 31,
   "id": "950d8637-3815-42b1-b240-60345424ee6f",
   "metadata": {},
   "outputs": [
    {
     "name": "stdout",
     "output_type": "stream",
     "text": [
      "       id_prod       date session_id client_id             time sex  birth  \\\n",
      "0       0_1259 2021-03-01        s_1     c_329  00:01:07.843138   f   1967   \n",
      "1       0_1390 2021-03-01        s_2     c_664  00:02:26.047414   m   1960   \n",
      "2       0_1352 2021-03-01        s_3     c_580  00:02:38.311413   m   1988   \n",
      "3       0_1458 2021-03-01        s_4    c_7912  00:04:54.559692   f   1989   \n",
      "4       0_1358 2021-03-01        s_5    c_2033  00:05:18.801198   f   1956   \n",
      "...        ...        ...        ...       ...              ...  ..    ...   \n",
      "687529   1_508 2023-02-28   s_348444    c_3573  23:49:03.148402   f   1996   \n",
      "687530    2_37 2023-02-28   s_348445      c_50  23:51:29.318531   f   1994   \n",
      "687531   1_695 2023-02-28   s_348446     c_488  23:53:18.929676   f   1985   \n",
      "687532  0_1547 2023-02-28   s_348447    c_4848  23:58:00.107815   m   1953   \n",
      "687533  0_1398 2023-02-28   s_348435    c_3575  23:58:30.792755   f   1981   \n",
      "\n",
      "        price  categ  age  \n",
      "0       11.99      0   56  \n",
      "1       19.37      0   63  \n",
      "2        4.50      0   35  \n",
      "3        6.55      0   34  \n",
      "4       16.49      0   67  \n",
      "...       ...    ...  ...  \n",
      "687529  21.92      1   27  \n",
      "687530  48.99      2   29  \n",
      "687531  26.99      1   38  \n",
      "687532   8.99      0   70  \n",
      "687533   4.52      0   42  \n",
      "\n",
      "[687534 rows x 10 columns]\n"
     ]
    }
   ],
   "source": [
    "# creation colonne 'age'\n",
    "current_year = 2023\n",
    "newbd['age'] = current_year - newbd['birth']\n",
    "\n",
    "print(newbd)\n"
   ]
  },
  {
   "cell_type": "markdown",
   "id": "4c69d475-54f9-4718-926f-d61fdf047c4f",
   "metadata": {},
   "source": [
    "\n",
    "1) Mission data analyst (Antoine): \n",
    "- évolution chiffre d'affaires dans le temps (par mois)\n",
    "- décomposition en moyenne mobile pour évaluer la tendance globale\n",
    "- profile de client (ca par client, répartition par catégorie: âge et sexe, catégorie de produits achetés, montant total dépensé et la fréquence d'achat)\n",
    "- courbe de Lorenz (relation entre les revenus et comportement entre clients)\n",
    "- zoom sur les références (top 10 meilleurs et pire vente)\n",
    "- finalement analysis de prix (le plus et moins cher et sa catégorie)\n",
    "\n"
   ]
  },
  {
   "cell_type": "markdown",
   "id": "aff0013c-d3a9-4585-abad-b1cf059312df",
   "metadata": {},
   "source": [
    "# Evolution chiffre d'affaire dans le temps\n"
   ]
  },
  {
   "cell_type": "code",
   "execution_count": 32,
   "id": "bdb9ae85-0f80-4679-8409-cd7427388cbd",
   "metadata": {},
   "outputs": [
    {
     "name": "stdout",
     "output_type": "stream",
     "text": [
      "date\n",
      "2021-03    482440.61\n",
      "2021-04    476109.30\n",
      "2021-05    492943.47\n",
      "2021-06    484088.56\n",
      "2021-07    482835.40\n",
      "2021-08    482284.79\n",
      "2021-09    507240.68\n",
      "2021-10    494733.16\n",
      "2021-11    516167.73\n",
      "2021-12    525917.28\n",
      "2022-01    525338.99\n",
      "2022-02    535571.50\n",
      "2022-03    515456.53\n",
      "2022-04    492998.94\n",
      "2022-05    517132.60\n",
      "2022-06    496016.12\n",
      "2022-07    510783.12\n",
      "2022-08    506467.27\n",
      "2022-09    494114.53\n",
      "2022-10    507917.77\n",
      "2022-11    496664.94\n",
      "2022-12    510219.50\n",
      "2023-01    517540.55\n",
      "2023-02    456679.76\n",
      "Freq: M, Name: price, dtype: float64\n"
     ]
    }
   ],
   "source": [
    "# grouper le transactions par mois\n",
    "chiffre_par_mois = newbd.groupby(newbd['date'].dt.to_period('M'))['price'].sum()\n",
    "\n",
    "# affichage\n",
    "print(chiffre_par_mois)"
   ]
  },
  {
   "cell_type": "code",
   "execution_count": 33,
   "id": "72cd8ab1-60d6-4e63-99d6-615ce20c0196",
   "metadata": {},
   "outputs": [
    {
     "data": {
      "image/png": "[encoded data removed]",
      "text/plain": [
       "<Figure size 640x480 with 1 Axes>"
      ]
     },
     "metadata": {},
     "output_type": "display_data"
    }
   ],
   "source": [
    "fig, ax = plt.subplots()\n",
    "\n",
    "# Graphique univarié\n",
    "chiffre_par_mois.plot(kind='line', ax=ax, marker='o', linestyle='-')\n",
    "\n",
    "# titres\n",
    "ax.set_title(\"Evolución del Chiffre d'Affaires por Mois\")\n",
    "ax.set_xlabel(\"Mois\")\n",
    "ax.set_ylabel(\"Chiffre d'Affaires\")\n",
    "\n",
    "# Rotation\n",
    "plt.xticks(rotation=45)\n",
    "\n",
    "# legends\n",
    "plt.legend([\"Chiffre d'Affaires\"])\n",
    "\n",
    "# affichage\n",
    "plt.show()"
   ]
  },
  {
   "cell_type": "markdown",
   "id": "e1378750-9dd6-4107-ad87-a4b2f7ca7d83",
   "metadata": {},
   "source": [
    "Globalement, le chiffre d'affaires semble augmenter de manière stable jusqu'à la fin de l'année 2022. Cependant, une forte baisse est observée en janvier 2023, suivie d'une reprise progressive mais pas complète du chiffre d'affaires au cours des mois suivants.\n",
    "\n",
    "Cette baisse significative en janvier 2023 pourrait être due à plusieurs facteurs:\n",
    "tels que des conditions économiques défavorables, \n",
    "une diminution de la demande des clients, \n",
    "des problèmes de disponibilité des produits ou \n",
    "des changements dans les habitudes d'achat des clients, à analyser... \n"
   ]
  },
  {
   "cell_type": "markdown",
   "id": "44058df6-4503-4cdb-83f0-a676c8780763",
   "metadata": {},
   "source": [
    "# Décomposition en moyenne mobile pour évaluer la tendance globale \n",
    "comprendre la décomposition de chiffre d'affaires"
   ]
  },
  {
   "cell_type": "code",
   "execution_count": 34,
   "id": "a4485ca9-8a2c-443e-8415-f79d1c2762e0",
   "metadata": {},
   "outputs": [
    {
     "name": "stdout",
     "output_type": "stream",
     "text": [
      "Les mois contienent tous ces jours.\n"
     ]
    }
   ],
   "source": [
    "#d'abord vérification si les mois sont complets\n",
    "dates_str = chiffre_par_mois.index.strftime('%Y-%m')\n",
    "mois_complet = newbd['date'].dt.date.value_counts().shape[0] == len(pd.date_range(newbd['date'].dt.date.min(), newbd['date'].dt.date.max()))\n",
    "\n",
    "if mois_complet:\n",
    "    print(\"Les mois contienent tous ces jours.\")\n",
    "else:\n",
    "    print(\"Les mois sont incomplet.\")"
   ]
  },
  {
   "cell_type": "code",
   "execution_count": 68,
   "id": "33f1b173-2584-4813-86fe-759e64892473",
   "metadata": {},
   "outputs": [
    {
     "data": {
      "image/png": "[encoded data removed]",
      "text/plain": [
       "<Figure size 800x400 with 1 Axes>"
      ]
     },
     "metadata": {},
     "output_type": "display_data"
    },
    {
     "data": {
      "text/plain": [
       "date\n",
       "2021-03           NaN\n",
       "2021-04    479274.955\n",
       "2021-05    484526.385\n",
       "2021-06    488516.015\n",
       "2021-07    483461.980\n",
       "2021-08    482560.095\n",
       "2021-09    494762.735\n",
       "2021-10    500986.920\n",
       "2021-11    505450.445\n",
       "2021-12    521042.505\n",
       "2022-01    525628.135\n",
       "2022-02    530455.245\n",
       "2022-03    525514.015\n",
       "2022-04    504227.735\n",
       "2022-05    505065.770\n",
       "2022-06    506574.360\n",
       "2022-07    503399.620\n",
       "2022-08    508625.195\n",
       "2022-09    500290.900\n",
       "2022-10    501016.150\n",
       "2022-11    502291.355\n",
       "2022-12    503442.220\n",
       "2023-01    513880.025\n",
       "2023-02    487110.155\n",
       "Freq: M, Name: price, dtype: float64"
      ]
     },
     "execution_count": 68,
     "metadata": {},
     "output_type": "execute_result"
    }
   ],
   "source": [
    "moyenne_mobile = chiffre_par_mois.rolling(window=2).mean()\n",
    " \n",
    "# print\n",
    "plt.figure(figsize=(8, 4))\n",
    "plt.plot(dates_str, chiffre_par_mois.values, label='Chiffre d affaires par mois', marker='o', linestyle='-')\n",
    "plt.plot(dates_str, moyenne_mobile.values, label='Moyenne mobile (2 mois)', linestyle='--')\n",
    "plt.title(\"Moyenne mobile du chiffre d'affaires par mois\")\n",
    "plt.xlabel(\"Date\")\n",
    "plt.ylabel(\"Chiffre d'affaires\")\n",
    "plt.legend()\n",
    "plt.grid(True)\n",
    "plt.xticks(rotation=45)\n",
    "plt.show()\n",
    "\n",
    "moyenne_mobile\n"
   ]
  },
  {
   "cell_type": "markdown",
   "id": "89fbb4b6-66b0-4a31-b423-7f15242a1f33",
   "metadata": {},
   "source": [
    "Rappel:\n",
    "La décomposition en moyenne mobile est une technique utilisée pour analyser les tendances temporelles dans les données. \n",
    "\n",
    "Explication:\n",
    "La moyenne mobile reflète comment le chiffre d'affaires moyen par client a évolué en fonction des données historiques. Voici une analyse basée sur les données fournies :\n",
    "- Au début, en mars 2021, la moyenne mobile est NaN (non disponible) car il n'y a pas de données antérieures pour calculer la moyenne mobile.\n",
    "- En avançant dans le temps, on constate que la moyenne mobile commence à augmenter progressivement à partir d'avril 2021 jusqu'à atteindre un pic en janvier 2022.\n",
    "- Après avoir atteint son maximum, la moyenne mobile semble fluctuer un peu, montrant quelques pics et creux, mais dans l'ensemble, elle semble se maintenir à un niveau élevé.\n",
    "- Cependant, vers la fin de la série temporelle, en février 2023, on observe une diminution significative de la moyenne mobile par rapport aux mois précédents.\n",
    "\n",
    "En résumé, la moyenne mobile reflète une tendance générale à la hausse du chiffre d'affaires par client au cours de la période observée, avec quelques fluctuations mineures. Cependant, vers la fin de la série temporelle, une diminution de la tendance à la hausse est observée."
   ]
  },
  {
   "cell_type": "markdown",
   "id": "96aca467-be6f-47d4-b164-f8bacfa376d5",
   "metadata": {},
   "source": [
    "# Profile client"
   ]
  },
  {
   "cell_type": "code",
   "execution_count": 72,
   "id": "a53ed243-5758-452c-baa1-7c1d0f5fd22d",
   "metadata": {},
   "outputs": [
    {
     "name": "stdout",
     "output_type": "stream",
     "text": [
      "année_mois\n",
      "2021-03    5676\n",
      "2021-04    5674\n",
      "2021-05    5644\n",
      "2021-06    5659\n",
      "2021-07    5672\n",
      "2021-08    5642\n",
      "2021-09    5693\n",
      "2021-10    6190\n",
      "2021-11    5875\n",
      "2021-12    5867\n",
      "2022-01    5809\n",
      "2022-02    5729\n",
      "2022-03    5835\n",
      "2022-04    5695\n",
      "2022-05    5843\n",
      "2022-06    5717\n",
      "2022-07    5778\n",
      "2022-08    5805\n",
      "2022-09    5738\n",
      "2022-10    5755\n",
      "2022-11    5749\n",
      "2022-12    5765\n",
      "2023-01    5828\n",
      "2023-02    5587\n",
      "Freq: M, Name: client_id, dtype: int64\n"
     ]
    }
   ],
   "source": [
    "# D'abord, combien de client unique par mois\n",
    "\n",
    "#filtrer année et mois dans colonne 'date'\n",
    "newbd['année_mois'] = newbd['date'].dt.to_period('M')\n",
    "client_par_mois = newbd.groupby('année_mois')['client_id'].nunique()\n",
    "\n",
    "# affichage\n",
    "print(client_par_mois)"
   ]
  },
  {
   "cell_type": "code",
   "execution_count": 37,
   "id": "bade1d9a-f40c-4c4b-8b49-44b39b7bea49",
   "metadata": {},
   "outputs": [
    {
     "data": {
      "image/png": "[encoded data removed]",
      "text/plain": [
       "<Figure size 640x480 with 1 Axes>"
      ]
     },
     "metadata": {},
     "output_type": "display_data"
    }
   ],
   "source": [
    "#Graphique bar univarié\n",
    "client_par_mois.plot(kind='bar', color='skyblue')\n",
    "plt.title(\"Nombre de clients par mois\")\n",
    "plt.xlabel(\"Mois\")\n",
    "plt.ylabel(\"Nombre de clients\")\n",
    "plt.xticks(rotation=45)\n",
    "plt.grid(axis='y', linestyle='--', alpha=0.7)\n",
    "plt.show()"
   ]
  },
  {
   "cell_type": "code",
   "execution_count": 38,
   "id": "ea476012-1c57-46bb-8862-17a24d20ba21",
   "metadata": {},
   "outputs": [
    {
     "name": "stdout",
     "output_type": "stream",
     "text": [
      "Avec un total de 687534 transactions le total de chiffre d'affaire c'était de: 12027663.100000001 €\n"
     ]
    }
   ],
   "source": [
    "# Total de chiffre d'affaires et transactions\n",
    "ca_total = chiffre_par_mois.sum()\n",
    "transactions = newbd['session_id'].count()\n",
    "print (\"Avec un total de\", transactions,\"transactions\", \"le total de chiffre d'affaire c'était de:\", ca_total, \"€\")"
   ]
  },
  {
   "cell_type": "code",
   "execution_count": 39,
   "id": "e4ed2898-4dff-4226-af97-37a3033f955a",
   "metadata": {},
   "outputs": [
    {
     "data": {
      "text/plain": [
       "client_id\n",
       "c_1609    326039.89\n",
       "c_4958    290227.03\n",
       "c_6714    153918.60\n",
       "c_3454    114110.57\n",
       "c_1570      5285.82\n",
       "            ...    \n",
       "c_4478        13.36\n",
       "c_4648        11.20\n",
       "c_8114         9.98\n",
       "c_8140         8.30\n",
       "c_8351         6.31\n",
       "Name: price, Length: 8600, dtype: float64"
      ]
     },
     "execution_count": 39,
     "metadata": {},
     "output_type": "execute_result"
    }
   ],
   "source": [
    "#Combien aport chaque client par mois\n",
    "total_ca_per_client = newbd.groupby('client_id')['price'].sum().sort_values(ascending=False)\n",
    "total_ca_per_client\n"
   ]
  },
  {
   "cell_type": "code",
   "execution_count": 40,
   "id": "789f0f9f-055c-4867-93cf-bc390d2b2901",
   "metadata": {},
   "outputs": [
    {
     "data": {
      "text/plain": [
       "client_id\n",
       "c_1609    0.027108\n",
       "c_4958    0.051237\n",
       "c_6714    0.064035\n",
       "c_3454    0.073522\n",
       "c_1570    0.073961\n",
       "            ...   \n",
       "c_4478    0.999997\n",
       "c_4648    0.999998\n",
       "c_8114    0.999999\n",
       "c_8140    0.999999\n",
       "c_8351    1.000000\n",
       "Name: price, Length: 8600, dtype: float64"
      ]
     },
     "execution_count": 40,
     "metadata": {},
     "output_type": "execute_result"
    }
   ],
   "source": [
    "# apport en percentage par client\n",
    "percentage_ca_par_client = total_ca_per_client.cumsum() / total_ca_per_client.sum()\n",
    "percentage_ca_par_client"
   ]
  },
  {
   "cell_type": "markdown",
   "id": "d4758913-b54e-4cd3-947e-ae84fa646dea",
   "metadata": {},
   "source": [
    "Selon la liste de top client, le client_id c_1609 a apporté le plus, et le suivi le c_4958, c_6714 et c_3454, donc 4 gros clients, peut être sont des BtoB: libraires, revendeurs, bibliothécaires, etc.\n",
    "peut être je peux enlèver ces clients du df."
   ]
  },
  {
   "cell_type": "code",
   "execution_count": 41,
   "id": "fccba01e-958c-435a-9a7f-0b231041ade1",
   "metadata": {},
   "outputs": [
    {
     "data": {
      "text/html": [
       "<div>\n",
       "<style scoped>\n",
       "    .dataframe tbody tr th:only-of-type {\n",
       "        vertical-align: middle;\n",
       "    }\n",
       "\n",
       "    .dataframe tbody tr th {\n",
       "        vertical-align: top;\n",
       "    }\n",
       "\n",
       "    .dataframe thead th {\n",
       "        text-align: right;\n",
       "    }\n",
       "</style>\n",
       "<table border=\"1\" class=\"dataframe\">\n",
       "  <thead>\n",
       "    <tr style=\"text-align: right;\">\n",
       "      <th></th>\n",
       "      <th>id_prod</th>\n",
       "      <th>date</th>\n",
       "      <th>session_id</th>\n",
       "      <th>client_id</th>\n",
       "      <th>time</th>\n",
       "      <th>sex</th>\n",
       "      <th>birth</th>\n",
       "      <th>price</th>\n",
       "      <th>categ</th>\n",
       "      <th>age</th>\n",
       "      <th>année_mois</th>\n",
       "    </tr>\n",
       "  </thead>\n",
       "  <tbody>\n",
       "    <tr>\n",
       "      <th>0</th>\n",
       "      <td>0_1259</td>\n",
       "      <td>2021-03-01</td>\n",
       "      <td>s_1</td>\n",
       "      <td>c_329</td>\n",
       "      <td>00:01:07.843138</td>\n",
       "      <td>f</td>\n",
       "      <td>1967</td>\n",
       "      <td>11.99</td>\n",
       "      <td>0</td>\n",
       "      <td>56</td>\n",
       "      <td>2021-03</td>\n",
       "    </tr>\n",
       "    <tr>\n",
       "      <th>1</th>\n",
       "      <td>0_1390</td>\n",
       "      <td>2021-03-01</td>\n",
       "      <td>s_2</td>\n",
       "      <td>c_664</td>\n",
       "      <td>00:02:26.047414</td>\n",
       "      <td>m</td>\n",
       "      <td>1960</td>\n",
       "      <td>19.37</td>\n",
       "      <td>0</td>\n",
       "      <td>63</td>\n",
       "      <td>2021-03</td>\n",
       "    </tr>\n",
       "    <tr>\n",
       "      <th>2</th>\n",
       "      <td>0_1352</td>\n",
       "      <td>2021-03-01</td>\n",
       "      <td>s_3</td>\n",
       "      <td>c_580</td>\n",
       "      <td>00:02:38.311413</td>\n",
       "      <td>m</td>\n",
       "      <td>1988</td>\n",
       "      <td>4.50</td>\n",
       "      <td>0</td>\n",
       "      <td>35</td>\n",
       "      <td>2021-03</td>\n",
       "    </tr>\n",
       "    <tr>\n",
       "      <th>3</th>\n",
       "      <td>0_1458</td>\n",
       "      <td>2021-03-01</td>\n",
       "      <td>s_4</td>\n",
       "      <td>c_7912</td>\n",
       "      <td>00:04:54.559692</td>\n",
       "      <td>f</td>\n",
       "      <td>1989</td>\n",
       "      <td>6.55</td>\n",
       "      <td>0</td>\n",
       "      <td>34</td>\n",
       "      <td>2021-03</td>\n",
       "    </tr>\n",
       "    <tr>\n",
       "      <th>4</th>\n",
       "      <td>0_1358</td>\n",
       "      <td>2021-03-01</td>\n",
       "      <td>s_5</td>\n",
       "      <td>c_2033</td>\n",
       "      <td>00:05:18.801198</td>\n",
       "      <td>f</td>\n",
       "      <td>1956</td>\n",
       "      <td>16.49</td>\n",
       "      <td>0</td>\n",
       "      <td>67</td>\n",
       "      <td>2021-03</td>\n",
       "    </tr>\n",
       "    <tr>\n",
       "      <th>...</th>\n",
       "      <td>...</td>\n",
       "      <td>...</td>\n",
       "      <td>...</td>\n",
       "      <td>...</td>\n",
       "      <td>...</td>\n",
       "      <td>...</td>\n",
       "      <td>...</td>\n",
       "      <td>...</td>\n",
       "      <td>...</td>\n",
       "      <td>...</td>\n",
       "      <td>...</td>\n",
       "    </tr>\n",
       "    <tr>\n",
       "      <th>687529</th>\n",
       "      <td>1_508</td>\n",
       "      <td>2023-02-28</td>\n",
       "      <td>s_348444</td>\n",
       "      <td>c_3573</td>\n",
       "      <td>23:49:03.148402</td>\n",
       "      <td>f</td>\n",
       "      <td>1996</td>\n",
       "      <td>21.92</td>\n",
       "      <td>1</td>\n",
       "      <td>27</td>\n",
       "      <td>2023-02</td>\n",
       "    </tr>\n",
       "    <tr>\n",
       "      <th>687530</th>\n",
       "      <td>2_37</td>\n",
       "      <td>2023-02-28</td>\n",
       "      <td>s_348445</td>\n",
       "      <td>c_50</td>\n",
       "      <td>23:51:29.318531</td>\n",
       "      <td>f</td>\n",
       "      <td>1994</td>\n",
       "      <td>48.99</td>\n",
       "      <td>2</td>\n",
       "      <td>29</td>\n",
       "      <td>2023-02</td>\n",
       "    </tr>\n",
       "    <tr>\n",
       "      <th>687531</th>\n",
       "      <td>1_695</td>\n",
       "      <td>2023-02-28</td>\n",
       "      <td>s_348446</td>\n",
       "      <td>c_488</td>\n",
       "      <td>23:53:18.929676</td>\n",
       "      <td>f</td>\n",
       "      <td>1985</td>\n",
       "      <td>26.99</td>\n",
       "      <td>1</td>\n",
       "      <td>38</td>\n",
       "      <td>2023-02</td>\n",
       "    </tr>\n",
       "    <tr>\n",
       "      <th>687532</th>\n",
       "      <td>0_1547</td>\n",
       "      <td>2023-02-28</td>\n",
       "      <td>s_348447</td>\n",
       "      <td>c_4848</td>\n",
       "      <td>23:58:00.107815</td>\n",
       "      <td>m</td>\n",
       "      <td>1953</td>\n",
       "      <td>8.99</td>\n",
       "      <td>0</td>\n",
       "      <td>70</td>\n",
       "      <td>2023-02</td>\n",
       "    </tr>\n",
       "    <tr>\n",
       "      <th>687533</th>\n",
       "      <td>0_1398</td>\n",
       "      <td>2023-02-28</td>\n",
       "      <td>s_348435</td>\n",
       "      <td>c_3575</td>\n",
       "      <td>23:58:30.792755</td>\n",
       "      <td>f</td>\n",
       "      <td>1981</td>\n",
       "      <td>4.52</td>\n",
       "      <td>0</td>\n",
       "      <td>42</td>\n",
       "      <td>2023-02</td>\n",
       "    </tr>\n",
       "  </tbody>\n",
       "</table>\n",
       "<p>640364 rows × 11 columns</p>\n",
       "</div>"
      ],
      "text/plain": [
       "       id_prod       date session_id client_id             time sex  birth  \\\n",
       "0       0_1259 2021-03-01        s_1     c_329  00:01:07.843138   f   1967   \n",
       "1       0_1390 2021-03-01        s_2     c_664  00:02:26.047414   m   1960   \n",
       "2       0_1352 2021-03-01        s_3     c_580  00:02:38.311413   m   1988   \n",
       "3       0_1458 2021-03-01        s_4    c_7912  00:04:54.559692   f   1989   \n",
       "4       0_1358 2021-03-01        s_5    c_2033  00:05:18.801198   f   1956   \n",
       "...        ...        ...        ...       ...              ...  ..    ...   \n",
       "687529   1_508 2023-02-28   s_348444    c_3573  23:49:03.148402   f   1996   \n",
       "687530    2_37 2023-02-28   s_348445      c_50  23:51:29.318531   f   1994   \n",
       "687531   1_695 2023-02-28   s_348446     c_488  23:53:18.929676   f   1985   \n",
       "687532  0_1547 2023-02-28   s_348447    c_4848  23:58:00.107815   m   1953   \n",
       "687533  0_1398 2023-02-28   s_348435    c_3575  23:58:30.792755   f   1981   \n",
       "\n",
       "        price  categ  age année_mois  \n",
       "0       11.99      0   56    2021-03  \n",
       "1       19.37      0   63    2021-03  \n",
       "2        4.50      0   35    2021-03  \n",
       "3        6.55      0   34    2021-03  \n",
       "4       16.49      0   67    2021-03  \n",
       "...       ...    ...  ...        ...  \n",
       "687529  21.92      1   27    2023-02  \n",
       "687530  48.99      2   29    2023-02  \n",
       "687531  26.99      1   38    2023-02  \n",
       "687532   8.99      0   70    2023-02  \n",
       "687533   4.52      0   42    2023-02  \n",
       "\n",
       "[640364 rows x 11 columns]"
      ]
     },
     "execution_count": 41,
     "metadata": {},
     "output_type": "execute_result"
    }
   ],
   "source": [
    "client_id_btob = ['c_1609', 'c_4958', 'c_6714', 'c_3454', 'c_1570']\n",
    "newbd_BtoC = newbd[~newbd['client_id'].isin(client_id_btob)]\n",
    "\n",
    "newbd_BtoC\n"
   ]
  },
  {
   "cell_type": "code",
   "execution_count": 51,
   "id": "5698820d-a4a5-4550-a895-61dfa4bdd460",
   "metadata": {},
   "outputs": [
    {
     "data": {
      "text/html": [
       "<div>\n",
       "<style scoped>\n",
       "    .dataframe tbody tr th:only-of-type {\n",
       "        vertical-align: middle;\n",
       "    }\n",
       "\n",
       "    .dataframe tbody tr th {\n",
       "        vertical-align: top;\n",
       "    }\n",
       "\n",
       "    .dataframe thead th {\n",
       "        text-align: right;\n",
       "    }\n",
       "</style>\n",
       "<table border=\"1\" class=\"dataframe\">\n",
       "  <thead>\n",
       "    <tr style=\"text-align: right;\">\n",
       "      <th></th>\n",
       "      <th>id_prod</th>\n",
       "      <th>date</th>\n",
       "      <th>session_id</th>\n",
       "      <th>client_id</th>\n",
       "      <th>time</th>\n",
       "      <th>sex</th>\n",
       "      <th>birth</th>\n",
       "      <th>price</th>\n",
       "      <th>categ</th>\n",
       "      <th>age</th>\n",
       "      <th>année_mois</th>\n",
       "    </tr>\n",
       "  </thead>\n",
       "  <tbody>\n",
       "    <tr>\n",
       "      <th>6</th>\n",
       "      <td>0_1304</td>\n",
       "      <td>2021-03-01</td>\n",
       "      <td>s_7</td>\n",
       "      <td>c_1609</td>\n",
       "      <td>00:07:04.371179</td>\n",
       "      <td>m</td>\n",
       "      <td>1980</td>\n",
       "      <td>5.86</td>\n",
       "      <td>0</td>\n",
       "      <td>43</td>\n",
       "      <td>2021-03</td>\n",
       "    </tr>\n",
       "    <tr>\n",
       "      <th>13</th>\n",
       "      <td>0_1159</td>\n",
       "      <td>2021-03-01</td>\n",
       "      <td>s_7</td>\n",
       "      <td>c_1609</td>\n",
       "      <td>00:11:57.832228</td>\n",
       "      <td>m</td>\n",
       "      <td>1980</td>\n",
       "      <td>7.99</td>\n",
       "      <td>0</td>\n",
       "      <td>43</td>\n",
       "      <td>2021-03</td>\n",
       "    </tr>\n",
       "    <tr>\n",
       "      <th>50</th>\n",
       "      <td>0_1431</td>\n",
       "      <td>2021-03-01</td>\n",
       "      <td>s_33</td>\n",
       "      <td>c_3454</td>\n",
       "      <td>01:08:49.803921</td>\n",
       "      <td>m</td>\n",
       "      <td>1969</td>\n",
       "      <td>10.99</td>\n",
       "      <td>0</td>\n",
       "      <td>54</td>\n",
       "      <td>2021-03</td>\n",
       "    </tr>\n",
       "    <tr>\n",
       "      <th>78</th>\n",
       "      <td>0_1425</td>\n",
       "      <td>2021-03-01</td>\n",
       "      <td>s_46</td>\n",
       "      <td>c_1609</td>\n",
       "      <td>01:56:41.944044</td>\n",
       "      <td>m</td>\n",
       "      <td>1980</td>\n",
       "      <td>12.99</td>\n",
       "      <td>0</td>\n",
       "      <td>43</td>\n",
       "      <td>2021-03</td>\n",
       "    </tr>\n",
       "    <tr>\n",
       "      <th>88</th>\n",
       "      <td>0_1469</td>\n",
       "      <td>2021-03-01</td>\n",
       "      <td>s_53</td>\n",
       "      <td>c_1609</td>\n",
       "      <td>02:12:21.294004</td>\n",
       "      <td>m</td>\n",
       "      <td>1980</td>\n",
       "      <td>14.99</td>\n",
       "      <td>0</td>\n",
       "      <td>43</td>\n",
       "      <td>2021-03</td>\n",
       "    </tr>\n",
       "    <tr>\n",
       "      <th>...</th>\n",
       "      <td>...</td>\n",
       "      <td>...</td>\n",
       "      <td>...</td>\n",
       "      <td>...</td>\n",
       "      <td>...</td>\n",
       "      <td>...</td>\n",
       "      <td>...</td>\n",
       "      <td>...</td>\n",
       "      <td>...</td>\n",
       "      <td>...</td>\n",
       "      <td>...</td>\n",
       "    </tr>\n",
       "    <tr>\n",
       "      <th>687482</th>\n",
       "      <td>0_1333</td>\n",
       "      <td>2023-02-28</td>\n",
       "      <td>s_348416</td>\n",
       "      <td>c_6714</td>\n",
       "      <td>22:40:24.405750</td>\n",
       "      <td>f</td>\n",
       "      <td>1968</td>\n",
       "      <td>5.99</td>\n",
       "      <td>0</td>\n",
       "      <td>55</td>\n",
       "      <td>2023-02</td>\n",
       "    </tr>\n",
       "    <tr>\n",
       "      <th>687494</th>\n",
       "      <td>1_392</td>\n",
       "      <td>2023-02-28</td>\n",
       "      <td>s_348416</td>\n",
       "      <td>c_6714</td>\n",
       "      <td>23:04:51.081903</td>\n",
       "      <td>f</td>\n",
       "      <td>1968</td>\n",
       "      <td>18.11</td>\n",
       "      <td>1</td>\n",
       "      <td>55</td>\n",
       "      <td>2023-02</td>\n",
       "    </tr>\n",
       "    <tr>\n",
       "      <th>687496</th>\n",
       "      <td>2_13</td>\n",
       "      <td>2023-02-28</td>\n",
       "      <td>s_348403</td>\n",
       "      <td>c_4958</td>\n",
       "      <td>23:08:40.035146</td>\n",
       "      <td>m</td>\n",
       "      <td>1999</td>\n",
       "      <td>50.99</td>\n",
       "      <td>2</td>\n",
       "      <td>24</td>\n",
       "      <td>2023-02</td>\n",
       "    </tr>\n",
       "    <tr>\n",
       "      <th>687498</th>\n",
       "      <td>1_183</td>\n",
       "      <td>2023-02-28</td>\n",
       "      <td>s_348416</td>\n",
       "      <td>c_6714</td>\n",
       "      <td>23:10:49.235323</td>\n",
       "      <td>f</td>\n",
       "      <td>1968</td>\n",
       "      <td>24.99</td>\n",
       "      <td>1</td>\n",
       "      <td>55</td>\n",
       "      <td>2023-02</td>\n",
       "    </tr>\n",
       "    <tr>\n",
       "      <th>687502</th>\n",
       "      <td>1_279</td>\n",
       "      <td>2023-02-28</td>\n",
       "      <td>s_348431</td>\n",
       "      <td>c_3454</td>\n",
       "      <td>23:16:12.006088</td>\n",
       "      <td>m</td>\n",
       "      <td>1969</td>\n",
       "      <td>27.99</td>\n",
       "      <td>1</td>\n",
       "      <td>54</td>\n",
       "      <td>2023-02</td>\n",
       "    </tr>\n",
       "  </tbody>\n",
       "</table>\n",
       "<p>47170 rows × 11 columns</p>\n",
       "</div>"
      ],
      "text/plain": [
       "       id_prod       date session_id client_id             time sex  birth  \\\n",
       "6       0_1304 2021-03-01        s_7    c_1609  00:07:04.371179   m   1980   \n",
       "13      0_1159 2021-03-01        s_7    c_1609  00:11:57.832228   m   1980   \n",
       "50      0_1431 2021-03-01       s_33    c_3454  01:08:49.803921   m   1969   \n",
       "78      0_1425 2021-03-01       s_46    c_1609  01:56:41.944044   m   1980   \n",
       "88      0_1469 2021-03-01       s_53    c_1609  02:12:21.294004   m   1980   \n",
       "...        ...        ...        ...       ...              ...  ..    ...   \n",
       "687482  0_1333 2023-02-28   s_348416    c_6714  22:40:24.405750   f   1968   \n",
       "687494   1_392 2023-02-28   s_348416    c_6714  23:04:51.081903   f   1968   \n",
       "687496    2_13 2023-02-28   s_348403    c_4958  23:08:40.035146   m   1999   \n",
       "687498   1_183 2023-02-28   s_348416    c_6714  23:10:49.235323   f   1968   \n",
       "687502   1_279 2023-02-28   s_348431    c_3454  23:16:12.006088   m   1969   \n",
       "\n",
       "        price  categ  age année_mois  \n",
       "6        5.86      0   43    2021-03  \n",
       "13       7.99      0   43    2021-03  \n",
       "50      10.99      0   54    2021-03  \n",
       "78      12.99      0   43    2021-03  \n",
       "88      14.99      0   43    2021-03  \n",
       "...       ...    ...  ...        ...  \n",
       "687482   5.99      0   55    2023-02  \n",
       "687494  18.11      1   55    2023-02  \n",
       "687496  50.99      2   24    2023-02  \n",
       "687498  24.99      1   55    2023-02  \n",
       "687502  27.99      1   54    2023-02  \n",
       "\n",
       "[47170 rows x 11 columns]"
      ]
     },
     "execution_count": 51,
     "metadata": {},
     "output_type": "execute_result"
    }
   ],
   "source": [
    "client_id_btob = ['c_1609', 'c_4958', 'c_6714', 'c_3454', 'c_1570']\n",
    "newbd_BtoB = newbd[newbd['client_id'].isin(client_id_btob)]\n",
    "\n",
    "newbd_BtoB\n"
   ]
  },
  {
   "cell_type": "code",
   "execution_count": 52,
   "id": "96c40475-ba95-4c62-8f0b-899eef89e7fb",
   "metadata": {},
   "outputs": [
    {
     "data": {
      "text/html": [
       "<div>\n",
       "<style scoped>\n",
       "    .dataframe tbody tr th:only-of-type {\n",
       "        vertical-align: middle;\n",
       "    }\n",
       "\n",
       "    .dataframe tbody tr th {\n",
       "        vertical-align: top;\n",
       "    }\n",
       "\n",
       "    .dataframe thead th {\n",
       "        text-align: right;\n",
       "    }\n",
       "</style>\n",
       "<table border=\"1\" class=\"dataframe\">\n",
       "  <thead>\n",
       "    <tr style=\"text-align: right;\">\n",
       "      <th></th>\n",
       "      <th>Femme/Homme</th>\n",
       "      <th>sex</th>\n",
       "      <th>Repartition</th>\n",
       "    </tr>\n",
       "  </thead>\n",
       "  <tbody>\n",
       "    <tr>\n",
       "      <th>0</th>\n",
       "      <td>f</td>\n",
       "      <td>333124</td>\n",
       "      <td>52.02</td>\n",
       "    </tr>\n",
       "    <tr>\n",
       "      <th>1</th>\n",
       "      <td>m</td>\n",
       "      <td>307240</td>\n",
       "      <td>47.98</td>\n",
       "    </tr>\n",
       "  </tbody>\n",
       "</table>\n",
       "</div>"
      ],
      "text/plain": [
       "  Femme/Homme     sex  Repartition\n",
       "0           f  333124        52.02\n",
       "1           m  307240        47.98"
      ]
     },
     "execution_count": 52,
     "metadata": {},
     "output_type": "execute_result"
    }
   ],
   "source": [
    "#répartition genre\n",
    "f_vs_m = newbd_BtoC[\"sex\"].value_counts().rename_axis('Femme/Homme').to_frame('sex').reset_index()\n",
    "f_vs_m[\"Repartition\"] = round((f_vs_m [\"sex\"] / f_vs_m [\"sex\"].sum())*100,2)\n",
    "f_vs_m"
   ]
  },
  {
   "cell_type": "code",
   "execution_count": 53,
   "id": "116643c3-b811-4318-b307-7832e1abfe5f",
   "metadata": {},
   "outputs": [
    {
     "data": {
      "image/png": "[encoded data removed]",
      "text/plain": [
       "<Figure size 600x400 with 1 Axes>"
      ]
     },
     "metadata": {},
     "output_type": "display_data"
    }
   ],
   "source": [
    "sex = ['Femme', 'Homme']\n",
    "repartition = [52.08, 47.92]\n",
    "\n",
    "# Création du graphique à barres\n",
    "plt.figure(figsize=(6, 4))\n",
    "plt.bar(sex, repartition, color=['pink', 'lightblue'])\n",
    "\n",
    "# Ajout des étiquettes\n",
    "for i in range(len(sex)):\n",
    "    plt.text(i, repartition[i] + 0.5, f'{repartition[i]}%', ha='center')\n",
    "\n",
    "# Personnalisation du graphique\n",
    "plt.title('Répartition des femmes et des hommes')\n",
    "plt.xlabel('Genre')\n",
    "plt.ylabel('Pourcentage')\n",
    "plt.ylim(0, 100)  # Définir les limites de l'axe y de 0 à 100\n",
    "plt.grid(axis='y', linestyle='--', alpha=0.7)\n",
    "\n",
    "# Affichage du graphique\n",
    "plt.show()"
   ]
  },
  {
   "cell_type": "code",
   "execution_count": 54,
   "id": "42890c8a-ffc9-4462-a0c2-aca811f6b074",
   "metadata": {},
   "outputs": [
    {
     "name": "stderr",
     "output_type": "stream",
     "text": [
      "/var/folders/cy/t20bxd4s1n30wgrjxd5xxwpr0000gn/T/ipykernel_68102/1160015441.py:2: UserWarning: Boolean Series key will be reindexed to match DataFrame index.\n",
      "  somme_masculin = newbd_BtoC [newbd['sex'] == 'm']['price'].sum()\n"
     ]
    },
    {
     "name": "stdout",
     "output_type": "stream",
     "text": [
      "Somme totale dépensée par les clients masculins : 5346441.929999999\n",
      "Somme totale dépensée par les clients féminins : 5791639.260000002\n",
      "Le sexe féminin a dépensé plus au total.\n"
     ]
    }
   ],
   "source": [
    "ventes_par_genre = newbd_BtoC .groupby('sex')['price'].sum()\n",
    "somme_masculin = newbd_BtoC [newbd['sex'] == 'm']['price'].sum()\n",
    "\n",
    "# Calculer la somme totale dépensée par les clients féminins\n",
    "somme_feminin = newbd_BtoC [newbd_BtoC ['sex'] == 'f']['price'].sum()\n",
    "\n",
    "print(\"Somme totale dépensée par les clients masculins :\", somme_masculin)\n",
    "print(\"Somme totale dépensée par les clients féminins :\", somme_feminin)\n",
    "# Comparer les sommes pour voir quel groupe a dépensé le plus au total\n",
    "if ventes_par_genre['f'] > ventes_par_genre['m']:\n",
    "    print(\"Le sexe féminin a dépensé plus au total.\")\n",
    "elif ventes_par_genre['f'] < ventes_par_genre['m']:\n",
    "    print(\"Le sexe masculin a dépensé plus au total.\")\n",
    "else:\n",
    "    print(\"Les dépenses totales sont égales pour les deux sexes.\")"
   ]
  },
  {
   "cell_type": "code",
   "execution_count": 55,
   "id": "1bdc90e6-a020-42f6-8fba-23ede4d7b1ed",
   "metadata": {},
   "outputs": [
    {
     "data": {
      "image/png": "[encoded data removed]",
      "text/plain": [
       "<Figure size 640x480 with 1 Axes>"
      ]
     },
     "metadata": {},
     "output_type": "display_data"
    },
    {
     "data": {
      "text/plain": [
       "[5346441.929999999, 5791639.260000002]"
      ]
     },
     "execution_count": 55,
     "metadata": {},
     "output_type": "execute_result"
    }
   ],
   "source": [
    "categories = ['Masculin', 'Féminin']\n",
    "sommes = [somme_masculin, somme_feminin]\n",
    "\n",
    "# graphique à barres\n",
    "plt.bar(categories, sommes, color=['lightblue', 'pink'])\n",
    "\n",
    "# titre\n",
    "plt.title(\"Total Dépensé par Genre de Client\")\n",
    "plt.xlabel(\"Genre\")\n",
    "plt.ylabel(\"Somme totale dépensée (en €)\")\n",
    "\n",
    "# Affichage\n",
    "plt.show()\n",
    "sommes"
   ]
  },
  {
   "cell_type": "code",
   "execution_count": 56,
   "id": "932225f3-ee80-4755-a53f-fb4d7254d5b1",
   "metadata": {},
   "outputs": [
    {
     "data": {
      "text/html": [
       "<div>\n",
       "<style scoped>\n",
       "    .dataframe tbody tr th:only-of-type {\n",
       "        vertical-align: middle;\n",
       "    }\n",
       "\n",
       "    .dataframe tbody tr th {\n",
       "        vertical-align: top;\n",
       "    }\n",
       "\n",
       "    .dataframe thead th {\n",
       "        text-align: right;\n",
       "    }\n",
       "</style>\n",
       "<table border=\"1\" class=\"dataframe\">\n",
       "  <thead>\n",
       "    <tr style=\"text-align: right;\">\n",
       "      <th>age</th>\n",
       "      <th>19</th>\n",
       "      <th>20</th>\n",
       "      <th>21</th>\n",
       "      <th>22</th>\n",
       "      <th>23</th>\n",
       "      <th>24</th>\n",
       "      <th>25</th>\n",
       "      <th>26</th>\n",
       "      <th>27</th>\n",
       "      <th>28</th>\n",
       "      <th>...</th>\n",
       "      <th>85</th>\n",
       "      <th>86</th>\n",
       "      <th>87</th>\n",
       "      <th>88</th>\n",
       "      <th>89</th>\n",
       "      <th>90</th>\n",
       "      <th>91</th>\n",
       "      <th>92</th>\n",
       "      <th>93</th>\n",
       "      <th>94</th>\n",
       "    </tr>\n",
       "    <tr>\n",
       "      <th>sex</th>\n",
       "      <th></th>\n",
       "      <th></th>\n",
       "      <th></th>\n",
       "      <th></th>\n",
       "      <th></th>\n",
       "      <th></th>\n",
       "      <th></th>\n",
       "      <th></th>\n",
       "      <th></th>\n",
       "      <th></th>\n",
       "      <th></th>\n",
       "      <th></th>\n",
       "      <th></th>\n",
       "      <th></th>\n",
       "      <th></th>\n",
       "      <th></th>\n",
       "      <th></th>\n",
       "      <th></th>\n",
       "      <th></th>\n",
       "      <th></th>\n",
       "      <th></th>\n",
       "    </tr>\n",
       "  </thead>\n",
       "  <tbody>\n",
       "    <tr>\n",
       "      <th>f</th>\n",
       "      <td>8063</td>\n",
       "      <td>2063</td>\n",
       "      <td>1971</td>\n",
       "      <td>2550</td>\n",
       "      <td>2649</td>\n",
       "      <td>2467</td>\n",
       "      <td>2617</td>\n",
       "      <td>2537</td>\n",
       "      <td>2948</td>\n",
       "      <td>3469</td>\n",
       "      <td>...</td>\n",
       "      <td>525</td>\n",
       "      <td>734</td>\n",
       "      <td>638</td>\n",
       "      <td>227</td>\n",
       "      <td>292</td>\n",
       "      <td>250</td>\n",
       "      <td>288</td>\n",
       "      <td>47</td>\n",
       "      <td>185</td>\n",
       "      <td>49</td>\n",
       "    </tr>\n",
       "    <tr>\n",
       "      <th>m</th>\n",
       "      <td>7434</td>\n",
       "      <td>2428</td>\n",
       "      <td>2740</td>\n",
       "      <td>1828</td>\n",
       "      <td>1880</td>\n",
       "      <td>2700</td>\n",
       "      <td>2368</td>\n",
       "      <td>2311</td>\n",
       "      <td>3249</td>\n",
       "      <td>2339</td>\n",
       "      <td>...</td>\n",
       "      <td>323</td>\n",
       "      <td>212</td>\n",
       "      <td>126</td>\n",
       "      <td>51</td>\n",
       "      <td>266</td>\n",
       "      <td>86</td>\n",
       "      <td>24</td>\n",
       "      <td>123</td>\n",
       "      <td>53</td>\n",
       "      <td>153</td>\n",
       "    </tr>\n",
       "  </tbody>\n",
       "</table>\n",
       "<p>2 rows × 76 columns</p>\n",
       "</div>"
      ],
      "text/plain": [
       "age    19    20    21    22    23    24    25    26    27    28  ...   85  \\\n",
       "sex                                                              ...        \n",
       "f    8063  2063  1971  2550  2649  2467  2617  2537  2948  3469  ...  525   \n",
       "m    7434  2428  2740  1828  1880  2700  2368  2311  3249  2339  ...  323   \n",
       "\n",
       "age   86   87   88   89   90   91   92   93   94  \n",
       "sex                                               \n",
       "f    734  638  227  292  250  288   47  185   49  \n",
       "m    212  126   51  266   86   24  123   53  153  \n",
       "\n",
       "[2 rows x 76 columns]"
      ]
     },
     "execution_count": 56,
     "metadata": {},
     "output_type": "execute_result"
    }
   ],
   "source": [
    "# Par âge et genre\n",
    "age_sex = newbd_BtoC.groupby(['sex', 'age']).size().unstack()\n",
    "age_sex"
   ]
  },
  {
   "cell_type": "code",
   "execution_count": 57,
   "id": "c5b041fe-278c-43f3-8269-9a96b38b09a7",
   "metadata": {},
   "outputs": [
    {
     "data": {
      "image/png": "[encoded data removed]",
      "text/plain": [
       "<Figure size 800x400 with 1 Axes>"
      ]
     },
     "metadata": {},
     "output_type": "display_data"
    },
    {
     "name": "stdout",
     "output_type": "stream",
     "text": [
      "La catégorie 0 est achète par client de moins 45 ans\n",
      "La catégorie 1 est achète par client de moins 48 ans\n",
      "La catégorie 2 est achète par client de moins 28 ans\n"
     ]
    }
   ],
   "source": [
    "# Répartition âge par catégorie de produit\n",
    "\n",
    "age_par_categorie = newbd_BtoC.groupby('categ')['age'].describe()\n",
    "\n",
    "# Affichage de la distribution de l'âge des clients par catégorie de produit\n",
    "plt.figure(figsize=(8, 4))\n",
    "age_par_categorie['mean'].plot(kind='bar', color='lightblue')\n",
    "plt.title(\"Distribution de l'âge des clients par catégorie de produit\")\n",
    "plt.xlabel(\"Catégorie de produit\")\n",
    "plt.ylabel(\"Âge moyen des clients\")\n",
    "plt.xticks(rotation=0)\n",
    "plt.grid(axis='y')\n",
    "plt.show()\n",
    "\n",
    "print (\"La catégorie 0 est achète par client de moins 45 ans\")\n",
    "print (\"La catégorie 1 est achète par client de moins 48 ans\")\n",
    "print (\"La catégorie 2 est achète par client de moins 28 ans\")"
   ]
  },
  {
   "cell_type": "code",
   "execution_count": 77,
   "id": "469893d9-9995-44df-aaae-d614c65b6efd",
   "metadata": {},
   "outputs": [
    {
     "name": "stdout",
     "output_type": "stream",
     "text": [
      "Le top 10 clients qui ont dépensé plus: client_id\n",
      "c_3263    5276.87\n",
      "c_2140    5260.18\n",
      "c_2899    5214.05\n",
      "c_7319    5155.77\n",
      "c_7959    5135.75\n",
      "c_1422    5131.36\n",
      "c_7421    5097.18\n",
      "c_8026    5082.58\n",
      "c_2505    5059.35\n",
      "c_1876    5026.60\n",
      "Name: price, dtype: float64\n",
      "Le top 10 clients qui ont moins dépensé: client_id\n",
      "c_4976    17.89\n",
      "c_8032    17.64\n",
      "c_5829    16.07\n",
      "c_5919    15.98\n",
      "c_6040    15.72\n",
      "c_4478    13.36\n",
      "c_4648    11.20\n",
      "c_8114     9.98\n",
      "c_8140     8.30\n",
      "c_8351     6.31\n",
      "Name: price, dtype: float64\n"
     ]
    }
   ],
   "source": [
    "# Par le montant total dépensé\n",
    "total_dépensé = newbd_BtoC.groupby('client_id')['price'].sum()\n",
    "\n",
    "# Trier les clients par le montant total dépensé\n",
    "total_dépensé_trié = total_dépensé.sort_values(ascending=False)\n",
    "\n",
    "# Tracer les 10 principaux clients par montant total dépensé\n",
    "top_clients = total_dépensé_trié.head(10)\n",
    "top_client_qui_ont_moins_dépensé = total_dépensé_trié.tail(10)\n",
    "\n",
    "\n",
    "print (\"Le top 10 clients qui ont dépensé plus:\", top_clients)\n",
    "print (\"Le top 10 clients qui ont moins dépensé:\", top_client_qui_ont_moins_dépensé)"
   ]
  },
  {
   "cell_type": "code",
   "execution_count": 78,
   "id": "71259194-4b89-4c4d-9cbc-ffa4e041634d",
   "metadata": {},
   "outputs": [
    {
     "data": {
      "image/png": "[encoded data removed]",
      "text/plain": [
       "<Figure size 800x400 with 1 Axes>"
      ]
     },
     "metadata": {},
     "output_type": "display_data"
    }
   ],
   "source": [
    "# courbe de Pareto\n",
    "somme_cumulée = top_clients.cumsum()\n",
    "\n",
    "# Tracer la courbe de Pareto\n",
    "plt.figure(figsize=(8, 4))\n",
    "plt.bar(range(len(top_clients)), top_clients, color='b', alpha=0.7)\n",
    "plt.plot(range(len(top_clients)), somme_cumulée, color='r', marker='o')\n",
    "plt.title('Courbe de Pareto des 10 principaux clients')\n",
    "plt.xlabel('Clients')\n",
    "plt.ylabel('Montant total dépensé')\n",
    "plt.xticks(range(len(top_clients)), top_clients.index, rotation=45)\n",
    "plt.legend(['Somme cumulée', 'Montant total dépensé'])\n",
    "plt.grid(True)\n",
    "\n",
    "plt.show()"
   ]
  },
  {
   "cell_type": "markdown",
   "id": "7d3176c9-68ea-426d-b85f-53d8eab3078c",
   "metadata": {},
   "source": [
    "En utilisant cette courbe, il est possible de voir clairement quels clients contribuent le plus aux ventes totales, ce qui peut être utile pour prendre des décisions commerciales stratégiques telles que cibler ces clients pour des offres spéciales ou des programmes de fidélisation.\n",
    "\n"
   ]
  },
  {
   "cell_type": "code",
   "execution_count": 60,
   "id": "1e7e7468-46f9-4e1b-aca3-1ecc78f196cc",
   "metadata": {},
   "outputs": [
    {
     "data": {
      "image/png": "[encoded data removed]",
      "text/plain": [
       "<Figure size 800x600 with 1 Axes>"
      ]
     },
     "metadata": {},
     "output_type": "display_data"
    }
   ],
   "source": [
    "# Par catégorie de produits achetés :\n",
    "category_grouped = newbd_BtoC.groupby(['client_id', 'categ']).size().unstack(fill_value=0)\n",
    "\n",
    "# Calculer la catégorie la plus achetée par chaque client\n",
    "category_grouped['catégorie_principale'] = category_grouped.idxmax(axis=1)\n",
    "\n",
    "# Compter le nombre de clients par catégorie principale\n",
    "nombre_clients_catégorie_principale = category_grouped['catégorie_principale'].value_counts()\n",
    "\n",
    "# Tracer la distribution des catégories principales\n",
    "nombre_clients_catégorie_principale.plot(kind='bar', figsize=(8, 6))\n",
    "plt.title('Répartition des catégories principales de produits achetés par client')\n",
    "plt.xlabel('Catégorie principale')\n",
    "plt.ylabel('Nombre de clients')\n",
    "plt.show()"
   ]
  },
  {
   "cell_type": "code",
   "execution_count": 61,
   "id": "c61cc6ca-eddc-49be-b9c5-50831302022a",
   "metadata": {},
   "outputs": [
    {
     "data": {
      "image/png": "[encoded data removed]",
      "text/plain": [
       "<Figure size 500x500 with 1 Axes>"
      ]
     },
     "metadata": {},
     "output_type": "display_data"
    },
    {
     "name": "stdout",
     "output_type": "stream",
     "text": [
      "Indice de Gini: 0.3980468398164395\n",
      "Un indice de Gini de 0.39 indique une inégalité modérée dans la répartition du chiffre d'affaires entre les clients.\n",
      "Cela signifie qu'il y a une certaine disparité dans la façon dont le chiffre d'affaires est réparti parmi les clients.\n",
      "mais que cette disparité n'est pas extrême..\n",
      "Plus l'indice de Gini est proche de 1, plus l'inégalité est élevée.\n"
     ]
    }
   ],
   "source": [
    "# Courbe de Lorenz\n",
    "#Rappel:\n",
    "#La courbe de Lorenz permettra de visualiser comment le chiffre d'affaires est réparti entre les clients. \n",
    "#Si la courbe de Lorenz se rapproche de la ligne de l'égalité parfaite (ligne rouge en pointillés), cela signifie que la distribution du chiffre d'affaires \n",
    "# est plus équitable entre les clients. Si la courbe est en dessous de la ligne d'égalité parfaite, cela indique une inégalité dans la \n",
    "#répartition du chiffre d'affaires.\n",
    "\n",
    "# Calcul du chiffre d'affaires total par client\n",
    "chiffre_affaires_par_client = newbd_BtoC.groupby('client_id')['price'].sum().sort_values()\n",
    "\n",
    "# Calcul de la distribution cumulative du chiffre d'affaires par client\n",
    "distribution_cumulative_chiffre_affaires = chiffre_affaires_par_client.cumsum() / chiffre_affaires_par_client.sum()\n",
    "\n",
    "# Calcul de la distribution cumulative de la population\n",
    "distribution_cumulative_population = np.linspace(0, 1, len(chiffre_affaires_par_client))\n",
    "\n",
    "# Tracé de la courbe de Lorenz\n",
    "plt.figure(figsize=(5, 5))\n",
    "plt.plot(distribution_cumulative_population, distribution_cumulative_chiffre_affaires, label='Courbe de Lorenz')\n",
    "plt.plot(distribution_cumulative_population, distribution_cumulative_population, label=\"Ligne d'égalité\", linestyle='--', color='red')\n",
    "plt.fill_between(distribution_cumulative_population, distribution_cumulative_population, distribution_cumulative_chiffre_affaires, color='skyblue', alpha=0.5)\n",
    "plt.xlabel(\"Fraction clients\")\n",
    "plt.ylabel(\"Fraction cumulative du chiffre d'affaires\")\n",
    "plt.title(\"Courbe de Lorenz du chiffre d'affaires par client\")\n",
    "plt.legend()\n",
    "plt.show()\n",
    "\n",
    "courb_lorenz = distribution_cumulative_chiffre_affaires.sum() / len(chiffre_affaires_par_client)\n",
    "\n",
    "# Calcul de l'indice de Gini\n",
    "indice_gini = (0.5 - courb_lorenz) / 0.5\n",
    "\n",
    "print(\"Indice de Gini:\", indice_gini)\n",
    "print (\"Un indice de Gini de 0.39 indique une inégalité modérée dans la répartition du chiffre d'affaires entre les clients.\")\n",
    "print (\"Cela signifie qu'il y a une certaine disparité dans la façon dont le chiffre d'affaires est réparti parmi les clients.\")\n",
    "print (\"mais que cette disparité n'est pas extrême..\")\n",
    "print (\"Plus l'indice de Gini est proche de 1, plus l'inégalité est élevée.\")\n",
    "\n"
   ]
  },
  {
   "cell_type": "markdown",
   "id": "8e1f0f16-9ea1-429d-9872-6f4116e2d4df",
   "metadata": {},
   "source": [
    "# Zoom sur les références, les tops et les flops, la répartition par catégorie, etc."
   ]
  },
  {
   "cell_type": "code",
   "execution_count": 62,
   "id": "adb1bfde-996a-481e-9162-86148e5003ad",
   "metadata": {},
   "outputs": [
    {
     "data": {
      "image/png": "[encoded data removed]",
      "text/plain": [
       "<Figure size 800x400 with 1 Axes>"
      ]
     },
     "metadata": {},
     "output_type": "display_data"
    }
   ],
   "source": [
    "# Analyse des ventes par référence :\n",
    "ventes_par_ref = newbd_BtoC['id_prod'].value_counts()\n",
    "\n",
    "# top 10 plus vendus\n",
    "top_10_refe = ventes_par_ref.head(10)\n",
    "\n",
    "# Graphique bar\n",
    "plt.figure(figsize=(8, 4))\n",
    "top_10_refe.plot(kind='bar', color='skyblue')\n",
    "plt.title('Top 10 de Reference plus vendus')\n",
    "plt.xlabel('Reference')\n",
    "plt.ylabel('Nombre de Ventss')\n",
    "plt.xticks(rotation=45)\n",
    "plt.grid(axis='y', linestyle='--', alpha=0.7)\n",
    "plt.show()\n"
   ]
  },
  {
   "cell_type": "code",
   "execution_count": 63,
   "id": "6defba57-44c2-4bb2-9932-37e1c09ffdcb",
   "metadata": {},
   "outputs": [
    {
     "data": {
      "image/png": "[encoded data removed]",
      "text/plain": [
       "<Figure size 800x400 with 1 Axes>"
      ]
     },
     "metadata": {},
     "output_type": "display_data"
    }
   ],
   "source": [
    "# Analyse des ventes par référence :\n",
    "ventes_par_ref = newbd['id_prod'].value_counts()\n",
    "\n",
    "# top 10 plus vendus\n",
    "top_10_refe_moins_vendu = ventes_par_ref.tail(10)\n",
    "\n",
    "# Graphique bar\n",
    "plt.figure(figsize=(8, 4))\n",
    "top_10_refe_moins_vendu.plot(kind='bar', color='skyblue')\n",
    "plt.title('Top 10 de Reference moins vendus')\n",
    "plt.xlabel('Reference')\n",
    "plt.ylabel('Nombre de Ventes')\n",
    "plt.xticks(rotation=45)\n",
    "plt.grid(axis='y', linestyle='--', alpha=0.7)\n",
    "plt.show()\n"
   ]
  },
  {
   "cell_type": "markdown",
   "id": "462d3233-8f12-4597-815e-f03b6be9ffae",
   "metadata": {},
   "source": [
    "Le top 10 de ventes proviennent de la catégorie 1 et le pire de 0."
   ]
  },
  {
   "cell_type": "code",
   "execution_count": 64,
   "id": "8e4bc0ba-3766-4524-a861-f302cbb08747",
   "metadata": {},
   "outputs": [
    {
     "data": {
      "image/png": "[encoded data removed]",
      "text/plain": [
       "<Figure size 600x600 with 1 Axes>"
      ]
     },
     "metadata": {},
     "output_type": "display_data"
    }
   ],
   "source": [
    "ventes_par_category = newbd_BtoC['categ'].value_counts()\n",
    "\n",
    "# Graphique camenberg\n",
    "plt.figure(figsize=(6, 6))\n",
    "plt.pie(ventes_par_category, labels=ventes_par_category.index, autopct='%1.1f%%', startangle=140)\n",
    "plt.title('Repartition de Ventes par Catégorie')\n",
    "plt.show()"
   ]
  },
  {
   "cell_type": "markdown",
   "id": "48ad1c7a-e4fe-4bae-9ea3-075a68307a43",
   "metadata": {},
   "source": [
    "3 - Analyse des prix : identifier les produits les plus chers et les moins chers, ainsi que les tendances de prix dans différentes catégories."
   ]
  },
  {
   "cell_type": "code",
   "execution_count": 67,
   "id": "0b3db39c-bfed-45cb-8a37-aeb91c2ad46e",
   "metadata": {},
   "outputs": [
    {
     "data": {
      "image/png": "[encoded data removed]",
      "text/plain": [
       "<Figure size 1000x600 with 1 Axes>"
      ]
     },
     "metadata": {},
     "output_type": "display_data"
    },
    {
     "name": "stdout",
     "output_type": "stream",
     "text": [
      "Produit le plus cher : 2_2 300.0 €\n",
      "Produit le moins cher : 0_202 0.62 €\n"
     ]
    },
    {
     "data": {
      "image/png": "[encoded data removed]",
      "text/plain": [
       "<Figure size 800x400 with 1 Axes>"
      ]
     },
     "metadata": {},
     "output_type": "display_data"
    }
   ],
   "source": [
    "prix_par_reference = newbd_BtoC.groupby('id_prod')['price'].describe()\n",
    "\n",
    "# Visualisation des prix par référence avec un box plot\n",
    "plt.figure(figsize=(10, 6))\n",
    "prix_par_reference['mean'].plot(kind='box', vert=False)\n",
    "plt.title(\"Distribution des prix par référence de produit\")\n",
    "plt.xlabel(\"Prix moyen (en €)\")\n",
    "plt.grid(axis='x')\n",
    "plt.show()\n",
    "\n",
    "# Identification des produits les plus chers et les moins chers\n",
    "produit_plus_cher = prix_par_reference['mean'].idxmax()\n",
    "prix_plus_cher = prix_par_reference['mean'].max()\n",
    "produit_moins_cher = prix_par_reference['mean'].idxmin()\n",
    "prix_moins_cher = prix_par_reference['mean'].min()\n",
    "\n",
    "print(\"Produit le plus cher :\", produit_plus_cher,prix_plus_cher, \"€\")\n",
    "print(\"Produit le moins cher :\", produit_moins_cher, prix_moins_cher, \"€\")\n",
    "\n",
    "# Analyse des tendances de prix par catégorie\n",
    "prix_par_categorie = newbd_BtoC.groupby('categ')['price'].mean()\n",
    "\n",
    "plt.figure(figsize=(8, 4))\n",
    "prix_par_categorie.plot(kind='bar', color='skyblue')\n",
    "plt.title(\"Prix par catégorie de produit\")\n",
    "plt.xlabel(\"Catégorie de produit\")\n",
    "plt.ylabel(\"Prix en €)\")\n",
    "plt.xticks(rotation=0)\n",
    "plt.grid(axis='y')\n",
    "plt.show()"
   ]
  },
  {
   "cell_type": "markdown",
   "id": "c2f5eee4-869a-40d2-8908-bb9341d87be1",
   "metadata": {
    "tags": []
   },
   "source": [
    "# Mission 2 (Julie): comportements des clients\n",
    "## 5 corrélations:"
   ]
  },
  {
   "cell_type": "code",
   "execution_count": 65,
   "id": "f786b7bd-ba9e-4857-8083-242c6a47e21d",
   "metadata": {},
   "outputs": [
    {
     "data": {
      "text/html": [
       "<div>\n",
       "<style scoped>\n",
       "    .dataframe tbody tr th:only-of-type {\n",
       "        vertical-align: middle;\n",
       "    }\n",
       "\n",
       "    .dataframe tbody tr th {\n",
       "        vertical-align: top;\n",
       "    }\n",
       "\n",
       "    .dataframe thead th {\n",
       "        text-align: right;\n",
       "    }\n",
       "</style>\n",
       "<table border=\"1\" class=\"dataframe\">\n",
       "  <thead>\n",
       "    <tr style=\"text-align: right;\">\n",
       "      <th></th>\n",
       "      <th>id_prod</th>\n",
       "      <th>date</th>\n",
       "      <th>session_id</th>\n",
       "      <th>client_id</th>\n",
       "      <th>time</th>\n",
       "      <th>sex</th>\n",
       "      <th>birth</th>\n",
       "      <th>price</th>\n",
       "      <th>categ</th>\n",
       "      <th>age</th>\n",
       "      <th>année_mois</th>\n",
       "    </tr>\n",
       "  </thead>\n",
       "  <tbody>\n",
       "    <tr>\n",
       "      <th>0</th>\n",
       "      <td>0_1259</td>\n",
       "      <td>2021-03-01</td>\n",
       "      <td>s_1</td>\n",
       "      <td>c_329</td>\n",
       "      <td>00:01:07.843138</td>\n",
       "      <td>f</td>\n",
       "      <td>1967</td>\n",
       "      <td>11.99</td>\n",
       "      <td>0</td>\n",
       "      <td>56</td>\n",
       "      <td>2021-03</td>\n",
       "    </tr>\n",
       "    <tr>\n",
       "      <th>1</th>\n",
       "      <td>0_1390</td>\n",
       "      <td>2021-03-01</td>\n",
       "      <td>s_2</td>\n",
       "      <td>c_664</td>\n",
       "      <td>00:02:26.047414</td>\n",
       "      <td>m</td>\n",
       "      <td>1960</td>\n",
       "      <td>19.37</td>\n",
       "      <td>0</td>\n",
       "      <td>63</td>\n",
       "      <td>2021-03</td>\n",
       "    </tr>\n",
       "    <tr>\n",
       "      <th>2</th>\n",
       "      <td>0_1352</td>\n",
       "      <td>2021-03-01</td>\n",
       "      <td>s_3</td>\n",
       "      <td>c_580</td>\n",
       "      <td>00:02:38.311413</td>\n",
       "      <td>m</td>\n",
       "      <td>1988</td>\n",
       "      <td>4.50</td>\n",
       "      <td>0</td>\n",
       "      <td>35</td>\n",
       "      <td>2021-03</td>\n",
       "    </tr>\n",
       "    <tr>\n",
       "      <th>3</th>\n",
       "      <td>0_1458</td>\n",
       "      <td>2021-03-01</td>\n",
       "      <td>s_4</td>\n",
       "      <td>c_7912</td>\n",
       "      <td>00:04:54.559692</td>\n",
       "      <td>f</td>\n",
       "      <td>1989</td>\n",
       "      <td>6.55</td>\n",
       "      <td>0</td>\n",
       "      <td>34</td>\n",
       "      <td>2021-03</td>\n",
       "    </tr>\n",
       "    <tr>\n",
       "      <th>4</th>\n",
       "      <td>0_1358</td>\n",
       "      <td>2021-03-01</td>\n",
       "      <td>s_5</td>\n",
       "      <td>c_2033</td>\n",
       "      <td>00:05:18.801198</td>\n",
       "      <td>f</td>\n",
       "      <td>1956</td>\n",
       "      <td>16.49</td>\n",
       "      <td>0</td>\n",
       "      <td>67</td>\n",
       "      <td>2021-03</td>\n",
       "    </tr>\n",
       "    <tr>\n",
       "      <th>...</th>\n",
       "      <td>...</td>\n",
       "      <td>...</td>\n",
       "      <td>...</td>\n",
       "      <td>...</td>\n",
       "      <td>...</td>\n",
       "      <td>...</td>\n",
       "      <td>...</td>\n",
       "      <td>...</td>\n",
       "      <td>...</td>\n",
       "      <td>...</td>\n",
       "      <td>...</td>\n",
       "    </tr>\n",
       "    <tr>\n",
       "      <th>687529</th>\n",
       "      <td>1_508</td>\n",
       "      <td>2023-02-28</td>\n",
       "      <td>s_348444</td>\n",
       "      <td>c_3573</td>\n",
       "      <td>23:49:03.148402</td>\n",
       "      <td>f</td>\n",
       "      <td>1996</td>\n",
       "      <td>21.92</td>\n",
       "      <td>1</td>\n",
       "      <td>27</td>\n",
       "      <td>2023-02</td>\n",
       "    </tr>\n",
       "    <tr>\n",
       "      <th>687530</th>\n",
       "      <td>2_37</td>\n",
       "      <td>2023-02-28</td>\n",
       "      <td>s_348445</td>\n",
       "      <td>c_50</td>\n",
       "      <td>23:51:29.318531</td>\n",
       "      <td>f</td>\n",
       "      <td>1994</td>\n",
       "      <td>48.99</td>\n",
       "      <td>2</td>\n",
       "      <td>29</td>\n",
       "      <td>2023-02</td>\n",
       "    </tr>\n",
       "    <tr>\n",
       "      <th>687531</th>\n",
       "      <td>1_695</td>\n",
       "      <td>2023-02-28</td>\n",
       "      <td>s_348446</td>\n",
       "      <td>c_488</td>\n",
       "      <td>23:53:18.929676</td>\n",
       "      <td>f</td>\n",
       "      <td>1985</td>\n",
       "      <td>26.99</td>\n",
       "      <td>1</td>\n",
       "      <td>38</td>\n",
       "      <td>2023-02</td>\n",
       "    </tr>\n",
       "    <tr>\n",
       "      <th>687532</th>\n",
       "      <td>0_1547</td>\n",
       "      <td>2023-02-28</td>\n",
       "      <td>s_348447</td>\n",
       "      <td>c_4848</td>\n",
       "      <td>23:58:00.107815</td>\n",
       "      <td>m</td>\n",
       "      <td>1953</td>\n",
       "      <td>8.99</td>\n",
       "      <td>0</td>\n",
       "      <td>70</td>\n",
       "      <td>2023-02</td>\n",
       "    </tr>\n",
       "    <tr>\n",
       "      <th>687533</th>\n",
       "      <td>0_1398</td>\n",
       "      <td>2023-02-28</td>\n",
       "      <td>s_348435</td>\n",
       "      <td>c_3575</td>\n",
       "      <td>23:58:30.792755</td>\n",
       "      <td>f</td>\n",
       "      <td>1981</td>\n",
       "      <td>4.52</td>\n",
       "      <td>0</td>\n",
       "      <td>42</td>\n",
       "      <td>2023-02</td>\n",
       "    </tr>\n",
       "  </tbody>\n",
       "</table>\n",
       "<p>640364 rows × 11 columns</p>\n",
       "</div>"
      ],
      "text/plain": [
       "       id_prod       date session_id client_id             time sex  birth  \\\n",
       "0       0_1259 2021-03-01        s_1     c_329  00:01:07.843138   f   1967   \n",
       "1       0_1390 2021-03-01        s_2     c_664  00:02:26.047414   m   1960   \n",
       "2       0_1352 2021-03-01        s_3     c_580  00:02:38.311413   m   1988   \n",
       "3       0_1458 2021-03-01        s_4    c_7912  00:04:54.559692   f   1989   \n",
       "4       0_1358 2021-03-01        s_5    c_2033  00:05:18.801198   f   1956   \n",
       "...        ...        ...        ...       ...              ...  ..    ...   \n",
       "687529   1_508 2023-02-28   s_348444    c_3573  23:49:03.148402   f   1996   \n",
       "687530    2_37 2023-02-28   s_348445      c_50  23:51:29.318531   f   1994   \n",
       "687531   1_695 2023-02-28   s_348446     c_488  23:53:18.929676   f   1985   \n",
       "687532  0_1547 2023-02-28   s_348447    c_4848  23:58:00.107815   m   1953   \n",
       "687533  0_1398 2023-02-28   s_348435    c_3575  23:58:30.792755   f   1981   \n",
       "\n",
       "        price  categ  age année_mois  \n",
       "0       11.99      0   56    2021-03  \n",
       "1       19.37      0   63    2021-03  \n",
       "2        4.50      0   35    2021-03  \n",
       "3        6.55      0   34    2021-03  \n",
       "4       16.49      0   67    2021-03  \n",
       "...       ...    ...  ...        ...  \n",
       "687529  21.92      1   27    2023-02  \n",
       "687530  48.99      2   29    2023-02  \n",
       "687531  26.99      1   38    2023-02  \n",
       "687532   8.99      0   70    2023-02  \n",
       "687533   4.52      0   42    2023-02  \n",
       "\n",
       "[640364 rows x 11 columns]"
      ]
     },
     "execution_count": 65,
     "metadata": {},
     "output_type": "execute_result"
    }
   ],
   "source": [
    "#Identification variables sur le newbd\n",
    "newbd_BtoC"
   ]
  },
  {
   "cell_type": "markdown",
   "id": "926a8801-e617-4fe7-9a5e-524b8ab6de9a",
   "metadata": {},
   "source": [
    "Variables qualitatives :\n",
    "- Les id (client_id, id_prod, session_id)\n",
    "- Les catégories produits (0, 1 ou 2)\n",
    "- Le genre des customes (f ou m)\n",
    "- Les dates de Transactions (de 2021-03-01 à 2022-02-28)\n",
    "\n",
    "\n",
    "Variable quantitative :\n",
    "- Les prix products\n"
   ]
  },
  {
   "cell_type": "markdown",
   "id": "8551fa97-6313-4b5a-9b6a-8f798093e105",
   "metadata": {},
   "source": [
    "# 1 - Lien entre le genre d'un client et les catégories :\n",
    "Je vais utiliser une table de contingence (tableau croisé) soit un test statistique comme le test du (khi²) pour évaluer la dépendance entre le genre des clients et les catégories de produits achetés.\n",
    "\n",
    "Rappel:\n",
    "khi² sur un tableau de contingence: test d'association entre deux variables qualitatives"
   ]
  },
  {
   "cell_type": "code",
   "execution_count": 74,
   "id": "e450f83f-1c24-438f-9d10-5eae30664444",
   "metadata": {},
   "outputs": [
    {
     "data": {
      "image/png": "[encoded data removed]",
      "text/plain": [
       "<Figure size 640x480 with 1 Axes>"
      ]
     },
     "metadata": {},
     "output_type": "display_data"
    },
    {
     "data": {
      "text/plain": [
       "[5346441.929999999, 5791639.260000002]"
      ]
     },
     "execution_count": 74,
     "metadata": {},
     "output_type": "execute_result"
    }
   ],
   "source": [
    "genre = ['Masculin', 'Féminin']\n",
    "sommes = [somme_masculin, somme_feminin]\n",
    "\n",
    "# graphique à barres\n",
    "plt.bar(genre, sommes, color=['lightblue', 'pink'])\n",
    "\n",
    "# titre\n",
    "plt.title(\"Total Dépensé par Genre de Client\")\n",
    "plt.xlabel(\"Genre\")\n",
    "plt.ylabel(\"Somme totale dépensée (en €)\")\n",
    "\n",
    "# Affichage\n",
    "plt.show()\n",
    "sommes"
   ]
  },
  {
   "cell_type": "code",
   "execution_count": 78,
   "id": "38b67e90-92b7-41a8-b165-db69da1aa676",
   "metadata": {},
   "outputs": [
    {
     "name": "stdout",
     "output_type": "stream",
     "text": [
      "categ       0       1      2\n",
      "sex                         \n",
      "f      200533  115612  16979\n",
      "m      186488  104884  15868\n",
      "khi² statistic: 23.01737485800994\n",
      "P-value: 1.0042470291396563e-05\n"
     ]
    },
    {
     "data": {
      "image/png": "[encoded data removed]",
      "text/plain": [
       "<Figure size 800x400 with 2 Axes>"
      ]
     },
     "metadata": {},
     "output_type": "display_data"
    }
   ],
   "source": [
    "# 1. Créer une table de contingence\n",
    "contingency_table = pd.crosstab(newbd_BtoC['sex'], newbd_BtoC['categ'])\n",
    "print (contingency_table)\n",
    "\n",
    "# 2. Effectuer le test du khi-deux\n",
    "chi2, p, dof, expected = stats.chi2_contingency(contingency_table)\n",
    "print(\"khi² statistic:\", chi2)\n",
    "print(\"P-value:\", p)\n",
    "\n",
    "plt.figure(figsize=(8, 4))\n",
    "sns.heatmap(contingency_table, annot=True, cmap='coolwarm', fmt='d')\n",
    "plt.title(\"Répartition des achats par catégorie et par genre\")\n",
    "plt.xlabel(\"Catégorie de produit\")\n",
    "plt.ylabel(\"Genre\")\n",
    "plt.show()"
   ]
  },
  {
   "cell_type": "markdown",
   "id": "ecf1705a-3c7c-49d9-a467-d3264765a195",
   "metadata": {},
   "source": [
    "J'ai utilisé le \"Test d'association entre deux variables qualitatives\" \n",
    "Les résultats du test indiquent une statistique du test de 23,02 avec une valeur p (p-value) très très faible (1.00e-05). Cela suggère qu'il existe une dépendance significative entre le genre des clients et les catégories de produits achetés. En d'autres termes, le genre des clients semble influencer le type de produits qu'ils achètent.\n",
    "\n",
    "Le graphique heatmap confirme qu'il existe peu de variations entre les genres pour chaque catégorie de produits. Cela suggère que l'achat d'une catégorie spécifique ne dépend pas significativement du genre de l'acheteur. Les nuances de couleurs dans la carte thermique montrent que les niveaux d'achats sont assez uniformes entre les genres pour la plupart des catégories de produits.\n"
   ]
  },
  {
   "cell_type": "markdown",
   "id": "d0d0ed63-92e9-4c5d-b7c4-12934382dea2",
   "metadata": {},
   "source": [
    "# 2 - Lien entre l'âge des clients et le montant total des achats :\n",
    "Calcule le coefficient de corrélation de Pearson entre l'âge des clients et le montant total des achats pour évaluer la relation linéaire entre les deux variables. Vous pouvez également visualiser cette relation à l'aide d'un nuage de points (scatter plot)."
   ]
  },
  {
   "cell_type": "code",
   "execution_count": 85,
   "id": "5d5277c7-2967-4b4e-9346-69ec326df05a",
   "metadata": {},
   "outputs": [
    {
     "name": "stdout",
     "output_type": "stream",
     "text": [
      "Corrélation de Speraman: SpearmanrResult(correlation=-0.8746958304853042, pvalue=5.5645079759849105e-25)\n",
      "La corrélation de Spearman mesure la relation statistique entre deux variables.\n",
      "Dans ce cas, la corrélation de Spearman est de -0.8747, ce qui indique une forte corrélation négative entre l'âge des clients et le montant total\n",
      "des achats. En d'autres termes, cela suggère qu'à mesure que l'âge des clients augmente,\n",
      "le montant total des achats diminue. Le p-value associé est très faible (5.5645079759849105e-25),\n",
      "ce qui indique une très forte significativité statistique de la corrélation observée.\n"
     ]
    },
    {
     "data": {
      "image/png": "[encoded data removed]",
      "text/plain": [
       "<Figure size 640x480 with 1 Axes>"
      ]
     },
     "metadata": {},
     "output_type": "display_data"
    }
   ],
   "source": [
    "age = newbd_BtoC.groupby([\"age\"])[\"client_id\"].count()\n",
    "total_achats = newbd_BtoC.groupby([\"age\"])[\"price\"].sum()\n",
    "\n",
    "# Correlation entre l'age et le montant total des achats:\n",
    "print(\"Corrélation de Speraman:\", stats.spearmanr(total_achats.index, total_achats.values))\n",
    "\n",
    "# Graphique:\n",
    "sns.scatterplot(data= total_achats)\n",
    "plt.ylabel(\"Montant €\")\n",
    "plt.xlabel(\"Age (par an)\")\n",
    "plt.title(\"L'âge des clients et le montant total des achats\")\n",
    "print (\"La corrélation de Spearman mesure la relation statistique entre deux variables.\")\n",
    "print (\"Dans ce cas, la corrélation de Spearman est de -0.8747, ce qui indique une forte corrélation négative entre l'âge des clients et le montant total\")\n",
    "print (\"des achats. En d'autres termes, cela suggère qu'à mesure que l'âge des clients augmente,\") \n",
    "print (\"le montant total des achats diminue. Le p-value associé est très faible (5.5645079759849105e-25),\")\n",
    "print (\"ce qui indique une très forte significativité statistique de la corrélation observée.\")"
   ]
  },
  {
   "cell_type": "markdown",
   "id": "15895f1f-2cf3-42f3-ac2d-36a428458e11",
   "metadata": {},
   "source": [
    "Rappel:\n",
    "Le coefficient de corrélation de Pearson mesure la force et la direction de la relation linéaire entre les deux variables. Une valeur proche de 1 indique une corrélation positive forte, une valeur proche de -1 indique une corrélation négative forte, et une valeur proche de 0 indique une faible corrélation.\n"
   ]
  },
  {
   "cell_type": "markdown",
   "id": "4dd138a9-01b7-43e4-983f-d5de0c8c0d3f",
   "metadata": {},
   "source": [
    "# 3 - Lien entre l'âge des clients et la fréquence d'achat :\n",
    "Regrouper les clients par tranches d'âge et calculer la fréquence moyenne d'achat pour chaque groupe d'âge. Ensuite, vous pouvez évaluer s'il y a une tendance de la fréquence d'achat en fonction de l'âge à l'aide d'un graphique linéaire."
   ]
  },
  {
   "cell_type": "code",
   "execution_count": 97,
   "id": "6eff38fa-f3dc-4f55-9283-f601fef53962",
   "metadata": {},
   "outputs": [
    {
     "name": "stdout",
     "output_type": "stream",
     "text": [
      "    age  session_id         f\n",
      "75   94         202  0.000315\n",
      "74   93         238  0.000372\n",
      "73   92         170  0.000265\n",
      "72   91         312  0.000487\n",
      "71   90         336  0.000525\n",
      "70   89         558  0.000871\n",
      "69   88         278  0.000434\n",
      "68   87         764  0.001193\n",
      "67   86         946  0.001477\n",
      "66   85         848  0.001324\n"
     ]
    },
    {
     "data": {
      "image/png": "[encoded data removed]",
      "text/plain": [
       "<Figure size 640x480 with 1 Axes>"
      ]
     },
     "metadata": {},
     "output_type": "display_data"
    }
   ],
   "source": [
    "clients_freq = newbd_BtoC.groupby('age').count().reset_index()\n",
    "clients_freq = clients_freq[['age', 'session_id']]\n",
    "\n",
    "#Création d'une variable fréquence 'f'\n",
    "clients_freq['f'] = clients_freq['session_id'] / sum(clients_freq['session_id'])\n",
    "print (clients_freq.sort_values(by='age', ascending=False).head(10))\n",
    "\n",
    "plt.plot(clients_freq[clients_freq.f < .05].age, clients_freq[clients_freq.f < .05].f, 'o')\n",
    "\n",
    "plt.xlabel('age')\n",
    "plt.ylabel('Fréquence achat')\n",
    "plt.title(\"Fréquence des achats selon l'age du client\")\n",
    "\n",
    "plt.show()\n"
   ]
  },
  {
   "cell_type": "markdown",
   "id": "79358f44-49ea-4650-a2e1-e0c17a70e3f4",
   "metadata": {},
   "source": [
    "Ce tableau montre la relation entre l'âge des clients et la fréquence moyenne d'achat. \n",
    "Chaque ligne représente une tranche d'âge spécifique. \n",
    "Par exemple, la première ligne indique que les clients âgés de 94 ans ont effectué en moyenne 0,000315 achats par session. \n",
    "Plus précisément, cela signifie que pour chaque session, un client de 94 ans a effectué environ 0,000315 achats en moyenne. \n",
    "En d'autres termes, la fréquence d'achat moyenne par session diminue avec l'âge, comme le montrent les valeurs croissantes de la colonne 'f' pour les tranches d'âge plus jeunes."
   ]
  },
  {
   "cell_type": "markdown",
   "id": "14412c7d-9653-4451-a461-fac717ef2a46",
   "metadata": {},
   "source": [
    "# 4 - Lien entre l'âge des clients et la taille du panier moyen :\n",
    "Regrouper les clients par tranches d'âge et calculer la taille moyenne du panier pour chaque groupe d'âge. Ensuite, visualiser cette relation à l'aide d'un graphique linéaire."
   ]
  },
  {
   "cell_type": "code",
   "execution_count": 100,
   "id": "1c5d2537-79fc-4534-b3b6-9ec525af18f0",
   "metadata": {},
   "outputs": [
    {
     "name": "stdout",
     "output_type": "stream",
     "text": [
      "Corrélation de Speraman: SpearmanrResult(correlation=-0.6756254272043746, pvalue=2.1521201757632096e-11)\n"
     ]
    },
    {
     "data": {
      "text/plain": [
       "Text(0.5, 1.0, \"l'âge des clients et la taille du panier moyen\")"
      ]
     },
     "execution_count": 100,
     "metadata": {},
     "output_type": "execute_result"
    },
    {
     "data": {
      "image/png": "[encoded data removed]",
      "text/plain": [
       "<Figure size 640x480 with 1 Axes>"
      ]
     },
     "metadata": {},
     "output_type": "display_data"
    }
   ],
   "source": [
    "# taille moyenne panier\n",
    "age_taille_panier = newbd_BtoC.groupby('age')['session_id'].count()\n",
    "\n",
    "print (\"Corrélation de Speraman:\", stats.spearmanr(age_taille_panier.index,age_taille_panier.values))\n",
    "\n",
    "sns.scatterplot(data= age_taille_panier)\n",
    "plt.ylabel(\"Taille panier\")\n",
    "plt.xlabel(\"Age (par an)\")\n",
    "plt.title(\"l'âge des clients et la taille du panier moyen\")"
   ]
  },
  {
   "cell_type": "markdown",
   "id": "ab7ac806-4f55-489d-8f9d-59676514d64e",
   "metadata": {},
   "source": [
    "La corrélation de Spearman est une mesure statistique qui évalue la relation monotone entre deux variables. Dans ce cas, la corrélation de Spearman entre l'âge des clients et la taille du panier moyen est de -0,6756254272043746.\n",
    "\n",
    "Interprétation :\n",
    "\n",
    "La valeur de corrélation est négative, ce qui indique une relation inverse entre l'âge des clients et la taille du panier moyen.\n",
    "Plus le coefficient de corrélation est proche de -1, plus la relation est forte.\n",
    "La p-value associée à la corrélation est très faible (2.1521201757632096e-11), ce qui indique une forte significativité statistique. Cela signifie que la corrélation observée est peu probable d'être due au hasard.\n",
    "En d'autres termes, il y a une corrélation significative et inverse entre l'âge des clients et la taille du panier moyen. Cela signifie que, en général, les clients plus jeunes ont tendance à avoir des paniers moyens plus grands, tandis que les clients plus âgés ont tendance à avoir des paniers moyens plus petits."
   ]
  },
  {
   "cell_type": "markdown",
   "id": "fa68498e-9023-48af-9a0b-a291ccddae91",
   "metadata": {},
   "source": [
    "# 5 - Lien entre l'âge des clients et la catégorie des livres achetés :\n",
    "Création d'une table de contingence entre l'âge des clients et les catégories de livres achetés, puis utiliser des tests statistiques comme le test du (khi²) pour évaluer s'il y a une association entre les deux variables."
   ]
  },
  {
   "cell_type": "code",
   "execution_count": 74,
   "id": "7a23392f-9776-48d8-b596-2bdaa869e3e0",
   "metadata": {},
   "outputs": [
    {
     "name": "stdout",
     "output_type": "stream",
     "text": [
      "Résultats du test du (khi²) :\n",
      "Valeur de (khi²): 0.0\n",
      "P-valeur : 1.0\n",
      "Table de contingence :\n",
      "age\n",
      "19    15497\n",
      "20     4491\n",
      "21     4711\n",
      "22     4378\n",
      "23     4529\n",
      "      ...  \n",
      "90      336\n",
      "91      312\n",
      "92      170\n",
      "93      238\n",
      "94      202\n",
      "Name: categ, Length: 76, dtype: int64\n"
     ]
    }
   ],
   "source": [
    "\n",
    "contingency_table1 = newbd_BtoC.groupby('age')['categ'].count()\n",
    "\n",
    "# Test du khi-deux (χ²)\n",
    "chi2, p_value, _, _ = chi2_contingency(contingency_table1)\n",
    "\n",
    "# Interprétation des résultats\n",
    "print(\"Résultats du test du (khi²) :\")\n",
    "print(\"Valeur de (khi²):\", chi2)\n",
    "print(\"P-valeur :\", p_value)\n",
    "\n",
    "# Afficher la table de contingence\n",
    "print(\"Table de contingence :\")\n",
    "print(contingency_table1)\n",
    "\n",
    "\n"
   ]
  },
  {
   "cell_type": "markdown",
   "id": "e280f85c-847c-4f24-bbdc-3fe9be919b14",
   "metadata": {},
   "source": [
    "Explication:\n",
    "\n",
    "Valeur de chi2 : 273411.91\n",
    "P-valeur : 0.0\n",
    "Ces résultats indiquent qu'il y a une association significative entre l'âge des clients et les catégories de livres achetés, puisque la p-valeur est inférieure à 0.05 (un niveau de signification couramment utilisé). Cela signifie que nous rejetons l'hypothèse nulle d'indépendance entre les variables et concluons qu'il existe une association entre l'âge des clients et les catégories de livres achetés.\n",
    "\n",
    "Le tableau de contingence montre le nombre de ventes pour chaque catégorie de livre selon l'âge des clients. Chaque ligne représente une catégorie d'âge, et chaque colonne représente une catégorie de livre (0, 1 ou 2)."
   ]
  },
  {
   "cell_type": "markdown",
   "id": "fb56d7c2-4ab4-483e-9c60-adc20ac98343",
   "metadata": {},
   "source": [
    "Probabilité conditionnelle\n",
    "- Calcule de la probabilité conditionnelle d'achat d'un produit de catégorie 1 sachant que le client est de sexe masculin:"
   ]
  },
  {
   "cell_type": "code",
   "execution_count": 80,
   "id": "aa69e854-187c-425d-811a-2b6c5b1cd961",
   "metadata": {},
   "outputs": [
    {
     "name": "stderr",
     "output_type": "stream",
     "text": [
      "/var/folders/cy/t20bxd4s1n30wgrjxd5xxwpr0000gn/T/ipykernel_68102/771263491.py:2: UserWarning: Boolean Series key will be reindexed to match DataFrame index.\n",
      "  clients_masculins = newbd_BtoC[newbd['sex'] == 'm']\n"
     ]
    },
    {
     "name": "stdout",
     "output_type": "stream",
     "text": [
      "Probabilité P(A) : 0.4797896196538219\n",
      "Probabilité P(B) : 0.34432916278866393\n",
      "Probabilité conjointe P(A∩B) : 0.1637880955206726\n",
      "Probabilité conditionnelle P(B|A) : 0.3413748209868507\n"
     ]
    }
   ],
   "source": [
    "# Filtrer le dataframe pour les clients de sexe masculin\n",
    "clients_masculins = newbd_BtoC[newbd['sex'] == 'm']\n",
    "\n",
    "# Calculer la probabilité individuelle P(A) : probabilité qu'un client soit de sexe masculin\n",
    "P_A = len(clients_masculins) / len(newbd_BtoC)\n",
    "\n",
    "# Filtrer le dataframe pour les achats de produits de catégorie 1\n",
    "achats_cat_1 = newbd_BtoC[newbd_BtoC['categ'] == 1]\n",
    "\n",
    "# Calculer la probabilité individuelle P(B) : probabilité qu'un produit acheté soit de catégorie 1\n",
    "P_B = len(achats_cat_1) / len(newbd_BtoC)\n",
    "\n",
    "# Calculer la probabilité conjointe P(A∩B) : probabilité qu'un client soit de sexe masculin et qu'il achète un produit de catégorie 1\n",
    "achats_masculins_cat_1 = achats_cat_1[achats_cat_1['sex'] == 'm']\n",
    "P_A_et_B = len(achats_masculins_cat_1) / len(newbd_BtoC)\n",
    "\n",
    "# Calculer la probabilité conditionnelle P(B|A) : probabilité qu'un produit acheté soit de catégorie 1 sachant que le client est de sexe masculin\n",
    "P_B_sachant_A = P_A_et_B / P_A\n",
    "\n",
    "# Affichage des résultats\n",
    "print(\"Probabilité P(A) :\", P_A)\n",
    "print(\"Probabilité P(B) :\", P_B)\n",
    "print(\"Probabilité conjointe P(A∩B) :\", P_A_et_B)\n",
    "print(\"Probabilité conditionnelle P(B|A) :\", P_B_sachant_A)"
   ]
  },
  {
   "cell_type": "markdown",
   "id": "b9525124-2510-40e1-be1d-5b22c1088dbc",
   "metadata": {},
   "source": [
    "Les probabilités fournies sont les suivantes :\n",
    "\n",
    "Probabilité P(A) : 0.4797896196538219 (probabilité que le client soit de sexe masculin)\n",
    "Probabilité P(B) : 0.34432916278866393 (probabilité d'acheter un produit de catégorie 1)\n",
    "Probabilité conjointe P(A∩B) : 0.1637880955206726 (probabilité que le client soit de sexe masculin et achète un produit de catégorie 1)\n",
    "Probabilité conditionnelle P(B|A) : 0.3413748209868507 (probabilité d'acheter un produit de catégorie 1 sachant que le client est de sexe masculin)\n",
    "Cela signifie que, étant donné que le client est de sexe masculin, la probabilité qu'il achète un produit de catégorie 1 est d'environ 0,3414, soit environ 34,14%."
   ]
  },
  {
   "cell_type": "code",
   "execution_count": null,
   "id": "c5454983-819a-46c6-8af7-d825e26be94e",
   "metadata": {},
   "outputs": [],
   "source": []
  },
  {
   "cell_type": "markdown",
   "id": "d80b5636-27c5-46d9-a39a-2d1800b9fc5d",
   "metadata": {},
   "source": [
    "Question  .... \n",
    "\n",
    "\n",
    "\n",
    "\n",
    "\n",
    "Merci !"
   ]
  },
  {
   "cell_type": "code",
   "execution_count": null,
   "id": "0318957f-5107-42c8-96b9-777bb7e6ff31",
   "metadata": {},
   "outputs": [],
   "source": []
  }
 ],
 "metadata": {
  "kernelspec": {
   "display_name": "Python 3 (ipykernel)",
   "language": "python",
   "name": "python3"
  },
  "language_info": {
   "codemirror_mode": {
    "name": "ipython",
    "version": 3
   },
   "file_extension": ".py",
   "mimetype": "text/x-python",
   "name": "python",
   "nbconvert_exporter": "python",
   "pygments_lexer": "ipython3",
   "version": "3.10.9"
  }
 },
 "nbformat": 4,
 "nbformat_minor": 5
}
