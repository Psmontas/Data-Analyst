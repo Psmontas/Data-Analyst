{
 "cells": [
  {
   "cell_type": "markdown",
   "id": "e7316a32",
   "metadata": {},
   "source": [
    "<div style=\" background-color: RGB(0,114,200);\" >\n",
    "<h1 style=\"margin: auto; padding: 20px 0; color:#fff; text-align: center\">PROJET 4 DATA ANALYST</h1>\n",
    "<h2 style=\"margin: auto; padding: 20px 0; color:#fff; text-align: center\">Étude de santé publique avec Python\n",
    "</h2>\n",
    "</div>"
   ]
  },
  {
   "cell_type": "markdown",
   "id": "6e00fa8a",
   "metadata": {},
   "source": [
    "# OBJECTIF DE CE NOTEBOOK\n",
    "\n",
    "Bienvenue dans l'outil plébiscité par les analystes de données Jupyter.\n",
    "\n",
    "Il s'agit d'un outil permettant de mixer et d'alterner codes, textes et graphique.\n",
    "\n",
    "Cet outil est formidable pour plusieurs raisons:\n",
    "\n",
    "+ il permet de tester des lignes de codes au fur et à mesure de votre rédaction, de constater immédiatement le résultat d'un instruction, de la corriger si nécessaire.\n",
    "+ De rédiger du texte pour expliquer l'approche suivie ou les résultats d'une analyse et de le mettre en forme grâce à du code html ou plus simple avec **Markdown**\n",
    "+ d'agrémenter de graphiques\n",
    "\n",
    "Pour vous aider dans vos premiers pas à l'usage de Jupyter et de Python, nous avons rédigé ce notebook en vous indiquant les instructions à suivre.\n",
    "\n",
    "Il vous suffit pour cela de saisir le code Python répondant à l'instruction donnée.\n",
    "\n",
    "Vous verrez de temps à autre le code Python répondant à une instruction donnée mais cela est fait pour vous aider à comprendre la nature du travail qui vous est demandée.\n",
    "\n",
    "Et garder à l'esprit, qu'il n'y a pas de solution unique pour résoudre un problème et qu'il y a autant de résolutions de problèmes que de développeurs ;)...\n",
    "\n"
   ]
  },
  {
   "cell_type": "markdown",
   "id": "c33bcf57",
   "metadata": {},
   "source": [
    "Note jeremy \n",
    "Est ce qu'il faut faire le calcul de la sous nutrition sur les pays qu'on a ? \n",
    "Est ce qu'il faut faire des graphiques ?\n",
    "Rajouter le soja\n",
    "La liste des céréales est difficile a trouver ..."
   ]
  },
  {
   "cell_type": "markdown",
   "id": "9dad8326",
   "metadata": {},
   "source": [
    "<div style=\"background-color: RGB(0,150,250);\" >\n",
    "<h2 style=\"margin: auto; padding: 20px; color:#fff; \">Etape 1 - Importation des librairies et chargement des fichiers</h2>\n",
    "</div>"
   ]
  },
  {
   "cell_type": "markdown",
   "id": "4ee69457",
   "metadata": {},
   "source": [
    "<div style=\"border: 1px solid RGB(0,150,250);\" >\n",
    "<h3 style=\"margin: auto; padding: 20px; color: RGB(0,150,250); \">1.1 - Importation des librairies</h3>\n",
    "</div>"
   ]
  },
  {
   "cell_type": "code",
   "execution_count": 1,
   "id": "ffe62b56",
   "metadata": {},
   "outputs": [],
   "source": [
    "#Importation de la librairie Pandas\n",
    "import pandas as pd\n",
    "import numpy as np\n",
    "import matplotlib.pyplot as plt\n"
   ]
  },
  {
   "cell_type": "markdown",
   "id": "8bd8e7ed",
   "metadata": {},
   "source": [
    "<div style=\"border: 1px solid RGB(0,150,250);\" >\n",
    "<h3 style=\"margin: auto; padding: 20px; color: RGB(0,150,250); \">1.2 - Chargement des fichiers Excel</h3>\n",
    "</div>"
   ]
  },
  {
   "cell_type": "code",
   "execution_count": 2,
   "id": "b304f108",
   "metadata": {},
   "outputs": [],
   "source": [
    "#Importation du fichier population.csv\n",
    "population = pd.read_csv('population.csv')\n",
    "\n",
    "#Importation du fichier dispo_alimentaire.csv\n",
    "dispo_alimentaire = pd.read_csv('dispo_alimentaire.csv')\n",
    "\n",
    "#Importation du fichier aide_alimentaire.csv\n",
    "aide_alimentaire = pd.read_csv('aide_alimentaire.csv')\n",
    "\n",
    "#Importation du fichier sous_nutrition.csv\n",
    "sous_nutrition = pd.read_csv('sous_nutrition.csv')"
   ]
  },
  {
   "cell_type": "markdown",
   "id": "1249847a",
   "metadata": {},
   "source": [
    "<div style=\"background-color: RGB(0,150,250);\" >\n",
    "<h2 style=\"margin: auto; padding: 20px; color:#fff; \">Etape 2 - Analyse exploratoire des fichiers</h2>\n",
    "</div>"
   ]
  },
  {
   "cell_type": "markdown",
   "id": "235e6e91",
   "metadata": {},
   "source": [
    "<div style=\"border: 1px solid RGB(0,150,250);\" >\n",
    "<h3 style=\"margin: auto; padding: 20px; color: RGB(0,150,250); \">2.1 - Analyse exploratoire du fichier population</h3>\n",
    "</div>"
   ]
  },
  {
   "cell_type": "code",
   "execution_count": 3,
   "id": "e6b639d2",
   "metadata": {},
   "outputs": [
    {
     "name": "stdout",
     "output_type": "stream",
     "text": [
      "Le tableau comporte 1416 observation(s) ou article(s)\n",
      "Le tableau comporte 3 colonne(s)\n"
     ]
    }
   ],
   "source": [
    "#Afficher les dimensions du dataset\n",
    "print(\"Le tableau comporte {} observation(s) ou article(s)\".format(population.shape[0]))\n",
    "print(\"Le tableau comporte {} colonne(s)\".format(population.shape[1]))"
   ]
  },
  {
   "cell_type": "code",
   "execution_count": 4,
   "id": "fbbdfd5c",
   "metadata": {},
   "outputs": [
    {
     "name": "stdout",
     "output_type": "stream",
     "text": [
      "Nombre de colonnes dans 'population': 3\n",
      "Types de données dans 'population':\n",
      "Zone       object\n",
      "Année       int64\n",
      "Valeur    float64\n",
      "dtype: object\n",
      "Nombre de valeurs présentes dans 'population':\n",
      "Zone      1416\n",
      "Année     1416\n",
      "Valeur    1416\n",
      "dtype: int64\n"
     ]
    }
   ],
   "source": [
    "#Consulter le nombre de colonnes\n",
    "print(\"Nombre de colonnes dans 'population':\", len(population.columns))\n",
    "\n",
    "#La nature des données dans chacune des colonnes\n",
    "print(\"Types de données dans 'population':\")\n",
    "print(population.dtypes)\n",
    "\n",
    "#Le nombre de valeurs présentes dans chacune des colonnes\n",
    "print(\"Nombre de valeurs présentes dans 'population':\")\n",
    "print(population.count())"
   ]
  },
  {
   "cell_type": "code",
   "execution_count": 5,
   "id": "3e50d9e6",
   "metadata": {},
   "outputs": [
    {
     "data": {
      "text/html": [
       "<div>\n",
       "<style scoped>\n",
       "    .dataframe tbody tr th:only-of-type {\n",
       "        vertical-align: middle;\n",
       "    }\n",
       "\n",
       "    .dataframe tbody tr th {\n",
       "        vertical-align: top;\n",
       "    }\n",
       "\n",
       "    .dataframe thead th {\n",
       "        text-align: right;\n",
       "    }\n",
       "</style>\n",
       "<table border=\"1\" class=\"dataframe\">\n",
       "  <thead>\n",
       "    <tr style=\"text-align: right;\">\n",
       "      <th></th>\n",
       "      <th>Zone</th>\n",
       "      <th>Année</th>\n",
       "      <th>Valeur</th>\n",
       "    </tr>\n",
       "  </thead>\n",
       "  <tbody>\n",
       "    <tr>\n",
       "      <th>0</th>\n",
       "      <td>Afghanistan</td>\n",
       "      <td>2013</td>\n",
       "      <td>32269.589</td>\n",
       "    </tr>\n",
       "    <tr>\n",
       "      <th>1</th>\n",
       "      <td>Afghanistan</td>\n",
       "      <td>2014</td>\n",
       "      <td>33370.794</td>\n",
       "    </tr>\n",
       "    <tr>\n",
       "      <th>2</th>\n",
       "      <td>Afghanistan</td>\n",
       "      <td>2015</td>\n",
       "      <td>34413.603</td>\n",
       "    </tr>\n",
       "    <tr>\n",
       "      <th>3</th>\n",
       "      <td>Afghanistan</td>\n",
       "      <td>2016</td>\n",
       "      <td>35383.032</td>\n",
       "    </tr>\n",
       "    <tr>\n",
       "      <th>4</th>\n",
       "      <td>Afghanistan</td>\n",
       "      <td>2017</td>\n",
       "      <td>36296.113</td>\n",
       "    </tr>\n",
       "  </tbody>\n",
       "</table>\n",
       "</div>"
      ],
      "text/plain": [
       "          Zone  Année     Valeur\n",
       "0  Afghanistan   2013  32269.589\n",
       "1  Afghanistan   2014  33370.794\n",
       "2  Afghanistan   2015  34413.603\n",
       "3  Afghanistan   2016  35383.032\n",
       "4  Afghanistan   2017  36296.113"
      ]
     },
     "execution_count": 5,
     "metadata": {},
     "output_type": "execute_result"
    }
   ],
   "source": [
    "#Affichage les 5 premières lignes de la table\n",
    "population.head(5)\n"
   ]
  },
  {
   "cell_type": "code",
   "execution_count": 6,
   "id": "ab1a4af4",
   "metadata": {},
   "outputs": [],
   "source": [
    "#Nous allons harmoniser les unités. Pour cela, nous avons décidé de multiplier la population par 1000\n",
    "#Multiplication de la colonne valeur par 1000\n",
    "population['Valeur'] = population['Valeur'] * 1000"
   ]
  },
  {
   "cell_type": "code",
   "execution_count": 7,
   "id": "1788321d-0b36-4495-8b06-87427f4255b3",
   "metadata": {},
   "outputs": [
    {
     "name": "stdout",
     "output_type": "stream",
     "text": [
      "0       32269589.0\n",
      "1       33370794.0\n",
      "2       34413603.0\n",
      "3       35383032.0\n",
      "4       36296113.0\n",
      "           ...    \n",
      "1411    13586707.0\n",
      "1412    13814629.0\n",
      "1413    14030331.0\n",
      "1414    14236595.0\n",
      "1415    14438802.0\n",
      "Name: Valeur, Length: 1416, dtype: float64\n"
     ]
    }
   ],
   "source": [
    "print (population['Valeur'])"
   ]
  },
  {
   "cell_type": "code",
   "execution_count": 8,
   "id": "38836b61",
   "metadata": {},
   "outputs": [],
   "source": [
    "#changement du nom de la colonne Valeur par Population\n",
    "population.rename(columns= {'Valeur':'Population'}, inplace = True) "
   ]
  },
  {
   "cell_type": "code",
   "execution_count": 9,
   "id": "ff707561",
   "metadata": {},
   "outputs": [
    {
     "name": "stdout",
     "output_type": "stream",
     "text": [
      "          Zone  Année  Population\n",
      "0  Afghanistan   2013  32269589.0\n",
      "1  Afghanistan   2014  33370794.0\n",
      "2  Afghanistan   2015  34413603.0\n",
      "3  Afghanistan   2016  35383032.0\n",
      "4  Afghanistan   2017  36296113.0\n"
     ]
    }
   ],
   "source": [
    "#Affichage les 5 premières lignes de la table pour voir les modifications\n",
    "print (population.head(5))\n"
   ]
  },
  {
   "cell_type": "markdown",
   "id": "4224b896",
   "metadata": {},
   "source": [
    "<div style=\"border: 1px solid RGB(0,150,250);\" >\n",
    "<h3 style=\"margin: auto; padding: 20px; color: RGB(0,150,250); \">2.2 - Analyse exploratoire du fichier disponibilité alimentaire</h3>\n",
    "</div>"
   ]
  },
  {
   "cell_type": "code",
   "execution_count": 10,
   "id": "38f5b838",
   "metadata": {},
   "outputs": [
    {
     "name": "stdout",
     "output_type": "stream",
     "text": [
      "(15605, 18)\n"
     ]
    }
   ],
   "source": [
    "#Afficher les dimensions du dataset, numéro de lignes et colonnes\n",
    "print(dispo_alimentaire.shape)"
   ]
  },
  {
   "cell_type": "code",
   "execution_count": 11,
   "id": "99735a22",
   "metadata": {},
   "outputs": [
    {
     "name": "stdout",
     "output_type": "stream",
     "text": [
      "Nombre de colonnes dans 'disponibilité_alimentaire': 18\n"
     ]
    }
   ],
   "source": [
    "#Consulter le nombre de colonnes\n",
    "print(\"Nombre de colonnes dans 'disponibilité_alimentaire':\", len(dispo_alimentaire.columns))"
   ]
  },
  {
   "cell_type": "code",
   "execution_count": 12,
   "id": "0058032d",
   "metadata": {},
   "outputs": [
    {
     "name": "stdout",
     "output_type": "stream",
     "text": [
      "          Zone                Produit   Origine  Aliments pour animaux  \\\n",
      "0  Afghanistan       Abats Comestible   animale                    NaN   \n",
      "1  Afghanistan        Agrumes, Autres  vegetale                    NaN   \n",
      "2  Afghanistan  Aliments pour enfants  vegetale                    NaN   \n",
      "3  Afghanistan                 Ananas  vegetale                    NaN   \n",
      "4  Afghanistan                Bananes  vegetale                    NaN   \n",
      "\n",
      "   Autres Utilisations  Disponibilité alimentaire (Kcal/personne/jour)  \\\n",
      "0                  NaN                                             5.0   \n",
      "1                  NaN                                             1.0   \n",
      "2                  NaN                                             1.0   \n",
      "3                  NaN                                             0.0   \n",
      "4                  NaN                                             4.0   \n",
      "\n",
      "   Disponibilité alimentaire en quantité (kg/personne/an)  \\\n",
      "0                                               1.72        \n",
      "1                                               1.29        \n",
      "2                                               0.06        \n",
      "3                                               0.00        \n",
      "4                                               2.70        \n",
      "\n",
      "   Disponibilité de matière grasse en quantité (g/personne/jour)  \\\n",
      "0                                               0.20               \n",
      "1                                               0.01               \n",
      "2                                               0.01               \n",
      "3                                                NaN               \n",
      "4                                               0.02               \n",
      "\n",
      "   Disponibilité de protéines en quantité (g/personne/jour)  \\\n",
      "0                                               0.77          \n",
      "1                                               0.02          \n",
      "2                                               0.03          \n",
      "3                                                NaN          \n",
      "4                                               0.05          \n",
      "\n",
      "   Disponibilité intérieure  Exportations - Quantité  Importations - Quantité  \\\n",
      "0                      53.0                      NaN                      NaN   \n",
      "1                      41.0                      2.0                     40.0   \n",
      "2                       2.0                      NaN                      2.0   \n",
      "3                       0.0                      NaN                      0.0   \n",
      "4                      82.0                      NaN                     82.0   \n",
      "\n",
      "   Nourriture  Pertes  Production  Semences  Traitement  Variation de stock  \n",
      "0        53.0     NaN        53.0       NaN         NaN                 NaN  \n",
      "1        39.0     2.0         3.0       NaN         NaN                 NaN  \n",
      "2         2.0     NaN         NaN       NaN         NaN                 NaN  \n",
      "3         0.0     NaN         NaN       NaN         NaN                 NaN  \n",
      "4        82.0     NaN         NaN       NaN         NaN                 NaN  \n"
     ]
    }
   ],
   "source": [
    "#Affichage les 5 premières lignes de la table\n",
    "print(dispo_alimentaire.head(5))"
   ]
  },
  {
   "cell_type": "code",
   "execution_count": 13,
   "id": "f3832569",
   "metadata": {},
   "outputs": [],
   "source": [
    "#remplacement des NaN dans le dataset par des 0\n",
    "dispo_alimentaire = dispo_alimentaire.fillna(0)"
   ]
  },
  {
   "cell_type": "code",
   "execution_count": 14,
   "id": "e514a0e7-91d0-4c22-9c1b-a440b38077a8",
   "metadata": {},
   "outputs": [
    {
     "name": "stdout",
     "output_type": "stream",
     "text": [
      "               Zone                Produit   Origine  Aliments pour animaux  \\\n",
      "0       Afghanistan       Abats Comestible   animale                    0.0   \n",
      "1       Afghanistan        Agrumes, Autres  vegetale                    0.0   \n",
      "2       Afghanistan  Aliments pour enfants  vegetale                    0.0   \n",
      "3       Afghanistan                 Ananas  vegetale                    0.0   \n",
      "4       Afghanistan                Bananes  vegetale                    0.0   \n",
      "...             ...                    ...       ...                    ...   \n",
      "15600  Îles Salomon       Viande de Suides   animale                    0.0   \n",
      "15601  Îles Salomon    Viande de Volailles   animale                    0.0   \n",
      "15602  Îles Salomon          Viande, Autre   animale                    0.0   \n",
      "15603  Îles Salomon                    Vin  vegetale                    0.0   \n",
      "15604  Îles Salomon         Épices, Autres  vegetale                    0.0   \n",
      "\n",
      "       Autres Utilisations  Disponibilité alimentaire (Kcal/personne/jour)  \\\n",
      "0                      0.0                                             5.0   \n",
      "1                      0.0                                             1.0   \n",
      "2                      0.0                                             1.0   \n",
      "3                      0.0                                             0.0   \n",
      "4                      0.0                                             4.0   \n",
      "...                    ...                                             ...   \n",
      "15600                  0.0                                            45.0   \n",
      "15601                  0.0                                            11.0   \n",
      "15602                  0.0                                             0.0   \n",
      "15603                  0.0                                             0.0   \n",
      "15604                  0.0                                             4.0   \n",
      "\n",
      "       Disponibilité alimentaire en quantité (kg/personne/an)  \\\n",
      "0                                                   1.72        \n",
      "1                                                   1.29        \n",
      "2                                                   0.06        \n",
      "3                                                   0.00        \n",
      "4                                                   2.70        \n",
      "...                                                  ...        \n",
      "15600                                               4.70        \n",
      "15601                                               3.34        \n",
      "15602                                               0.06        \n",
      "15603                                               0.07        \n",
      "15604                                               0.48        \n",
      "\n",
      "       Disponibilité de matière grasse en quantité (g/personne/jour)  \\\n",
      "0                                                   0.20               \n",
      "1                                                   0.01               \n",
      "2                                                   0.01               \n",
      "3                                                   0.00               \n",
      "4                                                   0.02               \n",
      "...                                                  ...               \n",
      "15600                                               4.28               \n",
      "15601                                               0.69               \n",
      "15602                                               0.00               \n",
      "15603                                               0.00               \n",
      "15604                                               0.21               \n",
      "\n",
      "       Disponibilité de protéines en quantité (g/personne/jour)  \\\n",
      "0                                                   0.77          \n",
      "1                                                   0.02          \n",
      "2                                                   0.03          \n",
      "3                                                   0.00          \n",
      "4                                                   0.05          \n",
      "...                                                  ...          \n",
      "15600                                               1.41          \n",
      "15601                                               1.14          \n",
      "15602                                               0.04          \n",
      "15603                                               0.00          \n",
      "15604                                               0.15          \n",
      "\n",
      "       Disponibilité intérieure  Exportations - Quantité  \\\n",
      "0                          53.0                      0.0   \n",
      "1                          41.0                      2.0   \n",
      "2                           2.0                      0.0   \n",
      "3                           0.0                      0.0   \n",
      "4                          82.0                      0.0   \n",
      "...                         ...                      ...   \n",
      "15600                       3.0                      0.0   \n",
      "15601                       2.0                      0.0   \n",
      "15602                       0.0                      0.0   \n",
      "15603                       0.0                      0.0   \n",
      "15604                       0.0                      0.0   \n",
      "\n",
      "       Importations - Quantité  Nourriture  Pertes  Production  Semences  \\\n",
      "0                          0.0        53.0     0.0        53.0       0.0   \n",
      "1                         40.0        39.0     2.0         3.0       0.0   \n",
      "2                          2.0         2.0     0.0         0.0       0.0   \n",
      "3                          0.0         0.0     0.0         0.0       0.0   \n",
      "4                         82.0        82.0     0.0         0.0       0.0   \n",
      "...                        ...         ...     ...         ...       ...   \n",
      "15600                      0.0         3.0     0.0         2.0       0.0   \n",
      "15601                      2.0         2.0     0.0         0.0       0.0   \n",
      "15602                      0.0         0.0     0.0         0.0       0.0   \n",
      "15603                      0.0         0.0     0.0         0.0       0.0   \n",
      "15604                      0.0         0.0     0.0         0.0       0.0   \n",
      "\n",
      "       Traitement  Variation de stock  \n",
      "0             0.0                 0.0  \n",
      "1             0.0                 0.0  \n",
      "2             0.0                 0.0  \n",
      "3             0.0                 0.0  \n",
      "4             0.0                 0.0  \n",
      "...           ...                 ...  \n",
      "15600         0.0                 0.0  \n",
      "15601         0.0                 0.0  \n",
      "15602         0.0                 0.0  \n",
      "15603         0.0                 0.0  \n",
      "15604         0.0                 0.0  \n",
      "\n",
      "[15605 rows x 18 columns]\n"
     ]
    }
   ],
   "source": [
    "print (dispo_alimentaire)"
   ]
  },
  {
   "cell_type": "code",
   "execution_count": 15,
   "id": "db4432e3",
   "metadata": {},
   "outputs": [],
   "source": [
    "#multiplication de toutes les lignes contenant des milliers de tonnes en Kg * 1000\n",
    "dispo_alimentaire['Disponibilité alimentaire (Kcal/personne/jour)'] = dispo_alimentaire['Disponibilité alimentaire (Kcal/personne/jour)'] * 1000 \n",
    "dispo_alimentaire['Disponibilité alimentaire en quantité (kg/personne/an)'] = dispo_alimentaire['Disponibilité alimentaire en quantité (kg/personne/an)'] * 1000"
   ]
  },
  {
   "cell_type": "code",
   "execution_count": 16,
   "id": "7f1689bf",
   "metadata": {},
   "outputs": [
    {
     "name": "stdout",
     "output_type": "stream",
     "text": [
      "          Zone                Produit   Origine  Aliments pour animaux  \\\n",
      "0  Afghanistan       Abats Comestible   animale                    0.0   \n",
      "1  Afghanistan        Agrumes, Autres  vegetale                    0.0   \n",
      "2  Afghanistan  Aliments pour enfants  vegetale                    0.0   \n",
      "3  Afghanistan                 Ananas  vegetale                    0.0   \n",
      "4  Afghanistan                Bananes  vegetale                    0.0   \n",
      "\n",
      "   Autres Utilisations  Disponibilité alimentaire (Kcal/personne/jour)  \\\n",
      "0                  0.0                                          5000.0   \n",
      "1                  0.0                                          1000.0   \n",
      "2                  0.0                                          1000.0   \n",
      "3                  0.0                                             0.0   \n",
      "4                  0.0                                          4000.0   \n",
      "\n",
      "   Disponibilité alimentaire en quantité (kg/personne/an)  \\\n",
      "0                                             1720.0        \n",
      "1                                             1290.0        \n",
      "2                                               60.0        \n",
      "3                                                0.0        \n",
      "4                                             2700.0        \n",
      "\n",
      "   Disponibilité de matière grasse en quantité (g/personne/jour)  \\\n",
      "0                                               0.20               \n",
      "1                                               0.01               \n",
      "2                                               0.01               \n",
      "3                                               0.00               \n",
      "4                                               0.02               \n",
      "\n",
      "   Disponibilité de protéines en quantité (g/personne/jour)  \\\n",
      "0                                               0.77          \n",
      "1                                               0.02          \n",
      "2                                               0.03          \n",
      "3                                               0.00          \n",
      "4                                               0.05          \n",
      "\n",
      "   Disponibilité intérieure  Exportations - Quantité  Importations - Quantité  \\\n",
      "0                      53.0                      0.0                      0.0   \n",
      "1                      41.0                      2.0                     40.0   \n",
      "2                       2.0                      0.0                      2.0   \n",
      "3                       0.0                      0.0                      0.0   \n",
      "4                      82.0                      0.0                     82.0   \n",
      "\n",
      "   Nourriture  Pertes  Production  Semences  Traitement  Variation de stock  \n",
      "0        53.0     0.0        53.0       0.0         0.0                 0.0  \n",
      "1        39.0     2.0         3.0       0.0         0.0                 0.0  \n",
      "2         2.0     0.0         0.0       0.0         0.0                 0.0  \n",
      "3         0.0     0.0         0.0       0.0         0.0                 0.0  \n",
      "4        82.0     0.0         0.0       0.0         0.0                 0.0  \n"
     ]
    }
   ],
   "source": [
    "#Affichage les 5 premières lignes de la table\n",
    "print(dispo_alimentaire.head(5))"
   ]
  },
  {
   "cell_type": "markdown",
   "id": "a09233e4",
   "metadata": {},
   "source": [
    "<div style=\"border: 1px solid RGB(0,150,250);\" >\n",
    "<h3 style=\"margin: auto; padding: 20px; color: RGB(0,150,250); \">2.3 - Analyse exploratoire du fichier aide alimentaire</h3>\n",
    "</div>"
   ]
  },
  {
   "cell_type": "code",
   "execution_count": 17,
   "id": "702f6322",
   "metadata": {},
   "outputs": [
    {
     "name": "stdout",
     "output_type": "stream",
     "text": [
      "(1475, 4)\n"
     ]
    }
   ],
   "source": [
    "#Afficher les dimensions du dataset\n",
    "print(aide_alimentaire.shape)"
   ]
  },
  {
   "cell_type": "code",
   "execution_count": 18,
   "id": "8fead3f9",
   "metadata": {},
   "outputs": [
    {
     "name": "stdout",
     "output_type": "stream",
     "text": [
      "Nombre de colonnes dans 'aide_alimentaire': 4\n"
     ]
    }
   ],
   "source": [
    "#Consulter le nombre de colonnes\n",
    "print(\"Nombre de colonnes dans 'aide_alimentaire':\", len(aide_alimentaire.columns))"
   ]
  },
  {
   "cell_type": "code",
   "execution_count": 19,
   "id": "443ec245",
   "metadata": {},
   "outputs": [
    {
     "name": "stdout",
     "output_type": "stream",
     "text": [
      "  <Pays bénéficiaire  Année              Produit  Valeur\n",
      "0        Afghanistan   2013  Autres non-céréales     682\n",
      "1        Afghanistan   2014  Autres non-céréales     335\n",
      "2        Afghanistan   2013         Blé et Farin   39224\n",
      "3        Afghanistan   2014         Blé et Farin   15160\n",
      "4        Afghanistan   2013             Céréales   40504\n"
     ]
    }
   ],
   "source": [
    "#Affichage les 5 premières lignes de la table\n",
    "print(aide_alimentaire.head(5))"
   ]
  },
  {
   "cell_type": "code",
   "execution_count": 20,
   "id": "af47212b",
   "metadata": {},
   "outputs": [],
   "source": [
    "#changement du nom de la colonne Pays bénéficiaire par Zone\n",
    "aide_alimentaire = aide_alimentaire.rename(columns={'<Pays bénéficiaire': 'Zone'})\n"
   ]
  },
  {
   "cell_type": "code",
   "execution_count": 21,
   "id": "e4911b3b-1881-4a17-a465-0d3fcae8c2fa",
   "metadata": {},
   "outputs": [
    {
     "name": "stdout",
     "output_type": "stream",
     "text": [
      "             Zone  Année                   Produit  Valeur\n",
      "0     Afghanistan   2013       Autres non-céréales     682\n",
      "1     Afghanistan   2014       Autres non-céréales     335\n",
      "2     Afghanistan   2013              Blé et Farin   39224\n",
      "3     Afghanistan   2014              Blé et Farin   15160\n",
      "4     Afghanistan   2013                  Céréales   40504\n",
      "...           ...    ...                       ...     ...\n",
      "1470     Zimbabwe   2015  Mélanges et préparations      96\n",
      "1471     Zimbabwe   2013              Non-céréales    5022\n",
      "1472     Zimbabwe   2014              Non-céréales    2310\n",
      "1473     Zimbabwe   2015              Non-céréales     306\n",
      "1474     Zimbabwe   2013                Riz, total      64\n",
      "\n",
      "[1475 rows x 4 columns]\n"
     ]
    }
   ],
   "source": [
    "print (aide_alimentaire)"
   ]
  },
  {
   "cell_type": "code",
   "execution_count": 22,
   "id": "c32cd1d8",
   "metadata": {},
   "outputs": [],
   "source": [
    "#Multiplication de la colonne Aide_alimentaire qui contient des tonnes par 1000 pour avoir des kg \n",
    "aide_alimentaire['Valeur'] = aide_alimentaire['Valeur'] * 1000 "
   ]
  },
  {
   "cell_type": "code",
   "execution_count": 23,
   "id": "d951d8df",
   "metadata": {},
   "outputs": [
    {
     "name": "stdout",
     "output_type": "stream",
     "text": [
      "          Zone  Année              Produit    Valeur\n",
      "0  Afghanistan   2013  Autres non-céréales    682000\n",
      "1  Afghanistan   2014  Autres non-céréales    335000\n",
      "2  Afghanistan   2013         Blé et Farin  39224000\n",
      "3  Afghanistan   2014         Blé et Farin  15160000\n",
      "4  Afghanistan   2013             Céréales  40504000\n"
     ]
    }
   ],
   "source": [
    "#Affichage les 5 premières lignes de la table\n",
    "print(aide_alimentaire.head(5))"
   ]
  },
  {
   "cell_type": "markdown",
   "id": "eeae9043",
   "metadata": {},
   "source": [
    "<div style=\"border: 1px solid RGB(0,150,250);\" >\n",
    "<h3 style=\"margin: auto; padding: 20px; color: RGB(0,150,250); \">2.3 - Analyse exploratoire du fichier sous nutrition</h3>\n",
    "</div>"
   ]
  },
  {
   "cell_type": "code",
   "execution_count": 24,
   "id": "882add3d",
   "metadata": {},
   "outputs": [
    {
     "name": "stdout",
     "output_type": "stream",
     "text": [
      "(1218, 3)\n"
     ]
    }
   ],
   "source": [
    "#Afficher les dimensions du dataset\n",
    "print(sous_nutrition.shape)"
   ]
  },
  {
   "cell_type": "code",
   "execution_count": 25,
   "id": "70c1a7a9",
   "metadata": {},
   "outputs": [
    {
     "name": "stdout",
     "output_type": "stream",
     "text": [
      "Nombre de colonnes dans 'sous_nutrition': 3\n"
     ]
    }
   ],
   "source": [
    "#Consulter le nombre de colonnes\n",
    "print(\"Nombre de colonnes dans 'sous_nutrition':\", len(sous_nutrition.columns))\n"
   ]
  },
  {
   "cell_type": "code",
   "execution_count": 26,
   "id": "34c98232",
   "metadata": {},
   "outputs": [],
   "source": [
    "#changement du nom de la colonne Valeur par sous_nutrition\n",
    "sous_nutrition = sous_nutrition.rename(columns={'Valeur': 'Sous_nutrition'})"
   ]
  },
  {
   "cell_type": "code",
   "execution_count": 27,
   "id": "40a7ea32-0c5c-4652-9736-011476dc03f8",
   "metadata": {},
   "outputs": [
    {
     "name": "stdout",
     "output_type": "stream",
     "text": [
      "             Zone      Année Sous_nutrition\n",
      "0     Afghanistan  2012-2014            8.6\n",
      "1     Afghanistan  2013-2015            8.8\n",
      "2     Afghanistan  2014-2016            8.9\n",
      "3     Afghanistan  2015-2017            9.7\n",
      "4     Afghanistan  2016-2018           10.5\n",
      "...           ...        ...            ...\n",
      "1213     Zimbabwe  2013-2015            NaN\n",
      "1214     Zimbabwe  2014-2016            NaN\n",
      "1215     Zimbabwe  2015-2017            NaN\n",
      "1216     Zimbabwe  2016-2018            NaN\n",
      "1217     Zimbabwe  2017-2019            NaN\n",
      "\n",
      "[1218 rows x 3 columns]\n"
     ]
    }
   ],
   "source": [
    "print (sous_nutrition)\n"
   ]
  },
  {
   "cell_type": "code",
   "execution_count": 28,
   "id": "175d9e31-1a8c-4593-ba24-966394f99c0d",
   "metadata": {},
   "outputs": [],
   "source": [
    "sous_nutrition['Sous_nutrition'] = pd.to_numeric(sous_nutrition['Sous_nutrition'], errors='coerce')"
   ]
  },
  {
   "cell_type": "code",
   "execution_count": 29,
   "id": "002110fa",
   "metadata": {},
   "outputs": [],
   "source": [
    "#Multiplication de la colonne sous_nutrition par 1000000\n",
    "sous_nutrition['Sous_nutrition'] = sous_nutrition['Sous_nutrition'] * 1000000\n"
   ]
  },
  {
   "cell_type": "code",
   "execution_count": 30,
   "id": "58259b55",
   "metadata": {},
   "outputs": [
    {
     "name": "stdout",
     "output_type": "stream",
     "text": [
      "          Zone      Année  Sous_nutrition\n",
      "0  Afghanistan  2012-2014       8600000.0\n",
      "1  Afghanistan  2013-2015       8800000.0\n",
      "2  Afghanistan  2014-2016       8900000.0\n",
      "3  Afghanistan  2015-2017       9700000.0\n",
      "4  Afghanistan  2016-2018      10500000.0\n"
     ]
    }
   ],
   "source": [
    "#Afficher les 5 premières lignes de la table\n",
    "print (sous_nutrition.head(5))"
   ]
  },
  {
   "cell_type": "markdown",
   "id": "df6dcabd",
   "metadata": {},
   "source": [
    "<div style=\"border: 1px solid RGB(0,150,250);\" >\n",
    "<h3 style=\"margin: auto; padding: 20px; color: RGB(0,150,250); \">3.1 - Proportion de personnes en sous nutrition</h3>\n",
    "</div>"
   ]
  },
  {
   "cell_type": "code",
   "execution_count": 31,
   "id": "a63e1567",
   "metadata": {},
   "outputs": [],
   "source": [
    "# Il faut tout d'abord faire une jointure entre la table population et la table sous nutrition, en ciblant l'année 2017\n",
    "population_2017 = population[population['Année'] == 2017]"
   ]
  },
  {
   "cell_type": "code",
   "execution_count": 32,
   "id": "e618efa9-cf67-45ab-874f-0f3de137560a",
   "metadata": {},
   "outputs": [
    {
     "name": "stdout",
     "output_type": "stream",
     "text": [
      "                                        Zone  Année  Population\n",
      "4                                Afghanistan   2017  36296113.0\n",
      "10                            Afrique du Sud   2017  57009756.0\n",
      "16                                   Albanie   2017   2884169.0\n",
      "22                                   Algérie   2017  41389189.0\n",
      "28                                 Allemagne   2017  82658409.0\n",
      "...                                      ...    ...         ...\n",
      "1390  Venezuela (République bolivarienne du)   2017  29402484.0\n",
      "1396                                Viet Nam   2017  94600648.0\n",
      "1402                                   Yémen   2017  27834819.0\n",
      "1408                                  Zambie   2017  16853599.0\n",
      "1414                                Zimbabwe   2017  14236595.0\n",
      "\n",
      "[236 rows x 3 columns]\n"
     ]
    }
   ],
   "source": [
    "print (population_2017)"
   ]
  },
  {
   "cell_type": "code",
   "execution_count": 33,
   "id": "3131d0bf-7f5b-4e4b-8909-ad101fd8ab59",
   "metadata": {},
   "outputs": [],
   "source": [
    "sous_nutrition_2017 = sous_nutrition[sous_nutrition['Année'] == \"2016-2018\"]\n"
   ]
  },
  {
   "cell_type": "code",
   "execution_count": 34,
   "id": "e2d117fd-fe7d-4ab8-89a8-0284dbea5985",
   "metadata": {},
   "outputs": [],
   "source": [
    "population_sousnutrition2017 = pd.merge(population_2017, sous_nutrition_2017, on = 'Zone', how='inner')"
   ]
  },
  {
   "cell_type": "code",
   "execution_count": 35,
   "id": "f05deda8-b0c9-4a41-ae89-707129e31a95",
   "metadata": {},
   "outputs": [
    {
     "name": "stdout",
     "output_type": "stream",
     "text": [
      "                                       Zone  Année_x  Population    Année_y  \\\n",
      "0                               Afghanistan     2017  36296113.0  2016-2018   \n",
      "1                            Afrique du Sud     2017  57009756.0  2016-2018   \n",
      "2                                   Albanie     2017   2884169.0  2016-2018   \n",
      "3                                   Algérie     2017  41389189.0  2016-2018   \n",
      "4                                 Allemagne     2017  82658409.0  2016-2018   \n",
      "..                                      ...      ...         ...        ...   \n",
      "198  Venezuela (République bolivarienne du)     2017  29402484.0  2016-2018   \n",
      "199                                Viet Nam     2017  94600648.0  2016-2018   \n",
      "200                                   Yémen     2017  27834819.0  2016-2018   \n",
      "201                                  Zambie     2017  16853599.0  2016-2018   \n",
      "202                                Zimbabwe     2017  14236595.0  2016-2018   \n",
      "\n",
      "     Sous_nutrition  \n",
      "0        10500000.0  \n",
      "1         3100000.0  \n",
      "2          100000.0  \n",
      "3         1300000.0  \n",
      "4               NaN  \n",
      "..              ...  \n",
      "198       8000000.0  \n",
      "199       6500000.0  \n",
      "200             NaN  \n",
      "201             NaN  \n",
      "202             NaN  \n",
      "\n",
      "[203 rows x 5 columns]\n"
     ]
    }
   ],
   "source": [
    "#Affichage du dataset\n",
    "print (population_sousnutrition2017)"
   ]
  },
  {
   "cell_type": "code",
   "execution_count": 36,
   "id": "4bd0e5e1-6f80-46f6-b3f8-577291ccbb61",
   "metadata": {},
   "outputs": [
    {
     "name": "stdout",
     "output_type": "stream",
     "text": [
      "Le total de personnes en sous nutrition est: 535700000.0 millions d'habitants\n"
     ]
    }
   ],
   "source": [
    "total_sousnutrition_2017 = population_sousnutrition2017['Sous_nutrition'].sum()\n",
    "print (\"Le total de personnes en sous nutrition est:\", total_sousnutrition_2017, \"millions d'habitants\")"
   ]
  },
  {
   "cell_type": "code",
   "execution_count": 37,
   "id": "4ad2e9c7-a66e-4f76-840b-6b02480ef7b9",
   "metadata": {},
   "outputs": [
    {
     "name": "stdout",
     "output_type": "stream",
     "text": [
      "Le total de population en 2017 est: 7543798779.0 (millions de personnes)\n"
     ]
    }
   ],
   "source": [
    "total_pop_2017 = population_sousnutrition2017['Population'].sum()\n",
    "print (\"Le total de population en 2017 est:\", total_pop_2017, \"(millions de personnes)\")"
   ]
  },
  {
   "cell_type": "code",
   "execution_count": 38,
   "id": "9dbb11d6-fa59-4769-9550-f2301a9d02a0",
   "metadata": {},
   "outputs": [
    {
     "name": "stdout",
     "output_type": "stream",
     "text": [
      "Le percentage de personnes en état de sous nutrition en environ à: 7.1011968332354165 %\n"
     ]
    }
   ],
   "source": [
    "nb_personnes_sousnu2017 = (total_sousnutrition_2017 / total_pop_2017) * 100\n",
    "print (\"Le percentage de personnes en état de sous nutrition en environ à:\", nb_personnes_sousnu2017, \"%\")"
   ]
  },
  {
   "cell_type": "markdown",
   "id": "b4134a24",
   "metadata": {},
   "source": [
    "<div style=\"border: 1px solid RGB(0,150,250);\" >\n",
    "<h3 style=\"margin: auto; padding: 20px; color: RGB(0,150,250); \">3.2 - Nombre théorique de personne qui pourrait être nourries</h3>\n",
    "</div>"
   ]
  },
  {
   "cell_type": "code",
   "execution_count": 39,
   "id": "2b63df85",
   "metadata": {},
   "outputs": [],
   "source": [
    "#Combien mange en moyenne un être humain ? Source => \n"
   ]
  },
  {
   "cell_type": "code",
   "execution_count": 40,
   "id": "5e3f262d",
   "metadata": {},
   "outputs": [],
   "source": [
    "#On commence par faire une jointure entre le data frame population et Dispo_alimentaire afin d'ajouter dans ce dernier la population\n",
    "dispoalim_pop = pd.merge(dispo_alimentaire, population)\n"
   ]
  },
  {
   "cell_type": "code",
   "execution_count": 41,
   "id": "4538126c",
   "metadata": {},
   "outputs": [
    {
     "name": "stdout",
     "output_type": "stream",
     "text": [
      "               Zone           Produit   Origine  Aliments pour animaux  \\\n",
      "0       Afghanistan  Abats Comestible   animale                    0.0   \n",
      "1       Afghanistan  Abats Comestible   animale                    0.0   \n",
      "2       Afghanistan  Abats Comestible   animale                    0.0   \n",
      "3       Afghanistan  Abats Comestible   animale                    0.0   \n",
      "4       Afghanistan  Abats Comestible   animale                    0.0   \n",
      "...             ...               ...       ...                    ...   \n",
      "92491  Îles Salomon    Épices, Autres  vegetale                    0.0   \n",
      "92492  Îles Salomon    Épices, Autres  vegetale                    0.0   \n",
      "92493  Îles Salomon    Épices, Autres  vegetale                    0.0   \n",
      "92494  Îles Salomon    Épices, Autres  vegetale                    0.0   \n",
      "92495  Îles Salomon    Épices, Autres  vegetale                    0.0   \n",
      "\n",
      "       Autres Utilisations  Disponibilité alimentaire (Kcal/personne/jour)  \\\n",
      "0                      0.0                                          5000.0   \n",
      "1                      0.0                                          5000.0   \n",
      "2                      0.0                                          5000.0   \n",
      "3                      0.0                                          5000.0   \n",
      "4                      0.0                                          5000.0   \n",
      "...                    ...                                             ...   \n",
      "92491                  0.0                                          4000.0   \n",
      "92492                  0.0                                          4000.0   \n",
      "92493                  0.0                                          4000.0   \n",
      "92494                  0.0                                          4000.0   \n",
      "92495                  0.0                                          4000.0   \n",
      "\n",
      "       Disponibilité alimentaire en quantité (kg/personne/an)  \\\n",
      "0                                                 1720.0        \n",
      "1                                                 1720.0        \n",
      "2                                                 1720.0        \n",
      "3                                                 1720.0        \n",
      "4                                                 1720.0        \n",
      "...                                                  ...        \n",
      "92491                                              480.0        \n",
      "92492                                              480.0        \n",
      "92493                                              480.0        \n",
      "92494                                              480.0        \n",
      "92495                                              480.0        \n",
      "\n",
      "       Disponibilité de matière grasse en quantité (g/personne/jour)  \\\n",
      "0                                                   0.20               \n",
      "1                                                   0.20               \n",
      "2                                                   0.20               \n",
      "3                                                   0.20               \n",
      "4                                                   0.20               \n",
      "...                                                  ...               \n",
      "92491                                               0.21               \n",
      "92492                                               0.21               \n",
      "92493                                               0.21               \n",
      "92494                                               0.21               \n",
      "92495                                               0.21               \n",
      "\n",
      "       Disponibilité de protéines en quantité (g/personne/jour)  \\\n",
      "0                                                   0.77          \n",
      "1                                                   0.77          \n",
      "2                                                   0.77          \n",
      "3                                                   0.77          \n",
      "4                                                   0.77          \n",
      "...                                                  ...          \n",
      "92491                                               0.15          \n",
      "92492                                               0.15          \n",
      "92493                                               0.15          \n",
      "92494                                               0.15          \n",
      "92495                                               0.15          \n",
      "\n",
      "       Disponibilité intérieure  Exportations - Quantité  \\\n",
      "0                          53.0                      0.0   \n",
      "1                          53.0                      0.0   \n",
      "2                          53.0                      0.0   \n",
      "3                          53.0                      0.0   \n",
      "4                          53.0                      0.0   \n",
      "...                         ...                      ...   \n",
      "92491                       0.0                      0.0   \n",
      "92492                       0.0                      0.0   \n",
      "92493                       0.0                      0.0   \n",
      "92494                       0.0                      0.0   \n",
      "92495                       0.0                      0.0   \n",
      "\n",
      "       Importations - Quantité  Nourriture  Pertes  Production  Semences  \\\n",
      "0                          0.0        53.0     0.0        53.0       0.0   \n",
      "1                          0.0        53.0     0.0        53.0       0.0   \n",
      "2                          0.0        53.0     0.0        53.0       0.0   \n",
      "3                          0.0        53.0     0.0        53.0       0.0   \n",
      "4                          0.0        53.0     0.0        53.0       0.0   \n",
      "...                        ...         ...     ...         ...       ...   \n",
      "92491                      0.0         0.0     0.0         0.0       0.0   \n",
      "92492                      0.0         0.0     0.0         0.0       0.0   \n",
      "92493                      0.0         0.0     0.0         0.0       0.0   \n",
      "92494                      0.0         0.0     0.0         0.0       0.0   \n",
      "92495                      0.0         0.0     0.0         0.0       0.0   \n",
      "\n",
      "       Traitement  Variation de stock  Année  Population  \n",
      "0             0.0                 0.0   2013  32269589.0  \n",
      "1             0.0                 0.0   2014  33370794.0  \n",
      "2             0.0                 0.0   2015  34413603.0  \n",
      "3             0.0                 0.0   2016  35383032.0  \n",
      "4             0.0                 0.0   2017  36296113.0  \n",
      "...           ...                 ...    ...         ...  \n",
      "92491         0.0                 0.0   2014    587079.0  \n",
      "92492         0.0                 0.0   2015    603118.0  \n",
      "92493         0.0                 0.0   2016    619438.0  \n",
      "92494         0.0                 0.0   2017    636039.0  \n",
      "92495         0.0                 0.0   2018    652857.0  \n",
      "\n",
      "[92496 rows x 20 columns]\n"
     ]
    }
   ],
   "source": [
    "#Affichage du nouveau dataframe\n",
    "print(dispoalim_pop)"
   ]
  },
  {
   "cell_type": "code",
   "execution_count": 42,
   "id": "b63dd6cf-c8b8-4851-9688-5976bfd1796e",
   "metadata": {},
   "outputs": [
    {
     "name": "stdout",
     "output_type": "stream",
     "text": [
      "Total calorie mondial: 488762000.0\n"
     ]
    }
   ],
   "source": [
    "#Calcul du nombre d'humains pouvant être nourris 2017\n",
    "dispoalim_2017 = dispoalim_pop[dispoalim_pop['Année'] == 2017]\n",
    "dispo_cal_2017_mondialement = dispoalim_2017['Disponibilité alimentaire (Kcal/personne/jour)'].sum() \n",
    "print (\"Total calorie mondial:\", dispo_cal_2017_mondialement)"
   ]
  },
  {
   "cell_type": "code",
   "execution_count": 43,
   "id": "0974c55c-d959-44ed-985b-9565df4f2c80",
   "metadata": {},
   "outputs": [
    {
     "name": "stdout",
     "output_type": "stream",
     "text": [
      "Le nombre estimé d'humains que pouvant être nourris en 2017 mondialement est d'environ: 1843561089410799.0 personnes\n"
     ]
    }
   ],
   "source": [
    "# Besoin moyen de kilocalories par personne et par jour;total_pop_2017\n",
    "besoin_moyen_kcal = 2000  # Exemple de besoin moyen quotidien\n",
    "\n",
    "kcal_par_person_par_jour_2017 = dispo_cal_2017_mondialement / besoin_moyen_kcal\n",
    "\n",
    "#Calcul du nombre d'humains pouvant être nourris\n",
    "nb_humains_nourris_2017 = kcal_par_person_par_jour_2017 * total_pop_2017 \n",
    "\n",
    "\n",
    "# Affichage du nombre estimé d'humains pouvant être nourris\n",
    "\n",
    "print (f\"Le nombre estimé d'humains que pouvant être nourris en 2017 mondialement est d'environ:\", nb_humains_nourris_2017, \"personnes\")\n",
    "\n"
   ]
  },
  {
   "cell_type": "markdown",
   "id": "e97c8886",
   "metadata": {},
   "source": [
    "<div style=\"border: 1px solid RGB(0,150,250);\" >\n",
    "<h3 style=\"margin: auto; padding: 20px; color: RGB(0,150,250); \">3.3 - Nombre théorique de personne qui pourrait être nourrie avec les produits végétaux</h3>\n",
    "</div>"
   ]
  },
  {
   "cell_type": "code",
   "execution_count": 44,
   "id": "c2e3c87c",
   "metadata": {},
   "outputs": [],
   "source": [
    "#Transfert des données avec les végétaux dans un nouveau dataframe\n",
    "data_vegetaux = dispoalim_pop[dispoalim_pop['Origine'].str.contains('vegetale')]\n"
   ]
  },
  {
   "cell_type": "code",
   "execution_count": 45,
   "id": "7bfdb034-4735-460c-809f-44d2a13763d8",
   "metadata": {},
   "outputs": [
    {
     "name": "stdout",
     "output_type": "stream",
     "text": [
      "               Zone          Produit   Origine  Aliments pour animaux  \\\n",
      "6       Afghanistan  Agrumes, Autres  vegetale                    0.0   \n",
      "7       Afghanistan  Agrumes, Autres  vegetale                    0.0   \n",
      "8       Afghanistan  Agrumes, Autres  vegetale                    0.0   \n",
      "9       Afghanistan  Agrumes, Autres  vegetale                    0.0   \n",
      "10      Afghanistan  Agrumes, Autres  vegetale                    0.0   \n",
      "...             ...              ...       ...                    ...   \n",
      "92491  Îles Salomon   Épices, Autres  vegetale                    0.0   \n",
      "92492  Îles Salomon   Épices, Autres  vegetale                    0.0   \n",
      "92493  Îles Salomon   Épices, Autres  vegetale                    0.0   \n",
      "92494  Îles Salomon   Épices, Autres  vegetale                    0.0   \n",
      "92495  Îles Salomon   Épices, Autres  vegetale                    0.0   \n",
      "\n",
      "       Autres Utilisations  Disponibilité alimentaire (Kcal/personne/jour)  \\\n",
      "6                      0.0                                          1000.0   \n",
      "7                      0.0                                          1000.0   \n",
      "8                      0.0                                          1000.0   \n",
      "9                      0.0                                          1000.0   \n",
      "10                     0.0                                          1000.0   \n",
      "...                    ...                                             ...   \n",
      "92491                  0.0                                          4000.0   \n",
      "92492                  0.0                                          4000.0   \n",
      "92493                  0.0                                          4000.0   \n",
      "92494                  0.0                                          4000.0   \n",
      "92495                  0.0                                          4000.0   \n",
      "\n",
      "       Disponibilité alimentaire en quantité (kg/personne/an)  \\\n",
      "6                                                 1290.0        \n",
      "7                                                 1290.0        \n",
      "8                                                 1290.0        \n",
      "9                                                 1290.0        \n",
      "10                                                1290.0        \n",
      "...                                                  ...        \n",
      "92491                                              480.0        \n",
      "92492                                              480.0        \n",
      "92493                                              480.0        \n",
      "92494                                              480.0        \n",
      "92495                                              480.0        \n",
      "\n",
      "       Disponibilité de matière grasse en quantité (g/personne/jour)  \\\n",
      "6                                                   0.01               \n",
      "7                                                   0.01               \n",
      "8                                                   0.01               \n",
      "9                                                   0.01               \n",
      "10                                                  0.01               \n",
      "...                                                  ...               \n",
      "92491                                               0.21               \n",
      "92492                                               0.21               \n",
      "92493                                               0.21               \n",
      "92494                                               0.21               \n",
      "92495                                               0.21               \n",
      "\n",
      "       Disponibilité de protéines en quantité (g/personne/jour)  \\\n",
      "6                                                   0.02          \n",
      "7                                                   0.02          \n",
      "8                                                   0.02          \n",
      "9                                                   0.02          \n",
      "10                                                  0.02          \n",
      "...                                                  ...          \n",
      "92491                                               0.15          \n",
      "92492                                               0.15          \n",
      "92493                                               0.15          \n",
      "92494                                               0.15          \n",
      "92495                                               0.15          \n",
      "\n",
      "       Disponibilité intérieure  Exportations - Quantité  \\\n",
      "6                          41.0                      2.0   \n",
      "7                          41.0                      2.0   \n",
      "8                          41.0                      2.0   \n",
      "9                          41.0                      2.0   \n",
      "10                         41.0                      2.0   \n",
      "...                         ...                      ...   \n",
      "92491                       0.0                      0.0   \n",
      "92492                       0.0                      0.0   \n",
      "92493                       0.0                      0.0   \n",
      "92494                       0.0                      0.0   \n",
      "92495                       0.0                      0.0   \n",
      "\n",
      "       Importations - Quantité  Nourriture  Pertes  Production  Semences  \\\n",
      "6                         40.0        39.0     2.0         3.0       0.0   \n",
      "7                         40.0        39.0     2.0         3.0       0.0   \n",
      "8                         40.0        39.0     2.0         3.0       0.0   \n",
      "9                         40.0        39.0     2.0         3.0       0.0   \n",
      "10                        40.0        39.0     2.0         3.0       0.0   \n",
      "...                        ...         ...     ...         ...       ...   \n",
      "92491                      0.0         0.0     0.0         0.0       0.0   \n",
      "92492                      0.0         0.0     0.0         0.0       0.0   \n",
      "92493                      0.0         0.0     0.0         0.0       0.0   \n",
      "92494                      0.0         0.0     0.0         0.0       0.0   \n",
      "92495                      0.0         0.0     0.0         0.0       0.0   \n",
      "\n",
      "       Traitement  Variation de stock  Année  Population  \n",
      "6             0.0                 0.0   2013  32269589.0  \n",
      "7             0.0                 0.0   2014  33370794.0  \n",
      "8             0.0                 0.0   2015  34413603.0  \n",
      "9             0.0                 0.0   2016  35383032.0  \n",
      "10            0.0                 0.0   2017  36296113.0  \n",
      "...           ...                 ...    ...         ...  \n",
      "92491         0.0                 0.0   2014    587079.0  \n",
      "92492         0.0                 0.0   2015    603118.0  \n",
      "92493         0.0                 0.0   2016    619438.0  \n",
      "92494         0.0                 0.0   2017    636039.0  \n",
      "92495         0.0                 0.0   2018    652857.0  \n",
      "\n",
      "[70506 rows x 20 columns]\n"
     ]
    }
   ],
   "source": [
    "print (data_vegetaux)"
   ]
  },
  {
   "cell_type": "code",
   "execution_count": 46,
   "id": "f29f61c9-23be-4caf-8b64-aab1062b3282",
   "metadata": {},
   "outputs": [
    {
     "name": "stdout",
     "output_type": "stream",
     "text": [
      "Le total de calorie mondial en 2017 est: 2363526000.0 milliers de kg\n"
     ]
    }
   ],
   "source": [
    "#Calcul du nombre de kcal disponible pour les végétaux 2017\n",
    "kcal_dispo_vegetaux_2017 = data_vegetaux[data_vegetaux['Année'] == 2017]\n",
    "dispo_cal_veg2017_mondialement = data_vegetaux['Disponibilité alimentaire (Kcal/personne/jour)'].sum()\n",
    "print (\"Le total de calorie mondial en 2017 est:\", dispo_cal_veg2017_mondialement, \"milliers de kg\")"
   ]
  },
  {
   "cell_type": "code",
   "execution_count": 190,
   "id": "ce4219c1-8d9c-4ff0-8d25-ac3b6f849779",
   "metadata": {},
   "outputs": [
    {
     "name": "stdout",
     "output_type": "stream",
     "text": [
      "Le nombre de percentage estimé d'humains que pouvant être nourris avec végétale en 2017 mondialement est d'environ: 7.354741747313807e+21 personnes\n"
     ]
    }
   ],
   "source": [
    "# Besoin moyen de kilocalories par personne et par jour\n",
    "total_popveg_2017 = data_vegetaux['Population'].sum()\n",
    "\n",
    "besoin_moyen_kcal = 2000  # Exemple de besoin moyen quotidien\n",
    "\n",
    "kcalveg_par_person_par_jour_2017 = dispo_cal_veg2017_mondialement / besoin_moyen_kcal\n",
    "\n",
    "#Calcul du nombre d'humains pouvant être nourris\n",
    "nb_humains_nourrisveg_2017 = (dispo_cal_veg2017_mondialement * total_popveg_2017) \n",
    "\n",
    "# Affichage du nombre estimé d'humains pouvant être nourris\n",
    "\n",
    "print (f\"Le nombre estimé d'humains que pouvant être nourris avec végétale en 2017 mondialement est d'environ:\", nb_humains_nourrisveg_2017, \"personnes\")\n",
    "\n",
    "\n"
   ]
  },
  {
   "cell_type": "markdown",
   "id": "cd07afb1",
   "metadata": {},
   "source": [
    "<div style=\"border: 1px solid RGB(0,150,250);\" >\n",
    "<h3 style=\"margin: auto; padding: 20px; color: RGB(0,150,250); \">3.4 - Utilisation de la disponibilité intérieure</h3>\n",
    "</div>"
   ]
  },
  {
   "cell_type": "code",
   "execution_count": 48,
   "id": "adf9c2dc-3f80-4bdf-b9da-440463afae0c",
   "metadata": {},
   "outputs": [
    {
     "name": "stdout",
     "output_type": "stream",
     "text": [
      "               Zone                Produit  Disponibilité intérieure calculée\n",
      "0       Afghanistan       Abats Comestible                               53.0\n",
      "1       Afghanistan        Agrumes, Autres                               41.0\n",
      "2       Afghanistan  Aliments pour enfants                                2.0\n",
      "3       Afghanistan                 Ananas                                0.0\n",
      "4       Afghanistan                Bananes                               82.0\n",
      "...             ...                    ...                                ...\n",
      "15600  Îles Salomon       Viande de Suides                                2.0\n",
      "15601  Îles Salomon    Viande de Volailles                                2.0\n",
      "15602  Îles Salomon          Viande, Autre                                0.0\n",
      "15603  Îles Salomon                    Vin                                0.0\n",
      "15604  Îles Salomon         Épices, Autres                                0.0\n",
      "\n",
      "[15605 rows x 3 columns]\n"
     ]
    }
   ],
   "source": [
    "# #Calcul de la disponibilité totale\n",
    "dispo_alimentaire['Disponibilité intérieure calculée'] = (dispo_alimentaire['Production'] + dispo_alimentaire['Importations - Quantité'] -\n",
    "dispo_alimentaire['Exportations - Quantité'] + dispo_alimentaire['Variation de stock'])\n",
    "\n",
    "print(dispo_alimentaire[['Zone', 'Produit', 'Disponibilité intérieure calculée']])"
   ]
  },
  {
   "cell_type": "code",
   "execution_count": 49,
   "id": "9f6aad96-b15d-43f4-a136-ef8c2ee65ebe",
   "metadata": {},
   "outputs": [
    {
     "name": "stdout",
     "output_type": "stream",
     "text": [
      "9849173.0\n"
     ]
    }
   ],
   "source": [
    "disponibilite_interieur = (dispo_alimentaire['Disponibilité intérieure calculée'].sum())\n",
    "print (disponibilite_interieur)"
   ]
  },
  {
   "cell_type": "code",
   "execution_count": 50,
   "id": "22f97687-3b57-4bd3-b7ef-274e3de2e50a",
   "metadata": {},
   "outputs": [
    {
     "name": "stdout",
     "output_type": "stream",
     "text": [
      "Total Alimentation Humaine: 49.50931413226268\n",
      "Total Alimentation Animale: 13.242177795029086\n",
      "Total Pertes: 4.606457821382567\n"
     ]
    }
   ],
   "source": [
    "#donner la part de l'alimentation humaine, animale et perdue\n",
    "\n",
    "# Calcule total alimentation humaine\n",
    "dispo_humaine = (dispo_alimentaire['Nourriture'].sum() / (disponibilite_interieur)) * 100   \n",
    "\n",
    "# Filtre de \"Aliments pour animaux\"\n",
    "dispo_animale = (dispo_alimentaire['Aliments pour animaux'].sum() / (disponibilite_interieur)) *100\n",
    "\n",
    "# Filtre \"Pertes\"\n",
    "dispo_pertes = (dispo_alimentaire['Pertes'].sum() / (disponibilite_interieur)) *100\n",
    "\n",
    "\n",
    "print(\"Total Alimentation Humaine:\", dispo_humaine)\n",
    "print(\"Total Alimentation Animale:\", dispo_animale)\n",
    "print(\"Total Pertes:\", dispo_pertes)"
   ]
  },
  {
   "cell_type": "code",
   "execution_count": 51,
   "id": "f6098a88-d19a-4311-9892-ccd970d802d1",
   "metadata": {},
   "outputs": [
    {
     "data": {
      "image/png": "[encoded data removed]",
      "text/plain": [
       "<Figure size 640x480 with 1 Axes>"
      ]
     },
     "metadata": {},
     "output_type": "display_data"
    }
   ],
   "source": [
    "# graphique\n",
    "labels = ['Alimentation Humaine', 'Alimentation Animale', 'Pertes', 'Industrial']\n",
    "totals = [49, 13, 4, 34]\n",
    "\n",
    "plt.pie(totals, labels=labels, autopct='%1.1f%%', startangle=90, colors=['skyblue', 'lightgreen', 'Yellow', 'Red'])\n",
    "plt.title('Total Disponibilite Alimentaire (kg de tonnes)')\n",
    "plt.show()\n"
   ]
  },
  {
   "cell_type": "markdown",
   "id": "141d05df",
   "metadata": {},
   "source": [
    "<div style=\"border: 1px solid RGB(0,150,250);\" >\n",
    "<h3 style=\"margin: auto; padding: 20px; color: RGB(0,150,250); \">3.5 - Utilisation des céréales</h3>\n",
    "</div>"
   ]
  },
  {
   "cell_type": "code",
   "execution_count": 52,
   "id": "c27448ff",
   "metadata": {},
   "outputs": [
    {
     "name": "stdout",
     "output_type": "stream",
     "text": [
      "('Ble', 'Riz', 'Mais', 'Avoine', 'Orge', 'Seigle', 'Millet', 'Sorgho', 'Quinoa', 'Epeautre', 'Kamut', 'Sorgho', 'Teff', 'Einkorn', 'Amarante', 'Riz (Eq Blanchi)', 'SojaBoulgour', 'avoine', 'Seigle', 'Semoule de ble', 'Son de ble', 'Farro', 'Polenta', 'Couscous', 'Epeautre concasse', 'Germe de ble', 'Riz basmati', 'Riz gluant', 'Riz a grains courts', 'Riz a grains longs', 'Riz brun', 'Semoule de mais', 'Graines de sarrasin', 'Sarrasin', 'Farine de sarrasin', 'Riz noir', 'Riz rouge', 'Riz rose', 'Riz violet', 'Ble noir', 'Ble tendre', 'Ble dur', 'Flocons de seigle', 'Quinoa rouge', 'Quinoa blanc', 'Quinoa noir', 'Farine de quinoa', 'Farine de mais', 'Farine de riz', 'Farine de ble', \"Farine d'epeautre\", 'Farine de millet', 'Farine de sorgho', 'Farine de sarrasin', 'Farine de mais', 'Farine de chataigne', 'Farine de pois chiche', 'Farine de riz complet', 'Farine de pois chiche', 'Farine de pois', 'Semoule de ble dur', 'Semoule de mais', 'Semoule de riz', 'epeautre')\n"
     ]
    }
   ],
   "source": [
    "#Création d'une liste avec toutes les variables\n",
    "cereales = ('Ble', 'Riz', 'Mais', 'Avoine', 'Orge', 'Seigle', 'Millet', 'Sorgho', 'Quinoa',\n",
    "    'Epeautre', 'Kamut', 'Sorgho', 'Teff', 'Einkorn', 'Amarante', 'Riz (Eq Blanchi)', 'Soja'\n",
    "    'Boulgour', 'avoine', 'Seigle', 'Semoule de ble', 'Son de ble', 'Farro', 'Polenta', 'Couscous', 'Epeautre concasse',\n",
    "    'Germe de ble', 'Riz basmati', 'Riz gluant', 'Riz a grains courts',\n",
    "    'Riz a grains longs', 'Riz brun', 'Semoule de mais', 'Graines de sarrasin',\n",
    "    'Sarrasin', 'Farine de sarrasin', 'Riz noir', 'Riz rouge', 'Riz rose',\n",
    "    'Riz violet', 'Ble noir', 'Ble tendre', 'Ble dur', 'Flocons de seigle',\n",
    "    'Quinoa rouge', 'Quinoa blanc', 'Quinoa noir', 'Farine de quinoa',\n",
    "    'Farine de mais', 'Farine de riz', 'Farine de ble', 'Farine d\\'epeautre',\n",
    "    'Farine de millet', 'Farine de sorgho', 'Farine de sarrasin', 'Farine de mais',\n",
    "    'Farine de chataigne', 'Farine de pois chiche', 'Farine de riz complet',\n",
    "    'Farine de pois chiche', 'Farine de pois', 'Semoule de ble dur',\n",
    "    'Semoule de mais', 'Semoule de riz', 'epeautre')\n",
    "print(cereales)\n",
    "\n"
   ]
  },
  {
   "cell_type": "code",
   "execution_count": 53,
   "id": "5dc5586d",
   "metadata": {},
   "outputs": [
    {
     "name": "stdout",
     "output_type": "stream",
     "text": [
      "                 Zone           Produit   Origine  Aliments pour animaux  \\\n",
      "34        Afghanistan            Millet  vegetale                    0.0   \n",
      "40        Afghanistan              Orge  vegetale                  360.0   \n",
      "47        Afghanistan  Riz (Eq Blanchi)  vegetale                    0.0   \n",
      "67     Afrique du Sud            Avoine  vegetale                    8.0   \n",
      "113    Afrique du Sud            Millet  vegetale                    8.0   \n",
      "...               ...               ...       ...                    ...   \n",
      "15511        Éthiopie            Seigle  vegetale                    0.0   \n",
      "15513        Éthiopie            Sorgho  vegetale                    0.0   \n",
      "15575    Îles Salomon              Orge  vegetale                    0.0   \n",
      "15591    Îles Salomon  Riz (Eq Blanchi)  vegetale                    0.0   \n",
      "15593    Îles Salomon            Sorgho  vegetale                    0.0   \n",
      "\n",
      "       Autres Utilisations  Disponibilité alimentaire (Kcal/personne/jour)  \\\n",
      "34                     0.0                                          3000.0   \n",
      "40                     0.0                                         26000.0   \n",
      "47                     0.0                                        141000.0   \n",
      "67                     0.0                                          5000.0   \n",
      "113                    0.0                                          1000.0   \n",
      "...                    ...                                             ...   \n",
      "15511                  0.0                                             0.0   \n",
      "15513               1500.0                                        216000.0   \n",
      "15575                  0.0                                             0.0   \n",
      "15591                 12.0                                        623000.0   \n",
      "15593                  0.0                                             0.0   \n",
      "\n",
      "       Disponibilité alimentaire en quantité (kg/personne/an)  \\\n",
      "34                                                 400.0        \n",
      "40                                                2920.0        \n",
      "47                                               13820.0        \n",
      "67                                                 750.0        \n",
      "113                                                 90.0        \n",
      "...                                                  ...        \n",
      "15511                                                0.0        \n",
      "15513                                            25510.0        \n",
      "15575                                               70.0        \n",
      "15591                                            63760.0        \n",
      "15593                                                0.0        \n",
      "\n",
      "       Disponibilité de matière grasse en quantité (g/personne/jour)  \\\n",
      "34                                                  0.02               \n",
      "40                                                  0.24               \n",
      "47                                                  0.27               \n",
      "67                                                  0.09               \n",
      "113                                                 0.01               \n",
      "...                                                  ...               \n",
      "15511                                               0.00               \n",
      "15513                                               2.08               \n",
      "15575                                               0.00               \n",
      "15591                                               1.36               \n",
      "15593                                               0.00               \n",
      "\n",
      "       Disponibilité de protéines en quantité (g/personne/jour)  \\\n",
      "34                                                  0.08          \n",
      "40                                                  0.79          \n",
      "47                                                  2.70          \n",
      "67                                                  0.16          \n",
      "113                                                 0.02          \n",
      "...                                                  ...          \n",
      "15511                                               0.00          \n",
      "15513                                               6.35          \n",
      "15575                                               0.01          \n",
      "15591                                              10.90          \n",
      "15593                                               0.00          \n",
      "\n",
      "       Disponibilité intérieure  Exportations - Quantité  \\\n",
      "34                         13.0                      0.0   \n",
      "40                        524.0                      0.0   \n",
      "47                        461.0                      0.0   \n",
      "67                         49.0                      4.0   \n",
      "113                        13.0                      0.0   \n",
      "...                         ...                      ...   \n",
      "15511                       0.0                      0.0   \n",
      "15513                    4156.0                     12.0   \n",
      "15575                       1.0                      0.0   \n",
      "15591                      49.0                      0.0   \n",
      "15593                       0.0                      0.0   \n",
      "\n",
      "       Importations - Quantité  Nourriture  Pertes  Production  Semences  \\\n",
      "34                         0.0        12.0     1.0        13.0       0.0   \n",
      "40                        10.0        89.0    52.0       514.0      22.0   \n",
      "47                       119.0       422.0    24.0       342.0      14.0   \n",
      "67                        25.0        40.0     1.0        28.0       1.0   \n",
      "113                        7.0         5.0     0.0         7.0       0.0   \n",
      "...                        ...         ...     ...         ...       ...   \n",
      "15511                      0.0         0.0     0.0         0.0       0.0   \n",
      "15513                     30.0      2401.0   218.0      4338.0      37.0   \n",
      "15575                      1.0         0.0     0.0         0.0       0.0   \n",
      "15591                     47.0        36.0     1.0         3.0       0.0   \n",
      "15593                      0.0         0.0     0.0         0.0       0.0   \n",
      "\n",
      "       Traitement  Variation de stock  Disponibilité intérieure calculée  \n",
      "34            0.0                 0.0                               13.0  \n",
      "40            0.0                 0.0                              524.0  \n",
      "47            0.0                 0.0                              461.0  \n",
      "67            0.0                 0.0                               49.0  \n",
      "113           0.0                 0.0                               14.0  \n",
      "...           ...                 ...                                ...  \n",
      "15511         0.0                 0.0                                0.0  \n",
      "15513         0.0              -200.0                             4156.0  \n",
      "15575         1.0                 0.0                                1.0  \n",
      "15591         0.0                 0.0                               50.0  \n",
      "15593         0.0                 0.0                                0.0  \n",
      "\n",
      "[977 rows x 19 columns]\n"
     ]
    }
   ],
   "source": [
    "#Création d'un dataframe avec les informations uniquement pour ces céréales\n",
    "cereales_data = dispo_alimentaire[dispo_alimentaire['Produit'].isin(cereales)]\n",
    "print(cereales_data)"
   ]
  },
  {
   "cell_type": "code",
   "execution_count": 54,
   "id": "aaf0bb75-b426-4543-9bd8-c71b2ed9ef14",
   "metadata": {},
   "outputs": [
    {
     "name": "stdout",
     "output_type": "stream",
     "text": [
      "744227.0\n"
     ]
    }
   ],
   "source": [
    "total_dispo_cereale = cereales_data['Disponibilité intérieure calculée'].sum()\n",
    "print (total_dispo_cereale )"
   ]
  },
  {
   "cell_type": "code",
   "execution_count": 55,
   "id": "8365de95",
   "metadata": {},
   "outputs": [
    {
     "name": "stdout",
     "output_type": "stream",
     "text": [
      "La proportion d'alimentation des animaux est de : 24.013640999318756\n"
     ]
    }
   ],
   "source": [
    "#Affichage de la proportion d'alimentation animale\n",
    "proportion_alim_animale = (cereales_data['Aliments pour animaux'].sum() / (total_dispo_cereale)) * 100\n",
    "print(f\"La proportion d'alimentation des animaux est de : {proportion_alim_animale}\")"
   ]
  },
  {
   "cell_type": "code",
   "execution_count": 56,
   "id": "60bdac75-b580-4d08-b24b-e150e6f93602",
   "metadata": {},
   "outputs": [
    {
     "name": "stdout",
     "output_type": "stream",
     "text": [
      "La proportion d'alimentation humaine est de : 59.2128476929754\n"
     ]
    }
   ],
   "source": [
    "#Affichage de la proportion d'alimentation humaine\n",
    "proportion_alim_humaine = (cereales_data['Nourriture'].sum() / (total_dispo_cereale)) * 100\n",
    "print(f\"La proportion d'alimentation humaine est de : {proportion_alim_humaine}\")"
   ]
  },
  {
   "cell_type": "code",
   "execution_count": 57,
   "id": "5b03ef90-5ad0-47d5-8c72-3e70cc2706a0",
   "metadata": {},
   "outputs": [
    {
     "data": {
      "image/png": "[encoded data removed]",
      "text/plain": [
       "<Figure size 640x480 with 1 Axes>"
      ]
     },
     "metadata": {},
     "output_type": "display_data"
    }
   ],
   "source": [
    "labels = ['Proportion humain', 'Proportion animale', 'Proportion industrial']\n",
    "sizes = [59, 24, 17]\n",
    "\n",
    "# Crear un gráfico de camembert\n",
    "plt.pie(sizes, labels=labels, autopct='%1.1f%%', startangle=90, colors=['skyblue', 'lightgreen', 'Red'])\n",
    "plt.title('Répartition des céréales en 2017 (en pourcentage)')\n",
    "plt.show()"
   ]
  },
  {
   "cell_type": "markdown",
   "id": "a603be79",
   "metadata": {},
   "source": [
    "<div style=\"border: 1px solid RGB(0,150,250);\" >\n",
    "<h3 style=\"margin: auto; padding: 20px; color: RGB(0,150,250); \">3.6 - Pays avec la proportion de personnes sous-alimentée la plus forte en 2017</h3>\n",
    "</div>"
   ]
  },
  {
   "cell_type": "code",
   "execution_count": 58,
   "id": "1884c270",
   "metadata": {},
   "outputs": [],
   "source": [
    "#Création de la colonne proportion par pays\n",
    "population_sousnutrition2017['Proportion de personnes sous-alimentées'] = (population_sousnutrition2017['Sous_nutrition'] / population_sousnutrition2017['Population']) / 1"
   ]
  },
  {
   "cell_type": "code",
   "execution_count": 59,
   "id": "25a185b6",
   "metadata": {},
   "outputs": [
    {
     "name": "stdout",
     "output_type": "stream",
     "text": [
      "                                           Zone  \\\n",
      "78                                        Haïti   \n",
      "157  République populaire démocratique de Corée   \n",
      "108                                  Madagascar   \n",
      "103                                     Libéria   \n",
      "100                                     Lesotho   \n",
      "183                                       Tchad   \n",
      "161                                      Rwanda   \n",
      "121                                  Mozambique   \n",
      "186                                 Timor-Leste   \n",
      "0                                   Afghanistan   \n",
      "\n",
      "     Proportion de personnes sous-alimentées  \n",
      "78                                  0.482592  \n",
      "157                                 0.471887  \n",
      "108                                 0.410629  \n",
      "103                                 0.382797  \n",
      "100                                 0.382494  \n",
      "183                                 0.379576  \n",
      "161                                 0.350556  \n",
      "121                                 0.328109  \n",
      "186                                 0.321735  \n",
      "0                                   0.289287  \n"
     ]
    }
   ],
   "source": [
    "#affichage après trie des 10 pires pays\n",
    "pire_10_pays = population_sousnutrition2017.sort_values(by='Proportion de personnes sous-alimentées', ascending=False).head(10)\n",
    "\n",
    "print(pire_10_pays[['Zone', 'Proportion de personnes sous-alimentées']])"
   ]
  },
  {
   "cell_type": "code",
   "execution_count": 60,
   "id": "c41444bd-8c52-4ba0-ac09-6f4e732e5a81",
   "metadata": {},
   "outputs": [
    {
     "data": {
      "image/png": "[encoded data removed]",
      "text/plain": [
       "<Figure size 1000x600 with 1 Axes>"
      ]
     },
     "metadata": {},
     "output_type": "display_data"
    }
   ],
   "source": [
    "paises = pire_10_pays['Zone']\n",
    "proportion_sous_alimentees = pire_10_pays['Proportion de personnes sous-alimentées']\n",
    "\n",
    "# Crear un gráfico de barras horizontal\n",
    "plt.figure(figsize=(10, 6))\n",
    "plt.barh(paises, proportion_sous_alimentees, color='skyblue')\n",
    "plt.xlabel('Proportion de personnes sous-alimentées')\n",
    "plt.title('Top 10 des pires pays en termes de sous-alimentation (2017)')\n",
    "plt.grid(axis='x', linestyle='--', alpha=0.6)\n",
    "\n",
    "# Mostrar el tableau de chigres\n",
    "for i, value in enumerate(proportion_sous_alimentees):\n",
    "    plt.text(value, i, f\"{value:.2%}\", va='center', fontsize=10)\n",
    "\n",
    "# Mostrar el gráfico\n",
    "plt.show()"
   ]
  },
  {
   "cell_type": "markdown",
   "id": "4f610008",
   "metadata": {},
   "source": [
    "<div style=\"border: 1px solid RGB(0,150,250);\" >\n",
    "<h3 style=\"margin: auto; padding: 20px; color: RGB(0,150,250); \">3.7 - Pays qui ont le plus bénéficié d'aide alimentaire depuis 2013</h3>\n",
    "</div>"
   ]
  },
  {
   "cell_type": "code",
   "execution_count": 61,
   "id": "ff1b24a3",
   "metadata": {},
   "outputs": [],
   "source": [
    "#calcul du total de l'aide alimentaire par pays\n",
    "aide_alimentaire_depuis_2013 = aide_alimentaire[aide_alimentaire['Année'] >= 2013]\n",
    "total_aide_alimentaire_par_pays = aide_alimentaire_depuis_2013.groupby('Zone')['Valeur'].sum().reset_index()"
   ]
  },
  {
   "cell_type": "code",
   "execution_count": 62,
   "id": "ee1ac6fb",
   "metadata": {},
   "outputs": [
    {
     "name": "stdout",
     "output_type": "stream",
     "text": [
      "                                Zone      Valeur\n",
      "50         République arabe syrienne  1858943000\n",
      "75                          Éthiopie  1381294000\n",
      "70                             Yémen  1206484000\n",
      "61                     Soudan du Sud   695248000\n",
      "60                            Soudan   669784000\n",
      "30                             Kenya   552836000\n",
      "3                         Bangladesh   348188000\n",
      "59                           Somalie   292678000\n",
      "53  République démocratique du Congo   288502000\n",
      "43                             Niger   276344000\n"
     ]
    }
   ],
   "source": [
    "#affichage après trie des 10 pays qui ont bénéficié le plus de l'aide alimentaire\n",
    "top_10_pays_aide_alimentaire = total_aide_alimentaire_par_pays.sort_values(by='Valeur', ascending=False).head(10)\n",
    "print(top_10_pays_aide_alimentaire)"
   ]
  },
  {
   "cell_type": "code",
   "execution_count": 63,
   "id": "97caa11c-639c-43b3-95d3-c13bab90cb97",
   "metadata": {},
   "outputs": [
    {
     "data": {
      "image/png": "[encoded data removed]",
      "text/plain": [
       "<Figure size 1000x600 with 1 Axes>"
      ]
     },
     "metadata": {},
     "output_type": "display_data"
    }
   ],
   "source": [
    "plt.figure(figsize=(10, 6))\n",
    "bars = plt.barh(top_10_pays_aide_alimentaire['Zone'], top_10_pays_aide_alimentaire['Valeur'], color='skyblue')\n",
    "\n",
    "\n",
    "plt.title(\"Top 10 des Pays Ayant Bénéficié le plus d'Aide Alimentaire (depuis 2013)\")\n",
    "plt.xlabel('Aide Alimentaire (en tonnes)')\n",
    "\n",
    "\n",
    "for bar in bars:\n",
    "    xval = bar.get_width()\n",
    "    plt.text(xval, bar.get_y() + bar.get_height()/2, round(xval), va='center', ha='left')\n",
    "\n",
    "\n",
    "plt.show()"
   ]
  },
  {
   "cell_type": "markdown",
   "id": "a361ce61",
   "metadata": {},
   "source": [
    "<div style=\"border: 1px solid RGB(0,150,250);\" >\n",
    "<h3 style=\"margin: auto; padding: 20px; color: RGB(0,150,250); \">3.8 - Evolution des 5 pays qui ont le plus bénéficiés de l'aide alimentaire entre 2013 et 2016</h3>\n",
    "</div>"
   ]
  },
  {
   "cell_type": "code",
   "execution_count": 64,
   "id": "09d55114",
   "metadata": {},
   "outputs": [],
   "source": [
    "#Création d'un dataframe avec la zone, l'année et l'aide alimentaire puis groupby sur zone et année \n",
    "# 1. Création d'un DataFrame avec la zone, l'année et l'aide alimentaire\n",
    "aide_alimentaire_zone_annee = aide_alimentaire[['Zone', 'Année', 'Valeur']]\n",
    "\n",
    "# 2. Groupby sur zone et année\n",
    "aide_alimentaire_zone_annee_grouped = aide_alimentaire_zone_annee.groupby(['Zone', 'Année']).sum().reset_index()"
   ]
  },
  {
   "cell_type": "code",
   "execution_count": 65,
   "id": "6bd577b0",
   "metadata": {},
   "outputs": [],
   "source": [
    "#Création d'une liste contenant les 5 pays qui ont le plus bénéficiées de l'aide alimentaire\n",
    "top_5_pays_beneficiaires = aide_alimentaire_zone_annee_grouped.groupby('Zone')['Valeur'].sum().nlargest(5).index.tolist()"
   ]
  },
  {
   "cell_type": "code",
   "execution_count": 66,
   "id": "7e20a0a3-57c2-46cc-b8b9-0e0c6a80b6d7",
   "metadata": {},
   "outputs": [
    {
     "name": "stdout",
     "output_type": "stream",
     "text": [
      "['République arabe syrienne', 'Éthiopie', 'Yémen', 'Soudan du Sud', 'Soudan']\n"
     ]
    }
   ],
   "source": [
    "print (top_5_pays_beneficiaires)"
   ]
  },
  {
   "cell_type": "code",
   "execution_count": 67,
   "id": "41612dbd",
   "metadata": {},
   "outputs": [],
   "source": [
    "#On filtre sur le dataframe avec notre liste\n",
    "top_5_pays_aide_alimentaire = aide_alimentaire_zone_annee_grouped[aide_alimentaire_zone_annee_grouped['Zone'].isin(top_5_pays_beneficiaires)]"
   ]
  },
  {
   "cell_type": "code",
   "execution_count": 68,
   "id": "5680e72d",
   "metadata": {},
   "outputs": [
    {
     "name": "stdout",
     "output_type": "stream",
     "text": [
      "                          Zone  Année     Valeur\n",
      "157  République arabe syrienne   2013  563566000\n",
      "158  République arabe syrienne   2014  651870000\n",
      "159  République arabe syrienne   2015  524949000\n",
      "160  République arabe syrienne   2016  118558000\n",
      "189                     Soudan   2013  330230000\n",
      "190                     Soudan   2014  321904000\n",
      "191                     Soudan   2015   17650000\n",
      "192              Soudan du Sud   2013  196330000\n",
      "193              Soudan du Sud   2014  450610000\n",
      "194              Soudan du Sud   2015   48308000\n",
      "214                      Yémen   2013  264764000\n",
      "215                      Yémen   2014  103840000\n",
      "216                      Yémen   2015  372306000\n",
      "217                      Yémen   2016  465574000\n",
      "225                   Éthiopie   2013  591404000\n",
      "226                   Éthiopie   2014  586624000\n",
      "227                   Éthiopie   2015  203266000\n"
     ]
    }
   ],
   "source": [
    "# Affichage des pays avec l'aide alimentaire par année, valeur c'est en milliers de kg\n",
    "print(top_5_pays_aide_alimentaire)"
   ]
  },
  {
   "cell_type": "code",
   "execution_count": 69,
   "id": "ddae079c-fb8c-43d2-8868-6a643dab7ace",
   "metadata": {},
   "outputs": [
    {
     "data": {
      "image/png": "[encoded data removed]",
      "text/plain": [
       "<Figure size 1000x600 with 1 Axes>"
      ]
     },
     "metadata": {},
     "output_type": "display_data"
    }
   ],
   "source": [
    "data = {'République arabe syrienne': [563566000, 651870000, 524949000, 118558000],'Soudan': [330230000, 321904000, 17650000],\n",
    "'Soudan du Sud': [196330000, 450610000, 48308000],'Yémen': [264764000, 103840000, 372306000, 465574000], 'Éthiopie': [591404000, 586624000, 203266000]}\n",
    "\n",
    "plt.figure(figsize=(10, 6))\n",
    "for country, values in data.items():\n",
    "    plt.plot(range(2013, 2013 + len(values)), values, label=country, marker='o')\n",
    "\n",
    "plt.title(\"Évolution de l'aide alimentaire par pays (en tonnes)\")\n",
    "plt.xlabel('Année')\n",
    "plt.ylabel('Valeur (en tonnes)')\n",
    "plt.legend()\n",
    "plt.grid(True)\n",
    "plt.show()"
   ]
  },
  {
   "cell_type": "markdown",
   "id": "bd392dac",
   "metadata": {},
   "source": [
    "<div style=\"border: 1px solid RGB(0,150,250);\" >\n",
    "<h3 style=\"margin: auto; padding: 20px; color: RGB(0,150,250); \">3.9 - Pays avec le moins de disponibilité par habitant</h3>\n",
    "</div>"
   ]
  },
  {
   "cell_type": "code",
   "execution_count": 70,
   "id": "88c18d5b-0ec6-4665-8e9a-3400d0e6d81d",
   "metadata": {},
   "outputs": [
    {
     "name": "stdout",
     "output_type": "stream",
     "text": [
      "                      Zone  Disponibilité alimentaire (Kcal/personne/jour)\n",
      "0              Afghanistan                                       2087000.0\n",
      "1           Afrique du Sud                                       3020000.0\n",
      "2                  Albanie                                       3188000.0\n",
      "3                  Algérie                                       3293000.0\n",
      "4                Allemagne                                       3503000.0\n",
      "..                     ...                                             ...\n",
      "169    Émirats arabes unis                                       3275000.0\n",
      "170               Équateur                                       2346000.0\n",
      "171  États-Unis d'Amérique                                       3682000.0\n",
      "172               Éthiopie                                       2129000.0\n",
      "173           Îles Salomon                                       2383000.0\n",
      "\n",
      "[174 rows x 2 columns]\n"
     ]
    }
   ],
   "source": [
    "##Calcul de la disponibilité en kcal par personne par jour par pay\n",
    "pays_dispo = dispo_alimentaire.groupby(['Zone'])['Disponibilité alimentaire (Kcal/personne/jour)'].sum().reset_index()\n",
    "print(pays_dispo)"
   ]
  },
  {
   "cell_type": "code",
   "execution_count": 71,
   "id": "70c0f689",
   "metadata": {},
   "outputs": [
    {
     "name": "stdout",
     "output_type": "stream",
     "text": [
      "                                           Zone  \\\n",
      "154                                 Timor-Leste   \n",
      "114                                     Ouganda   \n",
      "167                                    Zimbabwe   \n",
      "151                                       Tchad   \n",
      "133  République populaire démocratique de Corée   \n",
      "65                                        Haïti   \n",
      "0                                   Afghanistan   \n",
      "91                                   Madagascar   \n",
      "166                                      Zambie   \n",
      "128                   République centrafricaine   \n",
      "\n",
      "     Disponibilité alimentaire (Kcal/personne/jour)  \n",
      "154                                       2129000.0  \n",
      "114                                       2126000.0  \n",
      "167                                       2113000.0  \n",
      "151                                       2109000.0  \n",
      "133                                       2093000.0  \n",
      "65                                        2089000.0  \n",
      "0                                         2087000.0  \n",
      "91                                        2056000.0  \n",
      "166                                       1924000.0  \n",
      "128                                       1879000.0  \n"
     ]
    }
   ],
   "source": [
    "#Affichage des 10 pays qui ont le moins de dispo alimentaire par personne \n",
    "top_10_pays_moins_dispo = pays_dispo.nsmallest(10, 'Disponibilité alimentaire (Kcal/personne/jour)')\n",
    "top_10_pays_moins_dispo = top_10_pays_moins_dispo.sort_values('Disponibilité alimentaire (Kcal/personne/jour)', ascending=False).head(10)\n",
    "print (top_10_pays_moins_dispo)"
   ]
  },
  {
   "cell_type": "code",
   "execution_count": 72,
   "id": "7b9746c1-e371-4b8b-96d0-1d12c3b4424d",
   "metadata": {},
   "outputs": [
    {
     "data": {
      "image/png": "[encoded data removed]",
      "text/plain": [
       "<Figure size 1000x600 with 1 Axes>"
      ]
     },
     "metadata": {},
     "output_type": "display_data"
    }
   ],
   "source": [
    "plt.figure(figsize=(10, 6))\n",
    "bars = plt.bar(top_10_pays_moins_dispo['Zone'], top_10_pays_moins_dispo['Disponibilité alimentaire (Kcal/personne/jour)'], color='skyblue')\n",
    "\n",
    "for bar in bars:\n",
    "    height = bar.get_height()\n",
    "    plt.text(bar.get_x() + bar.get_width() / 2, height, round(height, 2),\n",
    "             ha='center', va='bottom')\n",
    "\n",
    "plt.xticks(rotation=45, ha='right')\n",
    "plt.xlabel('Zone')\n",
    "plt.ylabel('Disponibilité alimentaire (Kcal/personne/jour)')\n",
    "plt.title('Top 10 des pays avec la plus faible de disponibilité alimentaire par personne')\n",
    "\n",
    "plt.tight_layout() \n",
    "plt.show()"
   ]
  },
  {
   "cell_type": "markdown",
   "id": "2553ed12",
   "metadata": {},
   "source": [
    "<div style=\"border: 1px solid RGB(0,150,250);\" >\n",
    "<h3 style=\"margin: auto; padding: 20px; color: RGB(0,150,250); \">3.10 - Pays avec le plus de disponibilité par habitant</h3>\n",
    "</div>"
   ]
  },
  {
   "cell_type": "code",
   "execution_count": 73,
   "id": "63e835c6",
   "metadata": {},
   "outputs": [
    {
     "name": "stdout",
     "output_type": "stream",
     "text": [
      "                      Zone  Disponibilité alimentaire (Kcal/personne/jour)\n",
      "11                Autriche                                       3770000.0\n",
      "16                Belgique                                       3737000.0\n",
      "159                Turquie                                       3708000.0\n",
      "171  États-Unis d'Amérique                                       3682000.0\n",
      "74                  Israël                                       3610000.0\n",
      "72                 Irlande                                       3602000.0\n",
      "75                  Italie                                       3578000.0\n",
      "89              Luxembourg                                       3540000.0\n",
      "168                 Égypte                                       3518000.0\n",
      "4                Allemagne                                       3503000.0\n"
     ]
    }
   ],
   "source": [
    "#Affichage des 10 pays qui ont le plus de dispo alimentaire par personne \n",
    "top_10_pays_plus_dispo = pays_dispo.nlargest(10, 'Disponibilité alimentaire (Kcal/personne/jour)')\n",
    "top_10_pays_plus_dispo = pays_dispo.sort_values('Disponibilité alimentaire (Kcal/personne/jour)', ascending=False).head(10)\n",
    "print(top_10_pays_plus_dispo)\n"
   ]
  },
  {
   "cell_type": "code",
   "execution_count": 74,
   "id": "ba05d181-508a-4390-bcd6-e3e059f792e4",
   "metadata": {},
   "outputs": [
    {
     "data": {
      "image/png": "[encoded data removed]",
      "text/plain": [
       "<Figure size 1000x600 with 1 Axes>"
      ]
     },
     "metadata": {},
     "output_type": "display_data"
    }
   ],
   "source": [
    "plt.figure(figsize=(10, 6))\n",
    "bars = plt.bar(top_10_pays_plus_dispo['Zone'], top_10_pays_plus_dispo['Disponibilité alimentaire (Kcal/personne/jour)'], color='skyblue')\n",
    "\n",
    "for bar in bars:\n",
    "    height = bar.get_height()\n",
    "    plt.text(bar.get_x() + bar.get_width() / 2, height, round(height, 2),\n",
    "             ha='center', va='bottom')\n",
    "\n",
    "plt.xticks(rotation=45, ha='right')\n",
    "plt.xlabel('Zone')\n",
    "plt.ylabel('Disponibilité alimentaire (Kcal/personne/jour)')\n",
    "plt.title('Top 10 des pays avec la plus de disponibilité alimentaire par personne')\n",
    "\n",
    "plt.tight_layout()\n",
    "plt.show()"
   ]
  },
  {
   "cell_type": "markdown",
   "id": "58d7248b",
   "metadata": {},
   "source": [
    "<div style=\"border: 1px solid RGB(0,150,250);\" >\n",
    "<h3 style=\"margin: auto; padding: 20px; color: RGB(0,150,250); \">3.11 - Exemple de la Thaïlande pour le Manioc</h3>\n",
    "</div>"
   ]
  },
  {
   "cell_type": "code",
   "execution_count": 75,
   "id": "41c92538-d020-4d5f-a614-10fe16642d8d",
   "metadata": {},
   "outputs": [],
   "source": [
    "#création d'un dataframe avec uniquement la Thaïlande \n",
    "dispo_manioc_thailande = dispo_alimentaire[(dispo_alimentaire['Produit'] == 'Manioc') & (dispo_alimentaire['Zone'] == 'Thaïlande')]"
   ]
  },
  {
   "cell_type": "code",
   "execution_count": 76,
   "id": "18c1454b-0cc3-418d-8209-07b8066b22f4",
   "metadata": {},
   "outputs": [
    {
     "name": "stdout",
     "output_type": "stream",
     "text": [
      "            Zone Produit   Origine  Aliments pour animaux  \\\n",
      "13809  Thaïlande  Manioc  vegetale                 1800.0   \n",
      "\n",
      "       Autres Utilisations  Disponibilité alimentaire (Kcal/personne/jour)  \\\n",
      "13809               2081.0                                         40000.0   \n",
      "\n",
      "       Disponibilité alimentaire en quantité (kg/personne/an)  \\\n",
      "13809                                            13000.0        \n",
      "\n",
      "       Disponibilité de matière grasse en quantité (g/personne/jour)  \\\n",
      "13809                                               0.05               \n",
      "\n",
      "       Disponibilité de protéines en quantité (g/personne/jour)  \\\n",
      "13809                                               0.14          \n",
      "\n",
      "       Disponibilité intérieure  Exportations - Quantité  \\\n",
      "13809                    6264.0                  25214.0   \n",
      "\n",
      "       Importations - Quantité  Nourriture  Pertes  Production  Semences  \\\n",
      "13809                   1250.0       871.0  1511.0     30228.0       0.0   \n",
      "\n",
      "       Traitement  Variation de stock  Disponibilité intérieure calculée  \n",
      "13809         0.0                 0.0                             6264.0  \n"
     ]
    }
   ],
   "source": [
    "print (dispo_manioc_thailande)"
   ]
  },
  {
   "cell_type": "code",
   "execution_count": 77,
   "id": "e31b708e-97a8-4933-8e16-1a129b4afd7b",
   "metadata": {},
   "outputs": [],
   "source": [
    "#Calcul de la sous nutrition en Thaïlande\n",
    "thaïlande_sous_nutrition = sous_nutrition[sous_nutrition['Zone'] == 'Thaïlande']\n"
   ]
  },
  {
   "cell_type": "code",
   "execution_count": 78,
   "id": "1ac359ee-8fe8-4780-912a-b9731f657d39",
   "metadata": {},
   "outputs": [
    {
     "name": "stdout",
     "output_type": "stream",
     "text": [
      "           Zone      Année  Sous_nutrition\n",
      "1110  Thaïlande  2012-2014       6200000.0\n",
      "1111  Thaïlande  2013-2015       6000000.0\n",
      "1112  Thaïlande  2014-2016       5900000.0\n",
      "1113  Thaïlande  2015-2017       6000000.0\n",
      "1114  Thaïlande  2016-2018       6200000.0\n",
      "1115  Thaïlande  2017-2019       6500000.0\n"
     ]
    }
   ],
   "source": [
    "print (thaïlande_sous_nutrition)"
   ]
  },
  {
   "cell_type": "code",
   "execution_count": 79,
   "id": "4ee5451c-c07a-4027-a85e-1824e294f186",
   "metadata": {},
   "outputs": [
    {
     "name": "stdout",
     "output_type": "stream",
     "text": [
      "Total population en Thaïlande: 412907346.0\n"
     ]
    }
   ],
   "source": [
    "#Calcul population \n",
    "population_thailand = population[population['Zone'] == 'Thaïlande']\n",
    "total_population_thailand = population_thailand['Population'].sum()\n",
    "print(f'Total population en Thaïlande: {total_population_thailand}')"
   ]
  },
  {
   "cell_type": "code",
   "execution_count": 80,
   "id": "3304cc63-d455-4758-8a2d-972d94c78f64",
   "metadata": {},
   "outputs": [
    {
     "name": "stdout",
     "output_type": "stream",
     "text": [
      "Sous nutrition en Thaïlande: 36800000.0 millions d'habitants\n"
     ]
    }
   ],
   "source": [
    "sous_nutrition_thailande = thaïlande_sous_nutrition['Sous_nutrition'].sum()\n",
    "\n",
    "print(f\"Sous nutrition en Thaïlande: {sous_nutrition_thailande} millions d'habitants\")"
   ]
  },
  {
   "cell_type": "code",
   "execution_count": 81,
   "id": "50c3ecfe-8596-467e-aebf-7e384b463914",
   "metadata": {},
   "outputs": [
    {
     "name": "stdout",
     "output_type": "stream",
     "text": [
      "La production de manioc est: 13809    30228.0\n",
      "Name: Manioc_prod_thai, dtype: float64 milliers de tonnes\n"
     ]
    },
    {
     "name": "stderr",
     "output_type": "stream",
     "text": [
      "/var/folders/cy/t20bxd4s1n30wgrjxd5xxwpr0000gn/T/ipykernel_64521/1785697078.py:2: SettingWithCopyWarning: \n",
      "A value is trying to be set on a copy of a slice from a DataFrame.\n",
      "Try using .loc[row_indexer,col_indexer] = value instead\n",
      "\n",
      "See the caveats in the documentation: https://pandas.pydata.org/pandas-docs/stable/user_guide/indexing.html#returning-a-view-versus-a-copy\n",
      "  dispo_manioc_thailande['Manioc_prod_thai'] = dispo_manioc_thailande['Production'].sum()\n"
     ]
    }
   ],
   "source": [
    "#Calcul Production\n",
    "dispo_manioc_thailande['Manioc_prod_thai'] = dispo_manioc_thailande['Production'].sum()\n",
    "print (\"La production de manioc est:\", dispo_manioc_thailande['Manioc_prod_thai'], \"milliers de tonnes\")"
   ]
  },
  {
   "cell_type": "code",
   "execution_count": 82,
   "id": "1a06e4f9-81e8-461a-b309-a5f75be73182",
   "metadata": {},
   "outputs": [
    {
     "name": "stdout",
     "output_type": "stream",
     "text": [
      "La exportation de manioc est: 13809    25214.0\n",
      "Name: Manioc_exp_thai, dtype: float64 milliers de tonnes\n"
     ]
    },
    {
     "name": "stderr",
     "output_type": "stream",
     "text": [
      "/var/folders/cy/t20bxd4s1n30wgrjxd5xxwpr0000gn/T/ipykernel_64521/3461820595.py:2: SettingWithCopyWarning: \n",
      "A value is trying to be set on a copy of a slice from a DataFrame.\n",
      "Try using .loc[row_indexer,col_indexer] = value instead\n",
      "\n",
      "See the caveats in the documentation: https://pandas.pydata.org/pandas-docs/stable/user_guide/indexing.html#returning-a-view-versus-a-copy\n",
      "  dispo_manioc_thailande['Manioc_exp_thai'] = dispo_manioc_thailande['Exportations - Quantité'].sum()\n"
     ]
    }
   ],
   "source": [
    "#Calcul exportation\n",
    "dispo_manioc_thailande['Manioc_exp_thai'] = dispo_manioc_thailande['Exportations - Quantité'].sum()\n",
    "print (\"La exportation de manioc est:\", dispo_manioc_thailande['Manioc_exp_thai'], \"milliers de tonnes\")"
   ]
  },
  {
   "cell_type": "code",
   "execution_count": 83,
   "id": "d1a03d67-d117-4863-ac03-cc73d8689df9",
   "metadata": {},
   "outputs": [
    {
     "name": "stdout",
     "output_type": "stream",
     "text": [
      "13809    5014.0\n",
      "dtype: float64\n"
     ]
    }
   ],
   "source": [
    "Dif_prod_exp = dispo_manioc_thailande['Manioc_prod_thai'] - dispo_manioc_thailande['Manioc_exp_thai']\n",
    "print (Dif_prod_exp) "
   ]
  },
  {
   "cell_type": "code",
   "execution_count": 84,
   "id": "c637458a-1f1a-4202-9edf-499a0019b726",
   "metadata": {},
   "outputs": [
    {
     "name": "stdout",
     "output_type": "stream",
     "text": [
      "La disponibilité de manioc par habitant en thailande est: 13809    82350.886717\n",
      "dtype: float64\n"
     ]
    }
   ],
   "source": [
    "#Calcul quelle est la disponibilité par habitant pour la Thaïlande ? \n",
    "dispo_manioc_par_habitant = (total_population_thailand / Dif_prod_exp)\n",
    "print (\"La disponibilité de manioc par habitant en thailande est:\", dispo_manioc_par_habitant)"
   ]
  },
  {
   "cell_type": "markdown",
   "id": "7de4e914",
   "metadata": {},
   "source": [
    "<div style=\"background-color: RGB(0,150,250);\" >\n",
    "<h2 style=\"margin: auto; padding: 20px; color:#fff; \">Etape 6 - Analyse complémentaires</h2>\n",
    "</div>"
   ]
  },
  {
   "cell_type": "code",
   "execution_count": 149,
   "id": "434c771c-b8fe-49de-b922-926cd80771ce",
   "metadata": {},
   "outputs": [],
   "source": [
    "data_vegetauxrd = dispoalim_pop[(dispoalim_pop['Origine'] == 'vegetale') & (dispoalim_pop['Zone'] == 'République dominicaine') & (dispoalim_pop['Année'] == 2017)]"
   ]
  },
  {
   "cell_type": "code",
   "execution_count": 150,
   "id": "3c86528f-9359-4ca4-aaaf-cd0cd1748850",
   "metadata": {},
   "outputs": [
    {
     "name": "stdout",
     "output_type": "stream",
     "text": [
      "                         Zone                 Produit   Origine  \\\n",
      "70858  République dominicaine   Aliments pour enfants  vegetale   \n",
      "70864  République dominicaine                  Ananas  vegetale   \n",
      "70876  République dominicaine  Arachides Decortiquees  vegetale   \n",
      "70882  République dominicaine                  Avoine  vegetale   \n",
      "70888  République dominicaine                 Bananes  vegetale   \n",
      "...                       ...                     ...       ...   \n",
      "71302  République dominicaine                  Sésame  vegetale   \n",
      "71308  République dominicaine                     Thé  vegetale   \n",
      "71314  République dominicaine                 Tomates  vegetale   \n",
      "71350  République dominicaine                     Vin  vegetale   \n",
      "71356  République dominicaine          Épices, Autres  vegetale   \n",
      "\n",
      "       Aliments pour animaux  Autres Utilisations  \\\n",
      "70858                    0.0                  0.0   \n",
      "70864                    0.0                  0.0   \n",
      "70876                    0.0                  0.0   \n",
      "70882                    0.0                  0.0   \n",
      "70888                    0.0                  0.0   \n",
      "...                      ...                  ...   \n",
      "71302                    0.0                  0.0   \n",
      "71308                    0.0                  0.0   \n",
      "71314                    0.0                  0.0   \n",
      "71350                    0.0                  0.0   \n",
      "71356                    0.0                  0.0   \n",
      "\n",
      "       Disponibilité alimentaire (Kcal/personne/jour)  \\\n",
      "70858                                         10000.0   \n",
      "70864                                         35000.0   \n",
      "70876                                             0.0   \n",
      "70882                                             0.0   \n",
      "70888                                         86000.0   \n",
      "...                                               ...   \n",
      "71302                                             0.0   \n",
      "71308                                             0.0   \n",
      "71314                                         13000.0   \n",
      "71350                                          2000.0   \n",
      "71356                                          2000.0   \n",
      "\n",
      "       Disponibilité alimentaire en quantité (kg/personne/an)  \\\n",
      "70858                                             1010.0        \n",
      "70864                                            41620.0        \n",
      "70876                                               10.0        \n",
      "70882                                               30.0        \n",
      "70888                                            63730.0        \n",
      "...                                                  ...        \n",
      "71302                                                0.0        \n",
      "71308                                               10.0        \n",
      "71314                                            21760.0        \n",
      "71350                                             1200.0        \n",
      "71356                                              270.0        \n",
      "\n",
      "       Disponibilité de matière grasse en quantité (g/personne/jour)  \\\n",
      "70858                                               0.08               \n",
      "70864                                               0.11               \n",
      "70876                                               0.01               \n",
      "70882                                               0.00               \n",
      "70888                                               0.41               \n",
      "...                                                  ...               \n",
      "71302                                               0.00               \n",
      "71308                                               0.00               \n",
      "71314                                               0.12               \n",
      "71350                                               0.00               \n",
      "71356                                               0.07               \n",
      "\n",
      "       Disponibilité de protéines en quantité (g/personne/jour)  \\\n",
      "70858                                               0.42          \n",
      "70864                                               0.23          \n",
      "70876                                               0.00          \n",
      "70882                                               0.01          \n",
      "70888                                               1.09          \n",
      "...                                                  ...          \n",
      "71302                                               0.00          \n",
      "71308                                               0.00          \n",
      "71314                                               0.61          \n",
      "71350                                               0.00          \n",
      "71356                                               0.06          \n",
      "\n",
      "       Disponibilité intérieure  Exportations - Quantité  \\\n",
      "70858                      10.0                      0.0   \n",
      "70864                     482.0                      4.0   \n",
      "70876                       4.0                      0.0   \n",
      "70882                       0.0                      0.0   \n",
      "70888                     760.0                    221.0   \n",
      "...                         ...                      ...   \n",
      "71302                       0.0                      0.0   \n",
      "71308                       0.0                      0.0   \n",
      "71314                     252.0                      7.0   \n",
      "71350                      12.0                      0.0   \n",
      "71356                       3.0                      0.0   \n",
      "\n",
      "       Importations - Quantité  Nourriture  Pertes  Production  Semences  \\\n",
      "70858                     11.0        10.0     0.0         0.0       0.0   \n",
      "70864                      0.0       433.0    49.0       486.0       0.0   \n",
      "70876                      0.0         0.0     0.0         4.0       0.0   \n",
      "70882                      0.0         0.0     0.0         0.0       0.0   \n",
      "70888                      9.0       663.0    97.0       972.0       0.0   \n",
      "...                        ...         ...     ...         ...       ...   \n",
      "71302                      0.0         0.0     0.0         0.0       0.0   \n",
      "71308                      0.0         0.0     0.0         0.0       0.0   \n",
      "71314                      0.0       226.0    26.0       259.0       0.0   \n",
      "71350                     13.0        12.0     0.0         0.0       0.0   \n",
      "71356                      2.0         3.0     0.0         1.0       0.0   \n",
      "\n",
      "       Traitement  Variation de stock  Année  Population  \n",
      "70858         0.0                 0.0   2017  10513104.0  \n",
      "70864         0.0                 0.0   2017  10513104.0  \n",
      "70876         3.0                 0.0   2017  10513104.0  \n",
      "70882         0.0                 0.0   2017  10513104.0  \n",
      "70888         0.0                 0.0   2017  10513104.0  \n",
      "...           ...                 ...    ...         ...  \n",
      "71302         0.0                 0.0   2017  10513104.0  \n",
      "71308         0.0                 0.0   2017  10513104.0  \n",
      "71314         0.0                 0.0   2017  10513104.0  \n",
      "71350         0.0                 0.0   2017  10513104.0  \n",
      "71356         0.0                 0.0   2017  10513104.0  \n",
      "\n",
      "[64 rows x 20 columns]\n"
     ]
    }
   ],
   "source": [
    "print (data_vegetauxrd)"
   ]
  },
  {
   "cell_type": "code",
   "execution_count": 153,
   "id": "9f9e5900-c87a-4bae-a0b6-25209fa2559d",
   "metadata": {},
   "outputs": [
    {
     "name": "stdout",
     "output_type": "stream",
     "text": [
      "Total de vegetaux: 519199620.0 kg an\n"
     ]
    }
   ],
   "source": [
    "total_vegetaauxrd = data_vegetaux['Disponibilité alimentaire en quantité (kg/personne/an)'].sum()\n",
    "print(f'Total de vegetaux: {total_vegetaauxrd} kg an')"
   ]
  },
  {
   "cell_type": "code",
   "execution_count": 157,
   "id": "c9abdc1f-8b51-4614-ba22-b891f8ecaf49",
   "metadata": {},
   "outputs": [
    {
     "name": "stdout",
     "output_type": "stream",
     "text": [
      "Production total: 51436800.0 kg an\n"
     ]
    }
   ],
   "source": [
    "prod_vegetauxrd = data_vegetaux['Production'].sum()\n",
    "print (f'Production total: {prod_vegetauxrd} kg an')"
   ]
  },
  {
   "cell_type": "code",
   "execution_count": 154,
   "id": "ffb8d17b-680b-4e6d-a633-65f07cd9d00f",
   "metadata": {},
   "outputs": [
    {
     "name": "stdout",
     "output_type": "stream",
     "text": [
      "Importations total: 6148302.0 kg\n"
     ]
    }
   ],
   "source": [
    "import_vegetauxrd = data_vegetaux['Importations - Quantité'].sum()\n",
    "print(f'Importations total: {import_vegetauxrd} kg')"
   ]
  },
  {
   "cell_type": "code",
   "execution_count": 155,
   "id": "612c7796-fc06-4adf-991e-6c24524509f9",
   "metadata": {},
   "outputs": [
    {
     "name": "stdout",
     "output_type": "stream",
     "text": [
      "Exportation total: 6570186.0 kg\n"
     ]
    }
   ],
   "source": [
    "export_vegetauxrd = data_vegetaux['Exportations - Quantité'].sum()\n",
    "print(f'Exportation total: {export_vegetauxrd} kg')"
   ]
  },
  {
   "cell_type": "code",
   "execution_count": 159,
   "id": "4a7dab4f-e669-45c4-81d3-8276d41e48f5",
   "metadata": {},
   "outputs": [
    {
     "name": "stdout",
     "output_type": "stream",
     "text": [
      "En 2017 la disponibilité de vegetaux en rd: 51014916.0 kg\n"
     ]
    }
   ],
   "source": [
    "dif = prod_vegetauxrd - (export_vegetauxrd - import_vegetauxrd)\n",
    "print (f'En 2017 la disponibilité de vegetaux en rd: {dif} kg')"
   ]
  },
  {
   "cell_type": "code",
   "execution_count": 169,
   "id": "b0dd0cc9-e758-4d76-9673-0183c06957fb",
   "metadata": {},
   "outputs": [
    {
     "name": "stdout",
     "output_type": "stream",
     "text": [
      "En 2017 le total de la poblation en RD: 10513104.0 habitants\n"
     ]
    }
   ],
   "source": [
    "poblation_total_rd2017 = 10513104.0\n",
    "print (f'En 2017 le total de la poblation en RD: {poblation_total_rd2017} habitants')"
   ]
  },
  {
   "cell_type": "code",
   "execution_count": 185,
   "id": "b959ff4c-cf2b-4d28-93f0-54afa349a295",
   "metadata": {},
   "outputs": [
    {
     "name": "stdout",
     "output_type": "stream",
     "text": [
      "0.2060790220648408 personnes ont était nourris en 2017\n"
     ]
    }
   ],
   "source": [
    "quantité_nourris = poblation_total_rd2017 / dif\n",
    "print (f'{quantité_nourris} personnes ont était nourris en 2017')"
   ]
  },
  {
   "cell_type": "code",
   "execution_count": 192,
   "id": "ff364912-f426-4860-8ff1-e15201a6c7ea",
   "metadata": {},
   "outputs": [
    {
     "name": "stdout",
     "output_type": "stream",
     "text": [
      "Total Alimentation Humaine: 46.018266303477006\n",
      "Total Alimentation Animale: 9.846178497035732\n",
      "Total Pertes: 4.013779842973882\n"
     ]
    }
   ],
   "source": [
    "#donner la part de l'alimentation humaine, animale et perdue\n",
    "disponibilite_interieurd = (data_vegetauxrd['Disponibilité intérieure'].sum())\n",
    "\n",
    "# Calcule total alimentation humaine\n",
    "dispo_humainevegrd = (data_vegetauxrd['Nourriture'].sum() / (disponibilite_interieurd)) * 100   \n",
    "\n",
    "# Filtre de \"Aliments pour animaux\"\n",
    "dispo_animalevegrd = (data_vegetauxrd['Aliments pour animaux'].sum() / (disponibilite_interieurd)) *100\n",
    "\n",
    "# Filtre \"Pertes\"\n",
    "dispo_pertesvegrd = (data_vegetauxrd['Pertes'].sum() / (disponibilite_interieurd)) *100\n",
    "\n",
    "\n",
    "print(\"Total Alimentation Humaine:\", dispo_humainevegrd)\n",
    "print(\"Total Alimentation Animale:\", dispo_animalevegrd)\n",
    "print(\"Total Pertes:\", dispo_pertesvegrd)"
   ]
  }
 ],
 "metadata": {
  "kernelspec": {
   "display_name": "Python 3 (ipykernel)",
   "language": "python",
   "name": "python3"
  },
  "language_info": {
   "codemirror_mode": {
    "name": "ipython",
    "version": 3
   },
   "file_extension": ".py",
   "mimetype": "text/x-python",
   "name": "python",
   "nbconvert_exporter": "python",
   "pygments_lexer": "ipython3",
   "version": "3.10.9"
  },
  "toc-autonumbering": true,
  "toc-showcode": false,
  "toc-showmarkdowntxt": true
 },
 "nbformat": 4,
 "nbformat_minor": 5
}
