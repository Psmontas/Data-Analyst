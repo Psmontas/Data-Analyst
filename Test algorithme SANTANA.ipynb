{
 "cells": [
  {
   "cell_type": "code",
   "execution_count": 2,
   "id": "b4f49786-0b61-40b6-a520-acbd60c5a16a",
   "metadata": {},
   "outputs": [],
   "source": [
    "# Importation des librairies\n",
    "\n",
    "import pandas as pd\n",
    "import numpy as np\n",
    "import matplotlib.pyplot as plt\n",
    "import seaborn as sns\n",
    "from sklearn.model_selection import train_test_split\n",
    "from sklearn.linear_model import LogisticRegression\n",
    "from sklearn.cluster import KMeans\n",
    "from sklearn.metrics import confusion_matrix, accuracy_score, precision_score, recall_score, f1_score\n",
    "from sklearn.linear_model import LinearRegression\n",
    "from sklearn.model_selection import train_test_split\n",
    "from scipy.stats import shapiro\n",
    "import statsmodels.api as sm\n",
    "import statsmodels.formula.api as smf\n",
    "from statsmodels.stats.outliers_influence import variance_inflation_factor\n",
    "from sklearn.impute import KNNImputer\n",
    "from sklearn.experimental import enable_iterative_imputer\n",
    "from sklearn.impute import IterativeImputer\n",
    "from sklearn.metrics import accuracy_score, roc_auc_score, confusion_matrix, classification_report\n",
    "from sklearn.metrics import ConfusionMatrixDisplay, confusion_matrix\n",
    "from sklearn.preprocessing import StandardScaler\n",
    "from sklearn.preprocessing import LabelEncoder\n",
    "from statsmodels.stats.outliers_influence import variance_inflation_factor\n",
    "from statsmodels.tools.tools import add_constant\n",
    "import scipy.stats as stats\n",
    "import joblib\n",
    "from sklearn.decomposition import PCA\n",
    "import pickle\n",
    "import pandas as pd\n",
    "import pickle\n",
    "from sklearn.preprocessing import StandardScaler\n",
    "import pickle\n",
    "from sklearn.preprocessing import StandardScaler\n",
    "from sklearn.linear_model import LogisticRegression\n",
    "from sklearn.model_selection import train_test_split\n",
    "from sklearn.datasets import load_iris\n",
    "from sklearn.ensemble import RandomForestClassifier"
   ]
  },
  {
   "cell_type": "code",
   "execution_count": null,
   "id": "29c23661-9a6d-4211-9eaf-79b7382109a0",
   "metadata": {},
   "outputs": [],
   "source": []
  },
  {
   "cell_type": "code",
   "execution_count": null,
   "id": "6cc0309f-84d6-4aef-9ade-c15371714d8a",
   "metadata": {},
   "outputs": [],
   "source": []
  },
  {
   "cell_type": "code",
   "execution_count": null,
   "id": "8fc8811e-3d51-4391-abde-aad9701b3529",
   "metadata": {},
   "outputs": [],
   "source": []
  },
  {
   "cell_type": "markdown",
   "id": "dc0f3fe5-b481-490e-aac5-1129b127c2f3",
   "metadata": {},
   "source": [
    "# Test de l’algorithme\n",
    "# Regression logistique classique\n",
    "\n"
   ]
  },
  {
   "cell_type": "code",
   "execution_count": 6,
   "id": "68dfbd64-2c36-4397-8334-4e4e181ecf33",
   "metadata": {},
   "outputs": [],
   "source": [
    "test = pd.read_csv('billets_test.csv')"
   ]
  },
  {
   "cell_type": "code",
   "execution_count": 7,
   "id": "8aec71bb-a8a9-4777-b24d-b1a4b09d2fb8",
   "metadata": {},
   "outputs": [
    {
     "data": {
      "text/html": [
       "<div>\n",
       "<style scoped>\n",
       "    .dataframe tbody tr th:only-of-type {\n",
       "        vertical-align: middle;\n",
       "    }\n",
       "\n",
       "    .dataframe tbody tr th {\n",
       "        vertical-align: top;\n",
       "    }\n",
       "\n",
       "    .dataframe thead th {\n",
       "        text-align: right;\n",
       "    }\n",
       "</style>\n",
       "<table border=\"1\" class=\"dataframe\">\n",
       "  <thead>\n",
       "    <tr style=\"text-align: right;\">\n",
       "      <th></th>\n",
       "      <th>diagonal</th>\n",
       "      <th>height_left</th>\n",
       "      <th>height_right</th>\n",
       "      <th>margin_low</th>\n",
       "      <th>margin_up</th>\n",
       "      <th>length</th>\n",
       "      <th>id</th>\n",
       "    </tr>\n",
       "  </thead>\n",
       "  <tbody>\n",
       "    <tr>\n",
       "      <th>0</th>\n",
       "      <td>172.09</td>\n",
       "      <td>103.95</td>\n",
       "      <td>103.73</td>\n",
       "      <td>4.39</td>\n",
       "      <td>3.09</td>\n",
       "      <td>113.19</td>\n",
       "      <td>B_1</td>\n",
       "    </tr>\n",
       "    <tr>\n",
       "      <th>1</th>\n",
       "      <td>171.52</td>\n",
       "      <td>104.17</td>\n",
       "      <td>104.03</td>\n",
       "      <td>5.27</td>\n",
       "      <td>3.16</td>\n",
       "      <td>111.82</td>\n",
       "      <td>B_2</td>\n",
       "    </tr>\n",
       "    <tr>\n",
       "      <th>2</th>\n",
       "      <td>171.78</td>\n",
       "      <td>103.80</td>\n",
       "      <td>103.75</td>\n",
       "      <td>3.81</td>\n",
       "      <td>3.24</td>\n",
       "      <td>113.39</td>\n",
       "      <td>B_3</td>\n",
       "    </tr>\n",
       "    <tr>\n",
       "      <th>3</th>\n",
       "      <td>172.02</td>\n",
       "      <td>104.08</td>\n",
       "      <td>103.99</td>\n",
       "      <td>5.57</td>\n",
       "      <td>3.30</td>\n",
       "      <td>111.10</td>\n",
       "      <td>B_4</td>\n",
       "    </tr>\n",
       "    <tr>\n",
       "      <th>4</th>\n",
       "      <td>171.79</td>\n",
       "      <td>104.34</td>\n",
       "      <td>104.37</td>\n",
       "      <td>5.00</td>\n",
       "      <td>3.07</td>\n",
       "      <td>111.87</td>\n",
       "      <td>B_5</td>\n",
       "    </tr>\n",
       "  </tbody>\n",
       "</table>\n",
       "</div>"
      ],
      "text/plain": [
       "   diagonal  height_left  height_right  margin_low  margin_up  length   id\n",
       "0    172.09       103.95        103.73        4.39       3.09  113.19  B_1\n",
       "1    171.52       104.17        104.03        5.27       3.16  111.82  B_2\n",
       "2    171.78       103.80        103.75        3.81       3.24  113.39  B_3\n",
       "3    172.02       104.08        103.99        5.57       3.30  111.10  B_4\n",
       "4    171.79       104.34        104.37        5.00       3.07  111.87  B_5"
      ]
     },
     "execution_count": 7,
     "metadata": {},
     "output_type": "execute_result"
    }
   ],
   "source": [
    "test"
   ]
  },
  {
   "cell_type": "code",
   "execution_count": 8,
   "id": "777074ec-f904-42ec-8dca-901e9393fae8",
   "metadata": {},
   "outputs": [
    {
     "name": "stdout",
     "output_type": "stream",
     "text": [
      "   diagonal  height_left  height_right  margin_low  margin_up  length   id  \\\n",
      "0    172.09       103.95        103.73        4.39       3.09  113.19  B_1   \n",
      "1    171.52       104.17        104.03        5.27       3.16  111.82  B_2   \n",
      "2    171.78       103.80        103.75        3.81       3.24  113.39  B_3   \n",
      "3    172.02       104.08        103.99        5.57       3.30  111.10  B_4   \n",
      "4    171.79       104.34        104.37        5.00       3.07  111.87  B_5   \n",
      "\n",
      "  is_genuine_pred  \n",
      "0            vrai  \n",
      "1            faux  \n",
      "2            vrai  \n",
      "3            faux  \n",
      "4            faux  \n"
     ]
    }
   ],
   "source": [
    "# Séparer les caractéristiques et l'identifiant\n",
    "X_test_new = test.drop(columns='id')\n",
    "\n",
    "# Normaliser les nouvelles données avec le scaler utilisé lors de l'entraînement\n",
    "scaler = StandardScaler()\n",
    "X_test_new_scaled = scaler.fit_transform(X_test_new)  \n",
    "\n",
    "# Charger le modèle de régression logistique sauvegardé\n",
    "with open('modele_logistique.pkl', 'rb') as file:\n",
    "    model = pickle.load(file)\n",
    "\n",
    "# Faire des prédictions avec les nouvelles données\n",
    "y_pred_new = model.predict(X_test_new_scaled)\n",
    "\n",
    "# Convertir les prédictions en 'vrai' et 'faux'\n",
    "y_pred_new_mapped = ['vrai' if pred == 1 else 'faux' for pred in y_pred_new]\n",
    "\n",
    "# Ajouter les prédictions au DataFrame original\n",
    "test['is_genuine_pred'] = y_pred_new_mapped\n",
    "\n",
    "# Afficher le DataFrame avec les prédictions\n",
    "print(test)"
   ]
  },
  {
   "cell_type": "code",
   "execution_count": null,
   "id": "aa876a87-f423-43f0-a858-d211cf71ea38",
   "metadata": {},
   "outputs": [],
   "source": []
  },
  {
   "cell_type": "code",
   "execution_count": null,
   "id": "432c8517-6c99-446e-94fa-af68fdd80efb",
   "metadata": {},
   "outputs": [],
   "source": []
  }
 ],
 "metadata": {
  "kernelspec": {
   "display_name": "Python 3 (ipykernel)",
   "language": "python",
   "name": "python3"
  },
  "language_info": {
   "codemirror_mode": {
    "name": "ipython",
    "version": 3
   },
   "file_extension": ".py",
   "mimetype": "text/x-python",
   "name": "python",
   "nbconvert_exporter": "python",
   "pygments_lexer": "ipython3",
   "version": "3.10.9"
  }
 },
 "nbformat": 4,
 "nbformat_minor": 5
}
